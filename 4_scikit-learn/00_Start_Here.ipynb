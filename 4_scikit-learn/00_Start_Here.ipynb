{
 "cells": [
  {
   "cell_type": "markdown",
   "metadata": {},
   "source": [
    "Scikit-learn Tutorial\n",
    "================================"
   ]
  },
  {
   "cell_type": "markdown",
   "metadata": {},
   "source": [
    "---\n",
    "- This presentation is part of the [__Scientific Python Training Series__](https://github.com/burkesquires/scientific_python_training). \n",
    "- Source: This material adapted from Andreas Mueller and Kyle Kastner [scikit-learn tutorial](http://github.com/amueller/scipy_2015_sklearn_tutorial)\n",
    "---"
   ]
  },
  {
   "cell_type": "markdown",
   "metadata": {},
   "source": [
    "## Outline"
   ]
  },
  {
   "cell_type": "markdown",
   "metadata": {},
   "source": [
    "- [What is machine learning?](notebooks/01.1%20Introduction%20to%20Machine%20Learning.ipynb)\n",
    "    - Kinds of machine learning: unsupervised vs supervised.\n",
    "- [Data formats and preparation](notebooks/01.3%20Data%20Representation%20for%20Machine%20Learning.ipynb)\n",
    "\n",
    "- Supervised learning\n",
    "    - Interface\n",
    "    - [Training and test data](notebooks/01.4%20Training%20and%20Testing%20Data.ipynb)\n",
    "    - [Classification](notebooks/02.1%20Supervised%20Learning%20-%20Classification.ipynb)\n",
    "    - [Regression](notebooks/02.2%20Supervised%20Learning%20-%20Regression.ipynb)\n",
    "    - Case Study : [Classification of digits](notebooks/03.1%20Case%20Study%20-%20Supervised%20Classification%20of%20Handwritten%20Digits.ipynb)\n",
    "\n",
    "- Unsupervised Learning\n",
    "    - [Unsupervised transformers](notebooks/02.3%20Unsupervised%20Learning%20-%20Transformations%20and%20Dimensionality%20Reduction.ipynb)\n",
    "    - Preprocessing and scaling\n",
    "    - Dimensionality reduction\n",
    "    - [Clustering](notebooks/02.4%20Unsupervised%20Learning%20-%20Clustering.ipynb)\n",
    "    - Case Study : [Eigenfaces](notebooks/03.3%20Case%20Study%20-%20Face%20Recognition%20with%20Eigenfaces.ipynb)\n",
    "- Methods: [Text feature abstraction, bag of words](notebooks/03.4%20Methods%20-%20Text%20Feature%20Extraction.ipynb)\n"
   ]
  },
  {
   "cell_type": "markdown",
   "metadata": {},
   "source": [
    "Other case Studies:\n",
    "- Case Study : [SMS spam detection](notebooks/03.5%20Case%20Study%20-%20SMS%20Spam%20Detection.ipynb)\n",
    "- Case Study : [Titanic survival with Random Forest](notebooks/03.6%20Case%20Study%20-%20Titanic%20Survival.ipynb)\n",
    "- Case Study : [Image classification](notebooks/03.3%20Case%20Study%20-%20Face%20Recognition%20with%20Eigenfaces.ipynb)\n",
    "\n",
    "\n",
    "Additional Topics\n",
    "- [Cross-Validation](notebooks/04.1%20Cross%20Validation.ipynb)\n",
    "    - Basic regression with cross-validation\n",
    "- [Model Complexity: Overfitting and underfitting](notebooks/04.2%20Model%20Complexity%20and%20GridSearchCV.ipynb)\n",
    "    - Complexity of various model types\n",
    "    - Grid search for adjusting hyperparameters \n",
    "- [Pipeline Estimators](notebooks/06.1%20Pipelining%20Estimators.ipynb)\n",
    "    - Motivation and Basics\n",
    "    - Preprocessing and Classification\n",
    "    - Grid-searching Parameters of the feature extraction\n",
    "- [Model complexity, learning curves and validation curves](notebooks/04.3%20Analyzing%20Model%20Capacity.ipynb)\n",
    "- In-Depth supervised models\n",
    "    - [Linear Models](notebooks/05.1%20In%20Depth%20-%20Linear%20Models.ipynb)\n",
    "    - [Kernel SVMs](notebooks/05.2%20In%20Depth%20-%20Support%20Vector%20Machines.ipynb)\n",
    "    - [Trees and Forests](notebooks/05.3%20In%20Depth%20-%20Trees%20and%20Forests.ipynb)\n",
    "- [Learning with Big Data](notebooks/07.1%20Case%20Study%20-%20Large%20Scale%20Text%20Classification.ipynb)\n",
    "    - Out-Of-Core learning\n",
    "    - The hashing trick for large text corpuses"
   ]
  },
  {
   "cell_type": "code",
   "execution_count": null,
   "metadata": {},
   "outputs": [],
   "source": []
  }
 ],
 "metadata": {
  "kernelspec": {
   "display_name": "Python 3 (ipykernel)",
   "language": "python",
   "name": "python3"
  },
  "language_info": {
   "codemirror_mode": {
    "name": "ipython",
    "version": 3
   },
   "file_extension": ".py",
   "mimetype": "text/x-python",
   "name": "python",
   "nbconvert_exporter": "python",
   "pygments_lexer": "ipython3",
   "version": "3.9.12"
  }
 },
 "nbformat": 4,
 "nbformat_minor": 4
}
