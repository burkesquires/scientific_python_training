{
 "cells": [
  {
   "cell_type": "markdown",
   "metadata": {},
   "source": [
    "Scikit-learn Tutorial\n",
    "================================"
   ]
  },
  {
   "cell_type": "markdown",
   "metadata": {},
   "source": [
    "---\n",
    "- This presentation is part of the [__Scientific Python Training Series__](https://github.com/burkesquires/scientific_python_training). \n",
    "- Source: This material adapted from Andreas Mueller and Kyle Kastner [scikit-learn tutorial](https://github.com/amueller/scipy-2016-sklearn)\n",
    "---"
   ]
  },
  {
   "cell_type": "markdown",
   "metadata": {},
   "source": [
    "## Topics"
   ]
  },
  {
   "cell_type": "markdown",
   "metadata": {},
   "source": [
    "- [What is machine learning?](<notebooks/01 Introduction to Machine Learning.ipynb>)\n",
    "- 01 Introduction to Machine Learning.ipynb\n",
    "- 02 Scientific Computing Tools in Python.ipynb\n",
    "- 03 Data Representation for Machine Learning.ipynb\n",
    "- 04 Training and Testing Data.ipynb\n",
    "- 05 Supervised Learning - Classification.ipynb\n",
    "- 06 Supervised Learning - Regression.ipynb\n",
    "- 07 Unsupervised Learning - Transformations and Dimensionality Reduction.ipynb\n",
    "- 08 Unsupervised Learning - Clustering.ipynb\n",
    "- 09 Review of Scikit-learn API.ipynb\n",
    "- 10 Case Study - Titanic Survival.ipynb\n",
    "- 11 Text Feature Extraction.ipynb\n",
    "- 12 Case Study - SMS Spam Detection.ipynb\n",
    "- 13 Cross Validation.ipynb\n",
    "- 14 Model Complexity and GridSearchCV.ipynb\n",
    "- 15 Pipelining Estimators.ipynb\n",
    "- 16 Performance metrics and Model Evaluation.ipynb\n",
    "- 17 In Depth - Linear Models.ipynb\n",
    "- 18 In Depth - Support Vector Machines.ipynb\n",
    "- 19 In Depth - Trees and Forests.ipynb\n",
    "- 20 Feature Selection.ipynb\n",
    "- 21 Unsupervised learning - Hierarchical and density-based clustering algorithms.ipynb\n",
    "- 22 Unsupervised learning - Non-linear dimensionality reduction.ipynb\n",
    "- 23 Out-of-core Learning Large Scale Text Classification.ipynb\n"
   ]
  }
 ],
 "metadata": {
  "kernelspec": {
   "display_name": "Python 3 (ipykernel)",
   "language": "python",
   "name": "python3"
  },
  "language_info": {
   "codemirror_mode": {
    "name": "ipython",
    "version": 3
   },
   "file_extension": ".py",
   "mimetype": "text/x-python",
   "name": "python",
   "nbconvert_exporter": "python",
   "pygments_lexer": "ipython3",
   "version": "3.9.12"
  }
 },
 "nbformat": 4,
 "nbformat_minor": 4
}
