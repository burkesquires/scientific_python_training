{
 "cells": [
  {
   "cell_type": "markdown",
   "id": "eight-coalition",
   "metadata": {},
   "source": [
    "# Scientific Python Training"
   ]
  },
  {
   "cell_type": "markdown",
   "id": "sporting-budget",
   "metadata": {},
   "source": [
    "---\n",
    "\n",
    "- Author: R. Burke Squires\n",
    "- This presentation is part of the [__Scientific Python Training Series__](https://github.com/burkesquires/scientific_python_training).\n",
    "\n",
    "---"
   ]
  },
  {
   "cell_type": "markdown",
   "id": "egyptian-israel",
   "metadata": {},
   "source": [
    "## Outline\n",
    "- Python\n",
    "    - [Why Python](1_python/01_why_python.ipynb)\n",
    "    - [How to run a Python script](1_python/02_how_to_run_python_code.ipynb)\n",
    "    - [Introduction to Python Programming](1_python/03_intro_python_programming_2021.ipynb)\n",
    "- Pandas - Python Data Analysis\n",
    "    - [Why `numpy`](2_pandas/0-Why-numpy.ipynb)\n",
    "    - [Introduction to `pandas`](2_pandas/1-Introduction-to-pandas.ipynb)\n",
    "    - [Pandas Fundamentals](2_pandas/2-Pandas-Fundamentals.ipynb)\n",
    "    [Data Wrangling with `pandas`](2_pandas/3-Data-Wrangling-with-pandas.ipynb)\n",
    "- SciPy - Python Scientific Computation\n",
    "- Scikit-Learn - Python Machine Learning\n",
    "\n"
   ]
  },
  {
   "cell_type": "markdown",
   "id": "toxic-animal",
   "metadata": {},
   "source": [
    "---"
   ]
  },
  {
   "cell_type": "markdown",
   "id": "heard-marketing",
   "metadata": {},
   "source": [
    "#### Anaconda\n",
    "\n",
    "This training assumes you have a recent version of the `Anaconda Personal Edition` installed. \n",
    "\n",
    "- If you do not you can find installation instructions here: https://docs.anaconda.com/anaconda/install/\n",
    "- For information on Getting Started with `Anaconda` please see: https://docs.anaconda.com/anaconda/user-guide/getting-started/\n",
    "- See the `Anaconda` user interface here: https://docs.anaconda.com/anaconda/navigator/\n",
    "- Get an overview on `Anaconda` here: https://docs.anaconda.com/anaconda/navigator/overview/\n",
    "- You can get teh `Anaconda` cheat-sheet here: https://docs.anaconda.com/_downloads/9ee215ff15fde24bf01791d719084950/Anaconda-Starter-Guide.pdf\n",
    "\n",
    "If you prefer to the the command line, you can see Getting Started with `conda` here: https://conda.io/projects/conda/en/latest/user-guide/getting-started.html"
   ]
  },
  {
   "cell_type": "code",
   "execution_count": null,
   "id": "bound-slovakia",
   "metadata": {},
   "outputs": [],
   "source": []
  }
 ],
 "metadata": {
  "kernelspec": {
   "display_name": "Python 3 (ipykernel)",
   "language": "python",
   "name": "python3"
  },
  "language_info": {
   "codemirror_mode": {
    "name": "ipython",
    "version": 3
   },
   "file_extension": ".py",
   "mimetype": "text/x-python",
   "name": "python",
   "nbconvert_exporter": "python",
   "pygments_lexer": "ipython3",
   "version": "3.9.13"
  }
 },
 "nbformat": 4,
 "nbformat_minor": 5
}
