{
 "cells": [
  {
   "cell_type": "markdown",
   "id": "be777dcd-0eb4-4f7b-80d0-decb1a9b1bec",
   "metadata": {},
   "source": [
    "# What is `SciPy`?"
   ]
  },
  {
   "cell_type": "markdown",
   "id": "23c99b36-7e86-4668-a18a-0df10cbc4a8a",
   "metadata": {},
   "source": [
    "---\n",
    "\n",
    "Adapted from sources including: [Elegant SciPy](https://github.com/elegant-scipy), [SciPy-lectures](https://scipy-lectures.org/intro/scipy.html), [Scipython](https://scipython.com/book/), [W3Schools](https://www.w3schools.com/python/scipy/index.php)\n",
    "\n",
    "---"
   ]
  },
  {
   "cell_type": "markdown",
   "id": "e248015e-8395-417c-ace6-5d347783800e",
   "metadata": {},
   "source": [
    "- `SciPy` is an open-source package that builds on the strengths of Python and Numeric, providing a wide range of fast scientific and numeric functionality. \n",
    "\n",
    "- SciPy’s current module set includes the following:\n",
    "    - Special functions (Bessel, Hankel, Airy and others) \n",
    "    - Signal/image processing\n",
    "    - 2D plotting capabilities\n",
    "    - Integration\n",
    "    - ODE solvers\n",
    "    - Optimization (simplex, BFGS, Newton-CG and others) \n",
    "    - Genetic algorithms\n",
    "    - Numeric to C++ expression compiler\n",
    "    - Parallel programming tools\n",
    "    - Splines and interpolation\n",
    "    \n",
    "    - __Source__: From 'SciPy 1.0: fundamental algorithms for scientific computing in Python', P Virtanen, R Gommers, TE Oliphant, M Haberland, T Reddy, et al. Nature methods 17 (3), 261-272'\n",
    "\n",
    "\n",
    "\n",
    "- `SciPy` stands for Scientific Python.\n",
    "\n",
    "- Like NumPy, `SciPy` is open source so we can use it freely.\n",
    "\n",
    "- `SciPy` was created by NumPy's creator Travis Olliphant.\n",
    "\n",
    "- Why Use `SciPy`?\n",
    "    - If `SciPy` uses NumPy underneath, why can we not just use NumPy?\n",
    "\n",
    "\n",
    "- `SciPy` has optimized and added functions that are frequently used in NumPy and Data Science.\n",
    "\n",
    "- Which Language is `SciPy` Written in?\n",
    "    - `SciPy` is predominantly written in Python, but a few segments are written in C.\n",
    "\n",
    "\n",
    "- Where is the `SciPy` Codebase?\n",
    "    - The source code for `SciPy` is located at this github repository https://github.com/SciPy/SciPy\n",
    "    "
   ]
  },
  {
   "cell_type": "markdown",
   "id": "d6c2b0ff-04f7-44e0-9303-90285a066d77",
   "metadata": {},
   "source": [
    "### Additional information is available\n",
    "\n",
    "- SciPy tutorial (https:// docs.scipy.org/doc/scipy/reference/tutorial/) \n",
    "- API reference (https://docs.scipy.org/doc/scipy/reference/index.html#api- reference)"
   ]
  },
  {
   "cell_type": "markdown",
   "id": "8606eade-e48e-46f1-b980-31ebb4ae6cb6",
   "metadata": {},
   "source": [
    "### Sources:"
   ]
  },
  {
   "cell_type": "markdown",
   "id": "40b68216-f6a1-43ee-8de4-c3f01d5a6d77",
   "metadata": {},
   "source": [
    "There are a number of excellent sources of `scipy` training materials including:\n",
    "\n",
    "- [Elegant SciPy](https://github.com/elegant-scipy)\n",
    "- [SciPy-lectures](https://scipy-lectures.org/intro/scipy.html)\n",
    "- [Scipython](https://scipython.com/book/)\n",
    "- [W3Schools](https://www.w3schools.com/python/scipy/index.php)"
   ]
  },
  {
   "cell_type": "code",
   "execution_count": null,
   "id": "1d4ae12f-728e-4168-b54c-93366405656b",
   "metadata": {},
   "outputs": [],
   "source": []
  }
 ],
 "metadata": {
  "kernelspec": {
   "display_name": "Python 3 (ipykernel)",
   "language": "python",
   "name": "python3"
  },
  "language_info": {
   "codemirror_mode": {
    "name": "ipython",
    "version": 3
   },
   "file_extension": ".py",
   "mimetype": "text/x-python",
   "name": "python",
   "nbconvert_exporter": "python",
   "pygments_lexer": "ipython3",
   "version": "3.9.12"
  }
 },
 "nbformat": 4,
 "nbformat_minor": 5
}
