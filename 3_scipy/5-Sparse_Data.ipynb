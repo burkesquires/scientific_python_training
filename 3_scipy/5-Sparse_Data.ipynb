{
 "cells": [
  {
   "cell_type": "markdown",
   "id": "ddb50441-7817-4188-8cbf-0d7abb895141",
   "metadata": {},
   "source": [
    "# SciPy Sparse Data"
   ]
  },
  {
   "cell_type": "markdown",
   "id": "262ed5b9-e5de-46b6-97b7-5c60cbea2f47",
   "metadata": {},
   "source": [
    "---\n",
    "\n",
    "Adapted from sources including: [Elegant SciPy](https://github.com/elegant-scipy), [SciPy-lectures](https://scipy-lectures.org/intro/scipy.html), [Scipython](https://scipython.com/book/), [W3Schools](https://www.w3schools.com/python/scipy/index.php)\n",
    "\n",
    "---"
   ]
  },
  {
   "cell_type": "markdown",
   "id": "530511b3-ef4d-4f9f-be86-61228ad37443",
   "metadata": {},
   "source": [
    "## What is Sparse Data"
   ]
  },
  {
   "cell_type": "markdown",
   "id": "674ddcb9-704c-4d01-b61c-3178736e38d5",
   "metadata": {},
   "source": [
    "Sparse data is data that has mostly unused elements (elements that don't carry any information ).\n",
    "\n",
    "It can be an array like this one:\n",
    "\n",
    "[1, 0, 2, 0, 0, 3, 0, 0, 0, 0, 0, 0]\n",
    "\n",
    "__Sparse Data__: is a data set where most of the item values are zero.\n",
    "\n",
    "__Dense Array__: is the opposite of a sparse array: most of the values are not zero.\n",
    "\n",
    "In scientific computing, when we are dealing with partial derivatives in linear algebra we will come across sparse data."
   ]
  },
  {
   "cell_type": "markdown",
   "id": "f3117ee2-d2ac-4e58-ab41-0f28f50d7b3e",
   "metadata": {},
   "source": [
    "## How to Work With Sparse Data"
   ]
  },
  {
   "cell_type": "markdown",
   "id": "ff9ff586-f5ee-4730-80ec-6bc5a0bde61f",
   "metadata": {},
   "source": [
    "SciPy has a module, `scipy.sparse` that provides functions to deal with sparse data.\n",
    "\n",
    "There are primarily two types of sparse matrices that we use:\n",
    "\n",
    "- CSC - Compressed Sparse Column. For efficient arithmetic, fast column slicing.\n",
    "\n",
    "- CSR - Compressed Sparse Row. For fast row slicing, faster matrix vector products\n",
    "\n",
    "We will use the CSR matrix in this tutorial."
   ]
  },
  {
   "cell_type": "markdown",
   "id": "0e7764b9-356e-4fed-9ca0-ce8c455201cd",
   "metadata": {},
   "source": [
    "## CSR Matrix"
   ]
  },
  {
   "cell_type": "markdown",
   "id": "590cc6a0-209f-453c-be33-64422b1566b9",
   "metadata": {},
   "source": [
    "We can create CSR matrix by passing an arrray into function `scipy.sparse.csr_matrix()`.\n",
    "\n",
    "Example\n",
    "\n",
    "Create a CSR matrix from an array:"
   ]
  },
  {
   "cell_type": "markdown",
   "id": "02b2b085-4afd-453b-a51c-c11fef8aeaba",
   "metadata": {},
   "source": [
    "```python\n",
    "import numpy as np\n",
    "from scipy.sparse import csr_matrix \n",
    "\n",
    "arr = np.array([0, 0, 0, 0, 0, 1, 1, 0, 2]) \n",
    "\n",
    "print(csr_matrix(arr))\n",
    "```"
   ]
  },
  {
   "cell_type": "markdown",
   "id": "148708d8-d202-4ab7-addb-82ac35caadda",
   "metadata": {},
   "source": [
    "#### Try it Yourself »"
   ]
  },
  {
   "cell_type": "code",
   "execution_count": null,
   "id": "9b973a41-4f4e-4046-91eb-cab81cdd4300",
   "metadata": {},
   "outputs": [],
   "source": []
  },
  {
   "cell_type": "markdown",
   "id": "06b784ab-21a4-4c5f-9ac4-2057e08d268f",
   "metadata": {},
   "source": [
    "The example above returns:\n",
    "\n",
    "    (0, 5)\t1\n",
    "    (0, 6)\t1\n",
    "    (0, 8)\t2\n",
    "\n",
    "From the result we can see that there are 3 items with value.\n",
    "\n",
    "The 1. item is in row 0 position 5 and has the value 1.\n",
    "\n",
    "The 2. item is in row 0 position 6 and has the value 1.\n",
    "\n",
    "The 3. item is in row 0 position 8 and has the value 2."
   ]
  },
  {
   "cell_type": "markdown",
   "id": "ea91103b-17b6-4bce-a99c-ee835fa66048",
   "metadata": {},
   "source": [
    "## Sparse Matrix Methods"
   ]
  },
  {
   "cell_type": "markdown",
   "id": "061286c8-25cd-4f1d-a989-103b41cf222a",
   "metadata": {},
   "source": [
    "### Viewing stored data (not the zero items) with the data property:\n",
    "\n",
    "Example"
   ]
  },
  {
   "cell_type": "markdown",
   "id": "aedf664f-29fa-440a-8389-8d5fba1ffb35",
   "metadata": {},
   "source": [
    "```python\n",
    "import numpy as np\n",
    "from scipy.sparse import csr_matrix \n",
    "\n",
    "arr = np.array([[0, 0, 0], [0, 0, 1], [1, 0, 2]]) \n",
    "\n",
    "print(csr_matrix(arr).data)\n",
    "```"
   ]
  },
  {
   "cell_type": "markdown",
   "id": "3c4edd96-343a-41a5-b3ae-37a120f1b9cf",
   "metadata": {},
   "source": [
    "#### Try it Yourself »"
   ]
  },
  {
   "cell_type": "code",
   "execution_count": null,
   "id": "f89c1b8e-0853-4d83-bce1-67da6465511a",
   "metadata": {},
   "outputs": [],
   "source": []
  },
  {
   "cell_type": "markdown",
   "id": "f5c5eebc-12f7-410e-8806-358478872b1b",
   "metadata": {},
   "source": [
    "### Counting nonzeros with the count_nonzero() method:\n",
    "\n",
    "Example"
   ]
  },
  {
   "cell_type": "markdown",
   "id": "74aa096e-c1d6-4696-83bd-ca9edd3e7e52",
   "metadata": {},
   "source": [
    "```python\n",
    "import numpy as np\n",
    "from scipy.sparse import csr_matrix \n",
    "\n",
    "arr = np.array([[0, 0, 0], [0, 0, 1], [1, 0, 2]]) \n",
    "\n",
    "print(csr_matrix(arr).count_nonzero())\n",
    "```"
   ]
  },
  {
   "cell_type": "markdown",
   "id": "22477824-018b-4a52-9071-7eb6ab559521",
   "metadata": {},
   "source": [
    "#### Try it Yourself »"
   ]
  },
  {
   "cell_type": "code",
   "execution_count": null,
   "id": "4f8ee047-289b-4b69-a7fc-8c2d23252c20",
   "metadata": {},
   "outputs": [],
   "source": []
  },
  {
   "cell_type": "markdown",
   "id": "5443606c-e89a-4c81-91d1-6392509aae06",
   "metadata": {},
   "source": [
    "### Removing zero-entries from the matrix with the eliminate_zeros() method:\n",
    "\n",
    "Example"
   ]
  },
  {
   "cell_type": "markdown",
   "id": "88e24023-7cc6-4bfc-b74d-d5177d00c117",
   "metadata": {},
   "source": [
    "```python\n",
    "import numpy as np\n",
    "from scipy.sparse import csr_matrix\n",
    "\n",
    "arr = np.array([[0, 0, 0], [0, 0, 1], [1, 0, 2]])\n",
    "\n",
    "mat = csr_matrix(arr)\n",
    "mat.eliminate_zeros()\n",
    "\n",
    "print(mat)\n",
    "```"
   ]
  },
  {
   "cell_type": "markdown",
   "id": "de6415f8-9d3d-4502-a258-d98f8237e295",
   "metadata": {},
   "source": [
    "#### Try it Yourself »"
   ]
  },
  {
   "cell_type": "code",
   "execution_count": null,
   "id": "bba54f0f-ac07-4304-a86b-0be9e378d84c",
   "metadata": {},
   "outputs": [],
   "source": []
  },
  {
   "cell_type": "markdown",
   "id": "7b844556-0976-4a07-9791-32e2dc3860d5",
   "metadata": {},
   "source": [
    "### Eliminating duplicate entries with the sum_duplicates() method:\n",
    "\n",
    "Example\n",
    "\n",
    "Eliminating duplicates by adding them:"
   ]
  },
  {
   "cell_type": "markdown",
   "id": "01057a8e-c415-48f9-ab4b-d6de8ba1257a",
   "metadata": {},
   "source": [
    "```python\n",
    "import numpy as np\n",
    "from scipy.sparse import csr_matrix\n",
    "\n",
    "arr = np.array([[0, 0, 0], [0, 0, 1], [1, 0, 2]])\n",
    "\n",
    "mat = csr_matrix(arr)\n",
    "mat.sum_duplicates()\n",
    "\n",
    "print(mat)\n",
    "```"
   ]
  },
  {
   "cell_type": "markdown",
   "id": "ab8f5de3-e9d7-4f90-b35c-c1b3e8700d77",
   "metadata": {},
   "source": [
    "#### Try it Yourself »"
   ]
  },
  {
   "cell_type": "code",
   "execution_count": null,
   "id": "adaace7d-0eb3-493a-8580-defb80f9e4e2",
   "metadata": {},
   "outputs": [],
   "source": []
  },
  {
   "cell_type": "markdown",
   "id": "9200f660-6eb5-4069-8595-ad010cf86fd6",
   "metadata": {},
   "source": [
    "Converting from csr to csc with the tocsc() method:\n",
    "\n",
    "Example"
   ]
  },
  {
   "cell_type": "markdown",
   "id": "89753f34-d562-49a4-923c-130540dded2c",
   "metadata": {},
   "source": [
    "```python\n",
    "import numpy as np\n",
    "from scipy.sparse import csr_matrix \n",
    "\n",
    "arr = np.array([[0, 0, 0], [0, 0, 1], [1, 0, 2]]) \n",
    "\n",
    "newarr = csr_matrix(arr).tocsc() \n",
    "\n",
    "print(newarr)\n",
    "```"
   ]
  },
  {
   "cell_type": "markdown",
   "id": "8ccdb81d-6ea6-4287-a356-7f37d2183941",
   "metadata": {},
   "source": [
    "#### Try it Yourself »"
   ]
  },
  {
   "cell_type": "code",
   "execution_count": null,
   "id": "45cae8b0-e254-440c-b07b-e29c2d3f8ea6",
   "metadata": {},
   "outputs": [],
   "source": []
  },
  {
   "cell_type": "markdown",
   "id": "5c7cfe58-bc79-4f5d-bbdb-e37212645ce4",
   "metadata": {},
   "source": [
    "Note: Apart from the mentioned sparse specific operations, sparse matrices support all of the operations that normal matrices support e.g. reshaping, summing, arithemetic, broadcasting etc."
   ]
  },
  {
   "cell_type": "markdown",
   "id": "5f8072f3-feee-43b5-a747-4cdf1481f76d",
   "metadata": {},
   "source": [
    "### Test Yourself With Exercises"
   ]
  },
  {
   "cell_type": "markdown",
   "id": "1b405964-c9aa-4fde-84d9-ee915d954846",
   "metadata": {},
   "source": [
    "Exercise:\n",
    "\n",
    "Insert the missing method to print the number of values in the array that are NOT zeros:\n",
    "\n",
    "```python\n",
    "import numpy as np\n",
    "from scipy.sparse import csr_matrix\n",
    "\n",
    "arr = np.array([[0, 0, 0], [0, 0, 1], [1, 0, 2]])\n",
    "\n",
    "print(csr_matrix(arr).())\n",
    "```"
   ]
  },
  {
   "cell_type": "code",
   "execution_count": null,
   "id": "0b685bd6-dda7-4d25-8ee9-021343c394e4",
   "metadata": {},
   "outputs": [],
   "source": []
  }
 ],
 "metadata": {
  "kernelspec": {
   "display_name": "Python 3 (ipykernel)",
   "language": "python",
   "name": "python3"
  },
  "language_info": {
   "codemirror_mode": {
    "name": "ipython",
    "version": 3
   },
   "file_extension": ".py",
   "mimetype": "text/x-python",
   "name": "python",
   "nbconvert_exporter": "python",
   "pygments_lexer": "ipython3",
   "version": "3.9.12"
  }
 },
 "nbformat": 4,
 "nbformat_minor": 5
}
