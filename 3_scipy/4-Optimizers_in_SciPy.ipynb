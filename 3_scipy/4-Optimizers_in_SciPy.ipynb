{
 "cells": [
  {
   "cell_type": "markdown",
   "id": "f4057896-afba-42d9-badc-6d5f06b39bf7",
   "metadata": {},
   "source": [
    "# Optimizers in SciPy"
   ]
  },
  {
   "cell_type": "markdown",
   "id": "0d3e183e-e0f1-4a70-b559-15f26315bcfe",
   "metadata": {},
   "source": [
    "---\n",
    "\n",
    "Adapted from sources including: [Elegant SciPy](https://github.com/elegant-scipy), [SciPy-lectures](https://scipy-lectures.org/intro/scipy.html), [Scipython](https://scipython.com/book/), [W3Schools](https://www.w3schools.com/python/scipy/index.php)\n",
    "\n",
    "---"
   ]
  },
  {
   "cell_type": "markdown",
   "id": "e7852f42-d996-4e20-8e88-6740013fa038",
   "metadata": {},
   "source": [
    "Optimizers are a set of procedures defined in SciPy that either find the minimum value of a function, or the root of an equation."
   ]
  },
  {
   "cell_type": "markdown",
   "id": "3422fc87-9413-44a5-a78f-3efa8a62636a",
   "metadata": {},
   "source": [
    "### Optimizing Functions"
   ]
  },
  {
   "cell_type": "markdown",
   "id": "9702a836-6e7e-4930-8bf5-e604cf51c2ec",
   "metadata": {},
   "source": [
    "Essentially, all of the algorithms in Machine Learning are nothing more than a complex equation that needs to be minimized with the help of given data."
   ]
  },
  {
   "cell_type": "markdown",
   "id": "b3f5d3b9-4e10-4d89-bf82-30efcd35d3a1",
   "metadata": {},
   "source": [
    "### Roots of an Equation"
   ]
  },
  {
   "cell_type": "markdown",
   "id": "b3df1129-3e65-4578-9c58-0189a477f540",
   "metadata": {},
   "source": [
    "NumPy is capable of finding roots for polynomials and linear equations, but it can not find roots for non linear equations, like this one:\n",
    "\n",
    "```python\n",
    "x + cos(x)\n",
    "```\n",
    "\n",
    "For that you can use SciPy's optimze.root function.\n",
    "\n",
    "This function takes two required arguments:\n",
    "\n",
    "    fun - a function representing an equation.\n",
    "\n",
    "    x0 - an initial guess for the root.\n",
    "\n",
    "The function returns an object with information regarding the solution.\n",
    "\n",
    "The actual solution is given under attribute x of the returned object:"
   ]
  },
  {
   "cell_type": "markdown",
   "id": "dc18c05d-9daf-43aa-b202-5c22d6e96f97",
   "metadata": {},
   "source": [
    "Example\n",
    "\n",
    "Find root of the equation x + cos(x):"
   ]
  },
  {
   "cell_type": "markdown",
   "id": "b8836c9f-a69a-46c4-9680-9b2e079572e6",
   "metadata": {},
   "source": [
    "```python\n",
    "from scipy.optimize import root \n",
    "from math import cos \n",
    "\n",
    "def eqn(x):\n",
    "  return x + cos(x)\n",
    "\n",
    "myroot = root(eqn, 0)\n",
    "\n",
    "print(myroot.x)\n",
    "```"
   ]
  },
  {
   "cell_type": "markdown",
   "id": "796c8b85-22c9-4544-ae94-1b17591644d5",
   "metadata": {},
   "source": [
    "Try it Yourself »"
   ]
  },
  {
   "cell_type": "markdown",
   "id": "450f31bc-6f1e-4ef7-8b82-38358956fa94",
   "metadata": {},
   "source": []
  },
  {
   "cell_type": "markdown",
   "id": "6aec6b35-914f-476a-b2f3-2d0a45f06509",
   "metadata": {},
   "source": [
    "Note: The returned object has much more information about the solution.\n",
    "\n",
    "Example\n",
    "\n",
    "Print all information about the solution (not just x which is the root)"
   ]
  },
  {
   "cell_type": "markdown",
   "id": "b1f26675-5ddb-4b0a-b16a-304a9191f959",
   "metadata": {},
   "source": [
    "```python\n",
    "print(myroot)\n",
    "```"
   ]
  },
  {
   "cell_type": "markdown",
   "id": "aea94c15-49c5-42e2-8eca-dc0c7da35ceb",
   "metadata": {},
   "source": [
    "#### Try it Yourself »"
   ]
  },
  {
   "cell_type": "code",
   "execution_count": null,
   "id": "a1c28b14-9d99-43b5-af46-42ef2a88c2e3",
   "metadata": {},
   "outputs": [],
   "source": []
  },
  {
   "cell_type": "markdown",
   "id": "76be9f07-772c-498b-8c86-2d4c04c4fe98",
   "metadata": {},
   "source": [
    "### Minimizing a Function"
   ]
  },
  {
   "cell_type": "markdown",
   "id": "db0b8fee-bd98-4885-9dc3-ae9df6041be0",
   "metadata": {},
   "source": [
    "A function, in this context, represents a curve, curves have high points and low points.\n",
    "\n",
    "High points are called maxima.\n",
    "\n",
    "Low points are called minima.\n",
    "\n",
    "The highest point in the whole curve is called global maxima, whereas the rest of them are called local maxima.\n",
    "\n",
    "The lowest point in whole curve is called global minima, whereas the rest of them are called local minima."
   ]
  },
  {
   "cell_type": "markdown",
   "id": "8e167eb2-7d1c-4aac-bc61-313b2ad5bbeb",
   "metadata": {},
   "source": [
    "### Finding Minima"
   ]
  },
  {
   "cell_type": "markdown",
   "id": "dfdf020f-984b-4f1b-b857-6a36eebbb41c",
   "metadata": {},
   "source": [
    "We can use scipy.optimize.minimize() function to minimize the function.\n",
    "\n",
    "The minimize() function takes the following arguments:\n",
    "\n",
    "    fun - a function representing an equation.\n",
    "\n",
    "    x0 - an initial guess for the root.\n",
    "\n",
    "method - name of the method to use. Legal values:\n",
    "\n",
    "- 'CG'\n",
    "- 'BFGS'\n",
    "- 'Newton-CG'\n",
    "- 'L-BFGS-B'\n",
    "- 'TNC'\n",
    "- 'COBYLA'\n",
    "- 'SLSQP'\n",
    "\n",
    "callback - function called after each iteration of optimization.\n",
    "\n",
    "options - a dictionary defining extra params:\n",
    "\n",
    "     \"disp\": boolean - print detailed description \n",
    "     \"gtol\": number - the tolerance of the error"
   ]
  },
  {
   "cell_type": "markdown",
   "id": "dd8db23d-b642-4702-b527-8d9b14633b40",
   "metadata": {},
   "source": [
    "Example\n",
    "\n",
    "Minimize the function x^2 + x + 2 with BFGS:"
   ]
  },
  {
   "cell_type": "markdown",
   "id": "136b07fa-d04d-4ef2-863d-3bd374020575",
   "metadata": {},
   "source": [
    "```python\n",
    "from scipy.optimize import minimize\n",
    "\n",
    "def eqn(x):\n",
    "  return x**2 + x + 2\n",
    "\n",
    "mymin = minimize(eqn, 0, method='BFGS')\n",
    "\n",
    "print(mymin)\n",
    "```"
   ]
  },
  {
   "cell_type": "markdown",
   "id": "ce18cb79-dc42-48b5-a32f-52a8de02731e",
   "metadata": {},
   "source": [
    "#### Try it Yourself »"
   ]
  },
  {
   "cell_type": "code",
   "execution_count": null,
   "id": "45c91bab-7baa-4c3e-84f9-99c2d0dde8a3",
   "metadata": {},
   "outputs": [],
   "source": []
  },
  {
   "cell_type": "markdown",
   "id": "e9226ade-998d-467f-a648-ab428051b910",
   "metadata": {},
   "source": [
    "### Test Yourself With Exercises"
   ]
  },
  {
   "cell_type": "markdown",
   "id": "5dedba25-65f0-4a62-b56d-e914ccb8e38d",
   "metadata": {},
   "source": [
    "Exercise:\n",
    "\n",
    "Insert the missing parts to print the square root of the equation:\n",
    "\n",
    "```python\n",
    "from scipy.optimize import root\n",
    "from math import cos\n",
    "\n",
    "def eqn(x):\n",
    "  return x + cos(x)\n",
    "\n",
    "myroot = (eqn, 0)\n",
    "\n",
    "print()\n",
    "```"
   ]
  },
  {
   "cell_type": "code",
   "execution_count": null,
   "id": "ae081d53-cd51-418d-a4e9-b2bba8c92575",
   "metadata": {},
   "outputs": [],
   "source": []
  }
 ],
 "metadata": {
  "kernelspec": {
   "display_name": "Python 3 (ipykernel)",
   "language": "python",
   "name": "python3"
  },
  "language_info": {
   "codemirror_mode": {
    "name": "ipython",
    "version": 3
   },
   "file_extension": ".py",
   "mimetype": "text/x-python",
   "name": "python",
   "nbconvert_exporter": "python",
   "pygments_lexer": "ipython3",
   "version": "3.9.12"
  }
 },
 "nbformat": 4,
 "nbformat_minor": 5
}
