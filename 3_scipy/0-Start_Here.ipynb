{
 "cells": [
  {
   "cell_type": "markdown",
   "id": "ead553da-156e-4b31-b893-5770d5cde7f7",
   "metadata": {},
   "source": [
    "# SciPy Topics"
   ]
  },
  {
   "cell_type": "markdown",
   "id": "07f16ac6-1dd7-4d33-b696-693c1c2862c9",
   "metadata": {},
   "source": [
    "1. [SciPy Intro](1-What_is_SciPy.ipynb)\n",
    "1. [Getting Started](2-SciPy_Installation.ipynb)\n",
    "1. [Constants](3-Constants_in_SciPy.ipynb)\n",
    "1. [Optimizers](4-Optimizers_in_SciPy.ipynb)\n",
    "1. [Sparse Data](5-Sparse_Data.ipynb)\n",
    "1. [Graphs](6-Graphs.ipynb)\n",
    "1. [Spatial Data](7-Spatial_Data.ipynb)\n",
    "1. [Interpolation](8-Interpolation.ipynb)\n",
    "1. [Significance Tests](9-Significance_Tests.ipynb)"
   ]
  },
  {
   "cell_type": "markdown",
   "id": "f83eeff4-66c0-43eb-ba90-aab18dfa26dc",
   "metadata": {},
   "source": [
    "### Additional materials"
   ]
  },
  {
   "cell_type": "code",
   "execution_count": null,
   "id": "17810d23-befe-4ddd-ae64-5f3ed8bf264f",
   "metadata": {},
   "outputs": [],
   "source": [
    "\n"
   ]
  }
 ],
 "metadata": {
  "kernelspec": {
   "display_name": "Python 3 (ipykernel)",
   "language": "python",
   "name": "python3"
  },
  "language_info": {
   "codemirror_mode": {
    "name": "ipython",
    "version": 3
   },
   "file_extension": ".py",
   "mimetype": "text/x-python",
   "name": "python",
   "nbconvert_exporter": "python",
   "pygments_lexer": "ipython3",
   "version": "3.9.12"
  }
 },
 "nbformat": 4,
 "nbformat_minor": 5
}
