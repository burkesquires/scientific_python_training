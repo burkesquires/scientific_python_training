{
 "cells": [
  {
   "cell_type": "markdown",
   "id": "f2bde8ee-6aeb-453a-9983-106357012d7a",
   "metadata": {},
   "source": [
    "# Constants in SciPy"
   ]
  },
  {
   "cell_type": "markdown",
   "id": "6a1e3bcb-684d-43b0-801a-1869133797b3",
   "metadata": {},
   "source": [
    "---\n",
    "\n",
    "Adapted from sources including: [Elegant SciPy](https://github.com/elegant-scipy), [SciPy-lectures](https://scipy-lectures.org/intro/scipy.html), [Scipython](https://scipython.com/book/), [W3Schools](https://www.w3schools.com/python/scipy/index.php)\n",
    "\n",
    "---"
   ]
  },
  {
   "cell_type": "markdown",
   "id": "28c55734-09d6-4259-8906-1b8d9995ea93",
   "metadata": {},
   "source": [
    "As SciPy is more focused on scientific implementations, it provides many built-in scientific constants.\n",
    "\n",
    "These constants can be helpful when you are working with Data Science.\n",
    "\n",
    "PI is an example of a scientific constant.\n",
    "\n",
    "Example\n",
    "Print the constant value of PI:"
   ]
  },
  {
   "cell_type": "markdown",
   "id": "27a7f5f0-22f4-4209-b2a3-2973be0e595b",
   "metadata": {},
   "source": [
    "```python\n",
    "from scipy import constants \n",
    "\n",
    "print(constants.pi)\n",
    "```"
   ]
  },
  {
   "cell_type": "markdown",
   "id": "5740c7c7-8da8-4cf1-80b3-fb1b6fe601c2",
   "metadata": {},
   "source": [
    "#### Try it Yourself »"
   ]
  },
  {
   "cell_type": "code",
   "execution_count": null,
   "id": "8745a4b7-9cef-4869-b4ee-d4fd605589e0",
   "metadata": {},
   "outputs": [],
   "source": []
  },
  {
   "cell_type": "markdown",
   "id": "441806f2-adf1-4490-bd4c-2251cb208df7",
   "metadata": {},
   "source": [
    "### Constant Units"
   ]
  },
  {
   "cell_type": "markdown",
   "id": "d4272276-deaa-4ad5-8857-c1ec69bf1da6",
   "metadata": {},
   "source": [
    "A list of all units under the constants module can be seen using the dir() function.\n",
    "\n",
    "Example\n",
    "List all constants:"
   ]
  },
  {
   "cell_type": "markdown",
   "id": "ac6110f2-efc9-497c-8a5b-c0a798b6a99f",
   "metadata": {},
   "source": [
    "```python\n",
    "from scipy import constants \n",
    "\n",
    "print(dir(constants))\n",
    "```"
   ]
  },
  {
   "cell_type": "markdown",
   "id": "5f1742b3-e4c2-4006-bd0e-a4c60092c933",
   "metadata": {},
   "source": [
    "#### Try it Yourself »"
   ]
  },
  {
   "cell_type": "code",
   "execution_count": null,
   "id": "a9d9d742-9247-4168-86a8-637c1724dedf",
   "metadata": {},
   "outputs": [],
   "source": []
  },
  {
   "cell_type": "markdown",
   "id": "733aa376-12fd-465d-96f4-2711eb460744",
   "metadata": {},
   "source": [
    "### Unit Categories"
   ]
  },
  {
   "cell_type": "markdown",
   "id": "8b52e16d-ef0b-44e6-bf52-a22dffd4a6a7",
   "metadata": {},
   "source": [
    "The units are placed under these categories:\n",
    "\n",
    "- Metric\n",
    "- Binary\n",
    "- Mass\n",
    "- Angle\n",
    "- Time\n",
    "- Length\n",
    "- Pressure\n",
    "- Volume\n",
    "- Speed\n",
    "- Temperature\n",
    "- Energy\n",
    "- Power\n",
    "- Force"
   ]
  },
  {
   "cell_type": "markdown",
   "id": "a2da025a-940e-455d-8f1d-156c65ab16a0",
   "metadata": {},
   "source": [
    "### Metric (SI) Prefixes:"
   ]
  },
  {
   "cell_type": "markdown",
   "id": "ec5ad280-d972-4f99-b0f4-63c01db73560",
   "metadata": {},
   "source": [
    "Return the specified unit in meter (e.g. centi returns 0.01)\n",
    "\n",
    "Example"
   ]
  },
  {
   "cell_type": "markdown",
   "id": "bd04dff4-e31f-407c-a244-a864304d8d0b",
   "metadata": {},
   "source": [
    "```python\n",
    "from scipy import constants \n",
    "\n",
    "print(constants.yotta)    #1e+24\n",
    "print(constants.zetta)    #1e+21\n",
    "print(constants.exa)      #1e+18\n",
    "print(constants.peta)     #1000000000000000.0\n",
    "print(constants.tera)     #1000000000000.0\n",
    "print(constants.giga)     #1000000000.0\n",
    "print(constants.mega)     #1000000.0\n",
    "print(constants.kilo)     #1000.0\n",
    "print(constants.hecto)    #100.0\n",
    "print(constants.deka)     #10.0\n",
    "print(constants.deci)     #0.1\n",
    "print(constants.centi)    #0.01\n",
    "print(constants.milli)    #0.001\n",
    "print(constants.micro)    #1e-06\n",
    "print(constants.nano)     #1e-09\n",
    "print(constants.pico)     #1e-12\n",
    "print(constants.femto)    #1e-15\n",
    "print(constants.atto)     #1e-18\n",
    "print(constants.zepto)    #1e-21\n",
    "```"
   ]
  },
  {
   "cell_type": "markdown",
   "id": "07081d08-7fd3-496d-90ad-b814788b83ba",
   "metadata": {},
   "source": [
    "#### Try it Yourself »"
   ]
  },
  {
   "cell_type": "code",
   "execution_count": null,
   "id": "bb7cc1ae-29f9-4fd1-a20f-a86007e69fb1",
   "metadata": {},
   "outputs": [],
   "source": []
  },
  {
   "cell_type": "markdown",
   "id": "af7923a4-e564-4112-be02-fbb283f26be6",
   "metadata": {},
   "source": [
    "### Binary Prefixes:"
   ]
  },
  {
   "cell_type": "markdown",
   "id": "24f7cfca-ee23-448f-8771-af3701326872",
   "metadata": {},
   "source": [
    "Return the specified unit in bytes (e.g. kibi returns 1024)\n",
    "\n",
    "Example"
   ]
  },
  {
   "cell_type": "markdown",
   "id": "d8e2643a-1fb6-439e-8913-6a1d90e876ef",
   "metadata": {},
   "source": [
    "```python\n",
    "from scipy import constants \n",
    "\n",
    "print(constants.kibi)    #1024\n",
    "print(constants.mebi)    #1048576\n",
    "print(constants.gibi)    #1073741824\n",
    "print(constants.tebi)    #1099511627776\n",
    "print(constants.pebi)    #1125899906842624\n",
    "print(constants.exbi)    #1152921504606846976\n",
    "print(constants.zebi)    #1180591620717411303424\n",
    "print(constants.yobi)    #1208925819614629174706176\n",
    "```"
   ]
  },
  {
   "cell_type": "markdown",
   "id": "436502c2-681e-4706-b351-c665371645c4",
   "metadata": {},
   "source": [
    "#### Try it Yourself »"
   ]
  },
  {
   "cell_type": "code",
   "execution_count": null,
   "id": "2136b981-765f-49fc-a9d4-ae3034ca0ea7",
   "metadata": {},
   "outputs": [],
   "source": []
  },
  {
   "cell_type": "markdown",
   "id": "3bc5ccca-e037-40cf-8ad0-4adce5762987",
   "metadata": {},
   "source": [
    "### Mass:"
   ]
  },
  {
   "cell_type": "markdown",
   "id": "c05cf944-f5d4-40f4-9a5d-f31f471eb465",
   "metadata": {},
   "source": [
    "Return the specified unit in kg (e.g. gram returns 0.001)\n",
    "\n",
    "Example"
   ]
  },
  {
   "cell_type": "markdown",
   "id": "6f1618cc-c4ff-4916-925e-ac12130fbbe7",
   "metadata": {},
   "source": [
    "```python\n",
    "from scipy import constants \n",
    "\n",
    "print(constants.gram)        #0.001\n",
    "print(constants.metric_ton)  #1000.0\n",
    "print(constants.grain)       #6.479891e-05\n",
    "print(constants.lb)          #0.45359236999999997\n",
    "print(constants.pound)       #0.45359236999999997\n",
    "print(constants.oz)          #0.028349523124999998\n",
    "print(constants.ounce)       #0.028349523124999998\n",
    "print(constants.stone)       #6.3502931799999995\n",
    "print(constants.long_ton)    #1016.0469088\n",
    "print(constants.short_ton)   #907.1847399999999\n",
    "print(constants.troy_ounce)  #0.031103476799999998\n",
    "print(constants.troy_pound)  #0.37324172159999996\n",
    "print(constants.carat)       #0.0002\n",
    "print(constants.atomic_mass) #1.66053904e-27\n",
    "print(constants.m_u)         #1.66053904e-27\n",
    "print(constants.u)           #1.66053904e-27\n",
    "```"
   ]
  },
  {
   "cell_type": "markdown",
   "id": "fde4029f-a696-4110-9d19-43330d904ebb",
   "metadata": {},
   "source": [
    "#### Try it Yourself »"
   ]
  },
  {
   "cell_type": "code",
   "execution_count": null,
   "id": "3daaa577-28e6-4ff6-919c-c540b8d32555",
   "metadata": {},
   "outputs": [],
   "source": []
  },
  {
   "cell_type": "markdown",
   "id": "d0fe8b55-7fee-48da-8d16-8b75a47d89ce",
   "metadata": {},
   "source": [
    "### Angle:"
   ]
  },
  {
   "cell_type": "markdown",
   "id": "b760517b-c286-4168-ab8d-a2416eb28264",
   "metadata": {},
   "source": [
    "Return the specified unit in radians (e.g. degree returns 0.017453292519943295)\n",
    "\n",
    "Example"
   ]
  },
  {
   "cell_type": "markdown",
   "id": "c12886a2-91af-43a6-9f11-46d13706d644",
   "metadata": {},
   "source": [
    "```python\n",
    "from scipy import constants \n",
    "\n",
    "print(constants.degree)     #0.017453292519943295\n",
    "print(constants.arcmin)     #0.0002908882086657216\n",
    "print(constants.arcminute)  #0.0002908882086657216\n",
    "print(constants.arcsec)     #4.84813681109536e-06\n",
    "print(constants.arcsecond)  #4.84813681109536e-06\n",
    "```"
   ]
  },
  {
   "cell_type": "markdown",
   "id": "e86c5a56-d31e-4037-8aeb-f82d39401e56",
   "metadata": {},
   "source": [
    "#### Try it Yourself »"
   ]
  },
  {
   "cell_type": "code",
   "execution_count": null,
   "id": "7297f479-133f-407f-be55-13000ce8766a",
   "metadata": {},
   "outputs": [],
   "source": []
  },
  {
   "cell_type": "markdown",
   "id": "9b10625c-cd4f-4aa3-a63a-e9e3ad973bc6",
   "metadata": {},
   "source": [
    "### Time:"
   ]
  },
  {
   "cell_type": "markdown",
   "id": "f7200bf2-4520-4486-b1bd-b587de934b5f",
   "metadata": {},
   "source": [
    "Return the specified unit in seconds (e.g. hour returns 3600.0)\n",
    "\n",
    "Example"
   ]
  },
  {
   "cell_type": "markdown",
   "id": "5f101155-044c-4631-84c6-f85ff3440b83",
   "metadata": {},
   "source": [
    "```python\n",
    "from scipy import constants \n",
    "\n",
    "print(constants.minute)      #60.0\n",
    "print(constants.hour)        #3600.0\n",
    "print(constants.day)         #86400.0\n",
    "print(constants.week)        #604800.0\n",
    "print(constants.year)        #31536000.0\n",
    "print(constants.Julian_year) #31557600.0\n",
    "```"
   ]
  },
  {
   "cell_type": "markdown",
   "id": "95a7be35-c23c-4a38-a38d-011af8942f2b",
   "metadata": {},
   "source": [
    "#### Try it Yourself »"
   ]
  },
  {
   "cell_type": "code",
   "execution_count": null,
   "id": "c2a9be01-f45c-4047-8233-e9bfab4b6935",
   "metadata": {},
   "outputs": [],
   "source": []
  },
  {
   "cell_type": "markdown",
   "id": "ed2a913f-35cc-4a43-a3c9-24afd97d3afc",
   "metadata": {},
   "source": [
    "### Length:"
   ]
  },
  {
   "cell_type": "markdown",
   "id": "bc4606b2-354f-4318-97c7-6c88730da081",
   "metadata": {},
   "source": [
    "Return the specified unit in meters (e.g. nautical_mile returns 1852.0)\n",
    "\n",
    "Example"
   ]
  },
  {
   "cell_type": "markdown",
   "id": "ffda1589-dc60-4bb5-a2d3-c03f17236734",
   "metadata": {},
   "source": [
    "```python\n",
    "\n",
    "from scipy import constants \n",
    "\n",
    "print(constants.inch)              #0.0254\n",
    "print(constants.foot)              #0.30479999999999996\n",
    "print(constants.yard)              #0.9143999999999999\n",
    "print(constants.mile)              #1609.3439999999998\n",
    "print(constants.mil)               #2.5399999999999997e-05\n",
    "print(constants.pt)                #0.00035277777777777776\n",
    "print(constants.point)             #0.00035277777777777776\n",
    "print(constants.survey_foot)       #0.3048006096012192\n",
    "print(constants.survey_mile)       #1609.3472186944373\n",
    "print(constants.nautical_mile)     #1852.0\n",
    "print(constants.fermi)             #1e-15\n",
    "print(constants.angstrom)          #1e-10\n",
    "print(constants.micron)            #1e-06\n",
    "print(constants.au)                #149597870691.0\n",
    "print(constants.astronomical_unit) #149597870691.0\n",
    "print(constants.light_year)        #9460730472580800.0\n",
    "print(constants.parsec)            #3.0856775813057292e+16\n",
    "```"
   ]
  },
  {
   "cell_type": "markdown",
   "id": "7659c2ec-036a-4679-99c4-131a56edc370",
   "metadata": {},
   "source": [
    "#### Try it Yourself »"
   ]
  },
  {
   "cell_type": "code",
   "execution_count": null,
   "id": "e22a5296-a4f7-4ae8-ae6e-b877748a60d5",
   "metadata": {},
   "outputs": [],
   "source": []
  },
  {
   "cell_type": "markdown",
   "id": "717f2ba1-97fe-4883-9870-baad6c4b216a",
   "metadata": {},
   "source": [
    "### Pressure:"
   ]
  },
  {
   "cell_type": "markdown",
   "id": "adb515c9-fd74-4848-bd14-8b25014c4878",
   "metadata": {},
   "source": [
    "Return the specified unit in pascals (e.g. psi returns 6894.757293168361)\n",
    "\n",
    "Example"
   ]
  },
  {
   "cell_type": "markdown",
   "id": "2847f393-a401-4e55-9472-52482f471a04",
   "metadata": {},
   "source": [
    "```python\n",
    "from scipy import constants \n",
    "\n",
    "print(constants.atm)         #101325.0\n",
    "print(constants.atmosphere)  #101325.0\n",
    "print(constants.bar)         #100000.0\n",
    "print(constants.torr)        #133.32236842105263\n",
    "print(constants.mmHg)        #133.32236842105263\n",
    "print(constants.psi)         #6894.757293168361\n",
    "```"
   ]
  },
  {
   "cell_type": "markdown",
   "id": "117102ea-e9b0-47dd-bf3c-107e70e145de",
   "metadata": {},
   "source": [
    "#### Try it Yourself »"
   ]
  },
  {
   "cell_type": "code",
   "execution_count": null,
   "id": "451474b2-e010-4dc2-be27-feba45947d95",
   "metadata": {},
   "outputs": [],
   "source": []
  },
  {
   "cell_type": "markdown",
   "id": "3ed69604-ccb9-47ea-9a53-74cd8928e07d",
   "metadata": {},
   "source": [
    "### Area:"
   ]
  },
  {
   "cell_type": "markdown",
   "id": "d2088a27-51b5-4d85-a1ee-c80483042470",
   "metadata": {},
   "source": [
    "Return the specified unit in square meters(e.g. hectare returns 10000.0)\n",
    "\n",
    "Example"
   ]
  },
  {
   "cell_type": "markdown",
   "id": "6d65f7bc-5194-45f2-a5cd-2cc5ddf571af",
   "metadata": {},
   "source": [
    "```python\n",
    "from scipy import constants \n",
    "\n",
    "print(constants.hectare) #10000.0\n",
    "print(constants.acre)    #4046.8564223999992\n",
    "```"
   ]
  },
  {
   "cell_type": "markdown",
   "id": "67a3b45a-9b20-4fb2-9e9c-9e00bb9251ab",
   "metadata": {},
   "source": [
    "#### Try it Yourself »"
   ]
  },
  {
   "cell_type": "code",
   "execution_count": null,
   "id": "09887e70-b1ba-4911-8977-0c56f5c6231b",
   "metadata": {},
   "outputs": [],
   "source": []
  },
  {
   "cell_type": "markdown",
   "id": "bf99793b-b598-4052-b8c5-77f7634c8a06",
   "metadata": {},
   "source": [
    "### Volume:"
   ]
  },
  {
   "cell_type": "markdown",
   "id": "42dd60f6-43a9-49c0-a8cf-8c9493f60a46",
   "metadata": {},
   "source": [
    "Return the specified unit in cubic meters (e.g. liter returns 0.001)\n",
    "\n",
    "Example"
   ]
  },
  {
   "cell_type": "markdown",
   "id": "500ae34d-bc93-4cea-8158-de9db7903a4f",
   "metadata": {},
   "source": [
    "```python\n",
    "from scipy import constants \n",
    "\n",
    "print(constants.liter)            #0.001\n",
    "print(constants.litre)            #0.001\n",
    "print(constants.gallon)           #0.0037854117839999997\n",
    "print(constants.gallon_US)        #0.0037854117839999997\n",
    "print(constants.gallon_imp)       #0.00454609\n",
    "print(constants.fluid_ounce)      #2.9573529562499998e-05\n",
    "print(constants.fluid_ounce_US)   #2.9573529562499998e-05\n",
    "print(constants.fluid_ounce_imp)  #2.84130625e-05\n",
    "print(constants.barrel)           #0.15898729492799998\n",
    "print(constants.bbl)              #0.15898729492799998\n",
    "```"
   ]
  },
  {
   "cell_type": "markdown",
   "id": "717ef0ff-c6fc-4ddc-9456-9f25dd3d71ad",
   "metadata": {},
   "source": [
    "#### Try it Yourself »"
   ]
  },
  {
   "cell_type": "code",
   "execution_count": null,
   "id": "b7666b87-3634-4bdb-b4a7-10dbf6cbbac3",
   "metadata": {},
   "outputs": [],
   "source": []
  },
  {
   "cell_type": "markdown",
   "id": "71a24dcc-1d7e-4d92-90df-b7b9e1ff1e4a",
   "metadata": {},
   "source": [
    "### Speed:"
   ]
  },
  {
   "cell_type": "markdown",
   "id": "60fcaf36-28f1-4d17-962a-1769751cbec4",
   "metadata": {},
   "source": [
    "Return the specified unit in meters per second (e.g. speed_of_sound returns 340.5)\n",
    "\n",
    "Example"
   ]
  },
  {
   "cell_type": "markdown",
   "id": "553b81d4-dbbc-4b71-ad46-a08872f0b818",
   "metadata": {},
   "source": [
    "```python\n",
    "from scipy import constants \n",
    "\n",
    "print(constants.kmh)            #0.2777777777777778\n",
    "print(constants.mph)            #0.44703999999999994\n",
    "print(constants.mach)           #340.5\n",
    "print(constants.speed_of_sound) #340.5\n",
    "print(constants.knot)           #0.5144444444444445\n",
    "```"
   ]
  },
  {
   "cell_type": "markdown",
   "id": "dcba059c-0f03-49fa-9b60-d2c9326eb240",
   "metadata": {},
   "source": [
    "#### Try it Yourself »"
   ]
  },
  {
   "cell_type": "code",
   "execution_count": null,
   "id": "ed60ab87-efbe-4784-8e6f-92fd845f6b91",
   "metadata": {},
   "outputs": [],
   "source": []
  },
  {
   "cell_type": "markdown",
   "id": "e8fbdaff-7973-43d2-a213-467248f03b95",
   "metadata": {},
   "source": [
    "### Temperature:"
   ]
  },
  {
   "cell_type": "markdown",
   "id": "dc99b574-ca78-4539-90b4-21607e133fc0",
   "metadata": {},
   "source": [
    "Return the specified unit in Kelvin (e.g. zero_Celsius returns 273.15)\n",
    "\n",
    "Example"
   ]
  },
  {
   "cell_type": "markdown",
   "id": "a4bea32e-9154-4178-9255-650502340e42",
   "metadata": {},
   "source": [
    "```python\n",
    "from scipy import constants \n",
    "\n",
    "print(constants.zero_Celsius)      #273.15\n",
    "print(constants.degree_Fahrenheit) #0.5555555555555556\n",
    "```"
   ]
  },
  {
   "cell_type": "markdown",
   "id": "62abad26-4570-4dcb-a48a-b66ad9fbc8d4",
   "metadata": {},
   "source": [
    "#### Try it Yourself »"
   ]
  },
  {
   "cell_type": "code",
   "execution_count": null,
   "id": "bc01c919-2063-4974-83d1-355656e75b32",
   "metadata": {},
   "outputs": [],
   "source": []
  },
  {
   "cell_type": "markdown",
   "id": "51e7dac1-ac66-41a4-a284-81b258ebe561",
   "metadata": {},
   "source": [
    "### Energy:"
   ]
  },
  {
   "cell_type": "markdown",
   "id": "7d70a26f-80b0-47a9-8529-4f56b320d3c0",
   "metadata": {},
   "source": [
    "Return the specified unit in joules (e.g. calorie returns 4.184)\n",
    "\n",
    "Example"
   ]
  },
  {
   "cell_type": "markdown",
   "id": "700a1fff-10bf-41fd-a00b-1eec976e9b99",
   "metadata": {},
   "source": [
    "```python\n",
    "from scipy import constants \n",
    "\n",
    "print(constants.eV)            #1.6021766208e-19\n",
    "print(constants.electron_volt) #1.6021766208e-19\n",
    "print(constants.calorie)       #4.184\n",
    "print(constants.calorie_th)    #4.184\n",
    "print(constants.calorie_IT)    #4.1868\n",
    "print(constants.erg)           #1e-07\n",
    "print(constants.Btu)           #1055.05585262\n",
    "print(constants.Btu_IT)        #1055.05585262\n",
    "print(constants.Btu_th)        #1054.3502644888888\n",
    "print(constants.ton_TNT)       #4184000000.0\n",
    "```"
   ]
  },
  {
   "cell_type": "markdown",
   "id": "fdd5383d-ec85-420c-be2d-af1f4d5c0a6b",
   "metadata": {},
   "source": [
    "#### Try it Yourself »"
   ]
  },
  {
   "cell_type": "code",
   "execution_count": null,
   "id": "e4239a39-679b-42b8-bb3f-4b6a7e395f2f",
   "metadata": {},
   "outputs": [],
   "source": []
  },
  {
   "cell_type": "markdown",
   "id": "a15efb8a-b9e8-4120-a7d4-2521d913dd8d",
   "metadata": {},
   "source": [
    "### Power:"
   ]
  },
  {
   "cell_type": "markdown",
   "id": "aa6a47c0-293d-4960-9c74-bd1e9d2b45b3",
   "metadata": {},
   "source": [
    "Return the specified unit in watts (e.g. horsepower returns 745.6998715822701)\n",
    "\n",
    "Example"
   ]
  },
  {
   "cell_type": "markdown",
   "id": "0877ff92-0be2-4007-8761-3ac8977faedf",
   "metadata": {},
   "source": [
    "```python\n",
    "from scipy import constants \n",
    "\n",
    "print(constants.hp)         #745.6998715822701\n",
    "print(constants.horsepower) #745.6998715822701\n",
    "```"
   ]
  },
  {
   "cell_type": "markdown",
   "id": "c1573eff-6aaa-4d40-8fd9-444f1abacf55",
   "metadata": {},
   "source": [
    "#### Try it Yourself »"
   ]
  },
  {
   "cell_type": "code",
   "execution_count": null,
   "id": "b9d6ea72-f216-45b3-be56-eb3e5b04611d",
   "metadata": {},
   "outputs": [],
   "source": []
  },
  {
   "cell_type": "markdown",
   "id": "32064495-c677-48d7-b6eb-27619d645ae4",
   "metadata": {},
   "source": [
    "### Force:"
   ]
  },
  {
   "cell_type": "markdown",
   "id": "64036ecd-a3e4-49ff-b089-7cae0f097a3d",
   "metadata": {},
   "source": [
    "Return the specified unit in newton (e.g. kilogram_force returns 9.80665)\n",
    "\n",
    "Example"
   ]
  },
  {
   "cell_type": "markdown",
   "id": "bae0e449-80e1-462e-99b5-40eb0233d8be",
   "metadata": {},
   "source": [
    "```python\n",
    "from scipy import constants \n",
    "\n",
    "print(constants.dyn)             #1e-05\n",
    "print(constants.dyne)            #1e-05\n",
    "print(constants.lbf)             #4.4482216152605\n",
    "print(constants.pound_force)     #4.4482216152605\n",
    "print(constants.kgf)             #9.80665\n",
    "print(constants.kilogram_force)  #9.80665\n",
    "```"
   ]
  },
  {
   "cell_type": "markdown",
   "id": "0a4e9c42-68cd-4b03-8566-321a355767f1",
   "metadata": {},
   "source": [
    "#### Try it Yourself »vv"
   ]
  },
  {
   "cell_type": "markdown",
   "id": "79ad77e5-a0a6-4de3-9cab-af458505f9d7",
   "metadata": {},
   "source": []
  },
  {
   "cell_type": "markdown",
   "id": "79c34c7e-3931-4f5a-9155-476d78801015",
   "metadata": {},
   "source": [
    "## Test Yourself With Exercises"
   ]
  },
  {
   "cell_type": "markdown",
   "id": "f16267ad-0971-42e2-8461-7ae8e8ef6083",
   "metadata": {},
   "source": [
    "Exercise:"
   ]
  },
  {
   "cell_type": "markdown",
   "id": "47059aa3-01b7-4a65-90c7-36b5e45b3de1",
   "metadata": {},
   "source": [
    "Insert the correct syntax for printing the kilometer unit (in meters):"
   ]
  },
  {
   "cell_type": "markdown",
   "id": "b4de4c63-0f61-4e74-8fba-063d60c32432",
   "metadata": {},
   "source": [
    "```python\n",
    "print(constants.)\n",
    "```"
   ]
  },
  {
   "cell_type": "code",
   "execution_count": null,
   "id": "bfe1ac8a-bfc7-41a2-9c8e-0b737e72ad25",
   "metadata": {},
   "outputs": [],
   "source": []
  }
 ],
 "metadata": {
  "kernelspec": {
   "display_name": "Python 3 (ipykernel)",
   "language": "python",
   "name": "python3"
  },
  "language_info": {
   "codemirror_mode": {
    "name": "ipython",
    "version": 3
   },
   "file_extension": ".py",
   "mimetype": "text/x-python",
   "name": "python",
   "nbconvert_exporter": "python",
   "pygments_lexer": "ipython3",
   "version": "3.9.12"
  }
 },
 "nbformat": 4,
 "nbformat_minor": 5
}
