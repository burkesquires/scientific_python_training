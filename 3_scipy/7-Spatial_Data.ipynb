{
 "cells": [
  {
   "cell_type": "markdown",
   "id": "a14464e8-f877-47dd-8f3b-8a9ad1403f6a",
   "metadata": {
    "tags": []
   },
   "source": [
    "# SciPy Spatial Data"
   ]
  },
  {
   "cell_type": "markdown",
   "id": "9dce0302-f99c-4ffe-ae55-83031c1a17a2",
   "metadata": {},
   "source": [
    "---\n",
    "\n",
    "Adapted from sources including: [Elegant SciPy](https://github.com/elegant-scipy), [SciPy-lectures](https://scipy-lectures.org/intro/scipy.html), [Scipython](https://scipython.com/book/), [W3Schools](https://www.w3schools.com/python/scipy/index.php)\n",
    "\n",
    "---"
   ]
  },
  {
   "cell_type": "markdown",
   "id": "e100be75-c15a-4498-94ce-bc2286919bac",
   "metadata": {},
   "source": [
    "## Working with Spatial Data"
   ]
  },
  {
   "cell_type": "markdown",
   "id": "4596c93e-ac05-4639-ba17-c337e2da9430",
   "metadata": {},
   "source": [
    "Spatial data refers to data that is represented in a geometric space.\n",
    "\n",
    "E.g. points on a coordinate system.\n",
    "\n",
    "We deal with spatial data problems on many tasks.\n",
    "\n",
    "E.g. finding if a point is inside a boundary or not.\n",
    "\n",
    "SciPy provides us with the module scipy.spatial, which has functions for working with spatial data."
   ]
  },
  {
   "cell_type": "markdown",
   "id": "a5f08739-66e4-4b0e-86c0-05c21f070577",
   "metadata": {},
   "source": [
    "### Triangulation"
   ]
  },
  {
   "cell_type": "markdown",
   "id": "8c3f138d-d11e-4500-bee9-0648f6150d03",
   "metadata": {},
   "source": [
    "A Triangulation of a polygon is to divide the polygon into multiple triangles with which we can compute an area of the polygon.\n",
    "\n",
    "A Triangulation with points means creating surface composed triangles in which all of the given points are on at least one vertex of any triangle in the surface.\n",
    "\n",
    "One method to generate these triangulations through points is the Delaunay() Triangulation.\n",
    "\n",
    "Example\n",
    "Create a triangulation from following points:"
   ]
  },
  {
   "cell_type": "markdown",
   "id": "cf02fda3-c605-445e-b55c-85a682d6cec4",
   "metadata": {},
   "source": [
    "```python\n",
    "import numpy as np\n",
    "from scipy.spatial import Delaunay\n",
    "import matplotlib.pyplot as plt\n",
    "\n",
    "points = np.array([\n",
    "  [2, 4],\n",
    "  [3, 4],\n",
    "  [3, 0],\n",
    "  [2, 2],\n",
    "  [4, 1]\n",
    "])\n",
    "\n",
    "simplices = Delaunay(points).simplices\n",
    "\n",
    "plt.triplot(points[:, 0], points[:, 1], simplices)\n",
    "plt.scatter(points[:, 0], points[:, 1], color='r')\n",
    "\n",
    "plt.show()\n",
    "```"
   ]
  },
  {
   "cell_type": "markdown",
   "id": "15e9d4c8-1028-4825-9e1d-fd5655b7d7de",
   "metadata": {},
   "source": [
    "#### Try it Yourself »"
   ]
  },
  {
   "cell_type": "markdown",
   "id": "d0bddecf-76c1-46e5-913f-696535553dd9",
   "metadata": {},
   "source": []
  },
  {
   "cell_type": "markdown",
   "id": "4a3ecd9c-eb52-4937-82fb-f137b2a7ade7",
   "metadata": {},
   "source": [
    "Note: The simplices property creates a generalization of the triangle notation."
   ]
  },
  {
   "cell_type": "markdown",
   "id": "ea9af693-40df-4298-8c6e-49bc079fda0e",
   "metadata": {},
   "source": [
    "### Convex Hull"
   ]
  },
  {
   "cell_type": "markdown",
   "id": "bf74678c-13f6-43a3-9933-d31a24f84bfa",
   "metadata": {},
   "source": [
    "A convex hull is the smallest polygon that covers all of the given points.\n",
    "\n",
    "Use the ConvexHull() method to create a Convex Hull.\n",
    "\n",
    "Example\n",
    "Create a convex hull for following points:"
   ]
  },
  {
   "cell_type": "markdown",
   "id": "4c1b8d9f-1122-4584-9d33-9cb02cbff3f3",
   "metadata": {},
   "source": [
    "```python\n",
    "\n",
    "import numpy as np\n",
    "from scipy.spatial import ConvexHull\n",
    "import matplotlib.pyplot as plt\n",
    "\n",
    "points = np.array([\n",
    "  [2, 4],\n",
    "  [3, 4],\n",
    "  [3, 0],\n",
    "  [2, 2],\n",
    "  [4, 1],\n",
    "  [1, 2],\n",
    "  [5, 0],\n",
    "  [3, 1],\n",
    "  [1, 2],\n",
    "  [0, 2]\n",
    "])\n",
    "\n",
    "hull = ConvexHull(points)\n",
    "hull_points = hull.simplices\n",
    "\n",
    "plt.scatter(points[:,0], points[:,1])\n",
    "for simplex in hull_points:\n",
    "  plt.plot(points[simplex,0], points[simplex,1], 'k-')\n",
    "\n",
    "plt.show()"
   ]
  },
  {
   "cell_type": "markdown",
   "id": "1a40b788-8d91-4b59-b787-b3a849aca0cd",
   "metadata": {},
   "source": [
    "#### Try it Yourself »"
   ]
  },
  {
   "cell_type": "markdown",
   "id": "fa360767-65bb-4432-81ba-d407bf608539",
   "metadata": {},
   "source": []
  },
  {
   "cell_type": "markdown",
   "id": "1094cf96-c426-49ef-be85-9eddaa7c83b6",
   "metadata": {},
   "source": [
    "### KDTrees"
   ]
  },
  {
   "cell_type": "markdown",
   "id": "9defd01e-97da-4053-b3f2-9e2940b58d85",
   "metadata": {},
   "source": [
    "KDTrees are a datastructure optimized for nearest neighbor queries.\n",
    "\n",
    "E.g. in a set of points using KDTrees we can efficiently ask which points are nearest to a certain given point.\n",
    "\n",
    "The KDTree() method returns a KDTree object.\n",
    "\n",
    "The query() method returns the distance to the nearest neighbor and the location of the neighbors.\n",
    "\n",
    "Example\n",
    "Find the nearest neighbor to point (1,1):"
   ]
  },
  {
   "cell_type": "markdown",
   "id": "1fdf9a41-7c83-4908-8109-296c20de5f17",
   "metadata": {},
   "source": [
    "```python\n",
    "\n",
    "from scipy.spatial import KDTree\n",
    "\n",
    "points = [(1, -1), (2, 3), (-2, 3), (2, -3)]\n",
    "\n",
    "kdtree = KDTree(points)\n",
    "\n",
    "res = kdtree.query((1, 1))\n",
    "\n",
    "print(res)\n",
    "```"
   ]
  },
  {
   "cell_type": "markdown",
   "id": "de18c90b-fe8c-4bc8-b8c0-4859a7ccca57",
   "metadata": {},
   "source": [
    "Result:\n",
    "\n",
    " (2.0, 0)"
   ]
  },
  {
   "cell_type": "markdown",
   "id": "207395e3-0805-4cdd-8772-68198bbde82d",
   "metadata": {},
   "source": [
    "#### Try it Yourself »"
   ]
  },
  {
   "cell_type": "markdown",
   "id": "fab7c279-8a95-49a1-bc14-30034d5a8208",
   "metadata": {},
   "source": []
  },
  {
   "cell_type": "markdown",
   "id": "352dce04-17d3-4588-8e45-679d31b3eff4",
   "metadata": {},
   "source": [
    "### Distance Matrix"
   ]
  },
  {
   "cell_type": "markdown",
   "id": "53e1dd0f-2a6c-4eeb-ad28-f7f5a71399e1",
   "metadata": {},
   "source": [
    "There are many Distance Metrics used to find various types of distances between two points in data science, Euclidean distsance, cosine distsance etc.\n",
    "\n",
    "The distance between two vectors may not only be the length of straight line between them, it can also be the angle between them from origin, or number of unit steps required etc.\n",
    "\n",
    "Many of the Machine Learning algorithm's performance depends greatly on distance metrices. E.g. \"K Nearest Neighbors\", or \"K Means\" etc.\n",
    "\n",
    "Let us look at some of the Distance Metrices:"
   ]
  },
  {
   "cell_type": "markdown",
   "id": "f1771afd-45b8-4725-9147-3676bea050d9",
   "metadata": {},
   "source": [
    "### Euclidean Distance"
   ]
  },
  {
   "cell_type": "markdown",
   "id": "f49da1fb-28b6-46df-8f6d-5c8f250f490a",
   "metadata": {},
   "source": [
    "Find the euclidean distance between given points.\n",
    "\n",
    "Example"
   ]
  },
  {
   "cell_type": "markdown",
   "id": "f33e91e3-4bb7-4f65-bdc6-f390e83f3fca",
   "metadata": {},
   "source": [
    "```python\n",
    "\n",
    "from scipy.spatial.distance import euclidean\n",
    "\n",
    "p1 = (1, 0)\n",
    "p2 = (10, 2)\n",
    "\n",
    "res = euclidean(p1, p2)\n",
    "\n",
    "print(res)\n",
    "```"
   ]
  },
  {
   "cell_type": "markdown",
   "id": "24d87042-d38e-4553-a325-a09be6e4998a",
   "metadata": {},
   "source": [
    "Result:\n",
    "\n",
    " 9.21954445729"
   ]
  },
  {
   "cell_type": "markdown",
   "id": "6ff0fb6c-2926-4075-8989-d9283171d2d8",
   "metadata": {},
   "source": [
    "#### Try it Yourself »"
   ]
  },
  {
   "cell_type": "markdown",
   "id": "a85b2465-1f44-4d9d-b1b6-c2c4d7a2adf3",
   "metadata": {},
   "source": []
  },
  {
   "cell_type": "markdown",
   "id": "ea3891be-b301-4d21-b7a6-53421d50e030",
   "metadata": {},
   "source": [
    "### Cityblock Distance (Manhattan Distance)"
   ]
  },
  {
   "cell_type": "markdown",
   "id": "1ba6bc81-cbb1-4ee3-b5e8-d79546522911",
   "metadata": {},
   "source": [
    "Is the distance computed using 4 degrees of movement.\n",
    "\n",
    "E.g. we can only move: up, down, right, or left, not diagonally.\n",
    "\n",
    "Example\n",
    "Find the cityblock distance between given points:"
   ]
  },
  {
   "cell_type": "markdown",
   "id": "fc6e51b0-3dfb-408e-b2fd-f38a86362c2c",
   "metadata": {},
   "source": [
    "```python\n",
    "\n",
    "from scipy.spatial.distance import cityblock\n",
    "\n",
    "p1 = (1, 0)\n",
    "p2 = (10, 2)\n",
    "\n",
    "res = cityblock(p1, p2)\n",
    "\n",
    "print(res)\n",
    "```"
   ]
  },
  {
   "cell_type": "markdown",
   "id": "fa4549a0-7f21-4afe-aa80-4275dfd40f9e",
   "metadata": {},
   "source": [
    "Result:\n",
    "\n",
    " 11"
   ]
  },
  {
   "cell_type": "markdown",
   "id": "b9b8c294-1737-42cf-91ff-792a82eff3a9",
   "metadata": {},
   "source": [
    "#### Try it Yourself »"
   ]
  },
  {
   "cell_type": "markdown",
   "id": "f4a6d8f0-a0a1-47c6-a705-41586e30b270",
   "metadata": {},
   "source": []
  },
  {
   "cell_type": "markdown",
   "id": "5eb6b9d7-87a6-459b-9f7a-4e41ce904bfa",
   "metadata": {},
   "source": [
    "### Cosine Distance"
   ]
  },
  {
   "cell_type": "markdown",
   "id": "b843b591-b3b4-4ca5-81b8-7accc69f3e25",
   "metadata": {},
   "source": [
    "Is the value of cosine angle between the two points A and B.\n",
    "\n",
    "Example\n",
    "Find the cosine distsance between given points:"
   ]
  },
  {
   "cell_type": "markdown",
   "id": "33cd2da2-214a-4e19-acd9-f88e1c819318",
   "metadata": {},
   "source": [
    "```python\n",
    "\n",
    "from scipy.spatial.distance import cosine\n",
    "\n",
    "p1 = (1, 0)\n",
    "p2 = (10, 2)\n",
    "\n",
    "res = cosine(p1, p2)\n",
    "\n",
    "print(res)\n",
    "```"
   ]
  },
  {
   "cell_type": "markdown",
   "id": "df1bb945-4791-4ecd-955b-b245d5b93ea4",
   "metadata": {},
   "source": [
    "Result:\n",
    "\n",
    " 0.019419324309079777"
   ]
  },
  {
   "cell_type": "markdown",
   "id": "82b3ab28-bc20-4122-ae09-32c7ab40af90",
   "metadata": {},
   "source": [
    "#### Try it Yourself »"
   ]
  },
  {
   "cell_type": "markdown",
   "id": "ca17ed1f-c509-4c95-9c6f-82ebaad931ab",
   "metadata": {},
   "source": []
  },
  {
   "cell_type": "markdown",
   "id": "e27fc7d4-c8d8-4f8d-a0ed-a6a573cd24af",
   "metadata": {},
   "source": [
    "### Hamming Distance"
   ]
  },
  {
   "cell_type": "markdown",
   "id": "ee62d307-2c63-48f1-80d8-efa89bcc50f0",
   "metadata": {},
   "source": [
    "Is the proportion of bits where two bits are difference.\n",
    "\n",
    "It's a way to measure distance for binary sequences.\n",
    "\n",
    "Example\n",
    "Find the hamming distance between given points:"
   ]
  },
  {
   "cell_type": "markdown",
   "id": "9d97bb37-e704-4db9-a928-374445bd4cbb",
   "metadata": {},
   "source": [
    "```python\n",
    "\n",
    "from scipy.spatial.distance import hamming\n",
    "\n",
    "p1 = (True, False, True)\n",
    "p2 = (False, True, True)\n",
    "\n",
    "res = hamming(p1, p2)\n",
    "\n",
    "print(res)\n",
    "```"
   ]
  },
  {
   "cell_type": "markdown",
   "id": "dc9aef7b-479d-4436-980d-f32ac172aacc",
   "metadata": {},
   "source": [
    "Result:\n",
    "\n",
    " 0.666666666667"
   ]
  },
  {
   "cell_type": "markdown",
   "id": "67cca87b-a6b3-4c11-9057-94022c21e1b9",
   "metadata": {},
   "source": [
    "#### Try it Yourself »"
   ]
  },
  {
   "cell_type": "code",
   "execution_count": null,
   "id": "4ffce9f1-438d-4324-9e36-c029e77e29ea",
   "metadata": {},
   "outputs": [],
   "source": []
  },
  {
   "cell_type": "markdown",
   "id": "f57a1461-adfe-4b69-bbf0-403c33dc1f79",
   "metadata": {},
   "source": [
    "### Test Yourself With Exercises"
   ]
  },
  {
   "cell_type": "markdown",
   "id": "a72a6bc7-98dc-4587-b95d-cc1236b91bf4",
   "metadata": {},
   "source": [
    "Exercise:\n",
    "Consider this image:\n",
    "\n",
    "Which method is most likely to be used to find the smallest polygon that covers all of the given points?\n",
    "\n",
    "The () method"
   ]
  },
  {
   "cell_type": "code",
   "execution_count": null,
   "id": "237412c7-ed4b-4466-9087-2cba42a0c6d3",
   "metadata": {},
   "outputs": [],
   "source": []
  }
 ],
 "metadata": {
  "kernelspec": {
   "display_name": "Python 3 (ipykernel)",
   "language": "python",
   "name": "python3"
  },
  "language_info": {
   "codemirror_mode": {
    "name": "ipython",
    "version": 3
   },
   "file_extension": ".py",
   "mimetype": "text/x-python",
   "name": "python",
   "nbconvert_exporter": "python",
   "pygments_lexer": "ipython3",
   "version": "3.9.12"
  }
 },
 "nbformat": 4,
 "nbformat_minor": 5
}
