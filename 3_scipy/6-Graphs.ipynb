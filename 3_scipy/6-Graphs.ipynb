{
 "cells": [
  {
   "cell_type": "markdown",
   "id": "8a4816b9-65a9-4627-b6e2-6c3d82823533",
   "metadata": {},
   "source": [
    "# SciPy Graphs"
   ]
  },
  {
   "cell_type": "markdown",
   "id": "3c54f174-acd4-4424-bbe9-d6e71644b18b",
   "metadata": {},
   "source": [
    "---\n",
    "\n",
    "Adapted from sources including: [Elegant SciPy](https://github.com/elegant-scipy), [SciPy-lectures](https://scipy-lectures.org/intro/scipy.html), [Scipython](https://scipython.com/book/), [W3Schools](https://www.w3schools.com/python/scipy/index.php)\n",
    "\n",
    "---"
   ]
  },
  {
   "cell_type": "markdown",
   "id": "505efae0-60dc-48ac-be13-b771184ca0e9",
   "metadata": {},
   "source": [
    "## Working with Graphs"
   ]
  },
  {
   "cell_type": "markdown",
   "id": "c7b68acb-c6c2-4458-aeae-35d13fe45b48",
   "metadata": {},
   "source": [
    "Graphs are an essential data structure.\n",
    "\n",
    "SciPy provides us with the module scipy.sparse.csgraph for working with such data structures."
   ]
  },
  {
   "cell_type": "markdown",
   "id": "e7d020d4-9329-4a2d-b066-196f6fe8b304",
   "metadata": {},
   "source": [
    "### Adjacency Matrix"
   ]
  },
  {
   "cell_type": "markdown",
   "id": "41fbbe4a-bfd5-4ca8-851d-b5edd68a3a0c",
   "metadata": {},
   "source": [
    "Adjacency matrix is a nxn matrix where n is the number of elements in a graph.\n",
    "\n",
    "And the values represents the connection between the elements.\n",
    "\n",
    "Example:\n",
    "\n",
    "\n",
    "For a graph like this, with elements A, B and C, the connections are:\n",
    "\n",
    "- A & B are connected with weight 1.\n",
    "\n",
    "- A & C are connected with weight 2.\n",
    "\n",
    "- C & B is not connected.\n",
    "\n",
    "The Adjency Matrix would look like this:\n",
    "\n",
    "\n",
    "          A B C\n",
    "       A:[0 1 2]  \n",
    "       B:[1 0 0]\n",
    "       C:[2 0 0]\n",
    "\n",
    "Below follows some of the most used methods for working with adjacency matrices."
   ]
  },
  {
   "cell_type": "markdown",
   "id": "ec9c679c-8cd2-4674-a19d-69f05d50f3c4",
   "metadata": {},
   "source": [
    "### Connected Components"
   ]
  },
  {
   "cell_type": "markdown",
   "id": "ddb299ae-22b3-48e8-a9d5-d392efea4aa2",
   "metadata": {},
   "source": [
    "Find all of the connected components with the connected_components() method.\n",
    "\n",
    "Example"
   ]
  },
  {
   "cell_type": "markdown",
   "id": "bc9534a1-307f-4e0a-868b-78bc623d84a5",
   "metadata": {},
   "source": [
    "```python\n",
    "import numpy as np\n",
    "from scipy.sparse.csgraph import connected_components\n",
    "from scipy.sparse import csr_matrix\n",
    "\n",
    "arr = np.array([\n",
    "  [0, 1, 2],\n",
    "  [1, 0, 0],\n",
    "  [2, 0, 0]\n",
    "])\n",
    "\n",
    "newarr = csr_matrix(arr)\n",
    "\n",
    "print(connected_components(newarr))\n",
    "```"
   ]
  },
  {
   "cell_type": "markdown",
   "id": "ff02a50b-205f-4d94-806a-cc4a522e6184",
   "metadata": {},
   "source": [
    "#### Try it Yourself »"
   ]
  },
  {
   "cell_type": "code",
   "execution_count": null,
   "id": "9100089d-96e8-4986-a24f-4dcbe099b74b",
   "metadata": {},
   "outputs": [],
   "source": []
  },
  {
   "cell_type": "markdown",
   "id": "70852912-3f3a-4fb5-89a1-c1ed596eec33",
   "metadata": {},
   "source": [
    "### Dijkstra"
   ]
  },
  {
   "cell_type": "markdown",
   "id": "f729cc54-f8a9-4a19-9703-c93eac29fd8d",
   "metadata": {},
   "source": [
    "Use the dijkstra method to find the shortest path in a graph from one element to another.\n",
    "\n",
    "It takes following arguments:\n",
    "\n",
    "return_predecessors: boolean (True to return whole path of traversal otherwise False).\n",
    "indices: index of the element to return all paths from that element only.\n",
    "limit: max weight of path.\n",
    "\n",
    "Example\n",
    "\n",
    "Find the shortest path from element 1 to 2:"
   ]
  },
  {
   "cell_type": "markdown",
   "id": "80299caf-3348-48ea-8b59-5026fe892e1c",
   "metadata": {},
   "source": [
    "```python\n",
    "import numpy as np\n",
    "from scipy.sparse.csgraph import dijkstra\n",
    "from scipy.sparse import csr_matrix\n",
    "\n",
    "arr = np.array([\n",
    "  [0, 1, 2],\n",
    "  [1, 0, 0],\n",
    "  [2, 0, 0]\n",
    "])\n",
    "\n",
    "newarr = csr_matrix(arr)\n",
    "\n",
    "print(dijkstra(newarr, return_predecessors=True, indices=0))\n",
    "```"
   ]
  },
  {
   "cell_type": "markdown",
   "id": "7d160622-283b-4cef-abd5-2511d6f73853",
   "metadata": {},
   "source": [
    "#### Try it Yourself »"
   ]
  },
  {
   "cell_type": "code",
   "execution_count": null,
   "id": "07541ba7-afc8-4f02-9c9a-5b0b84f3e8d8",
   "metadata": {},
   "outputs": [],
   "source": []
  },
  {
   "cell_type": "markdown",
   "id": "729b3a4b-cc8c-439d-a81c-e1b6d7bd663e",
   "metadata": {},
   "source": [
    "### Floyd Warshall"
   ]
  },
  {
   "cell_type": "markdown",
   "id": "ff9d8ee9-4fd8-416f-ad94-8e67c43121b3",
   "metadata": {},
   "source": [
    "Use the floyd_warshall() method to find shortest path between all pairs of elements.\n",
    "\n",
    "Example\n",
    "Find the shortest path between all pairs of elements:"
   ]
  },
  {
   "cell_type": "markdown",
   "id": "99eb7550-6a30-4c26-9e49-d2b892e758ea",
   "metadata": {},
   "source": [
    "```python\n",
    "import numpy as np\n",
    "from scipy.sparse.csgraph import floyd_warshall\n",
    "from scipy.sparse import csr_matrix\n",
    "\n",
    "arr = np.array([\n",
    "  [0, 1, 2],\n",
    "  [1, 0, 0],\n",
    "  [2, 0, 0]\n",
    "])\n",
    "\n",
    "newarr = csr_matrix(arr)\n",
    "\n",
    "print(floyd_warshall(newarr, return_predecessors=True))"
   ]
  },
  {
   "cell_type": "markdown",
   "id": "db065800-dbe4-43bc-9e0f-452961d03b59",
   "metadata": {},
   "source": [
    "#### Try it Yourself »"
   ]
  },
  {
   "cell_type": "code",
   "execution_count": null,
   "id": "cdc2d93a-2155-4474-96af-183a6b2ee8c5",
   "metadata": {},
   "outputs": [],
   "source": []
  },
  {
   "cell_type": "markdown",
   "id": "3ef24bfe-414c-4a20-aff0-4c9b4ec10124",
   "metadata": {},
   "source": [
    "### Bellman Ford"
   ]
  },
  {
   "cell_type": "markdown",
   "id": "91307f0d-2a82-4342-8e8a-d8f61470d011",
   "metadata": {},
   "source": [
    "The bellman_ford() method can also find the shortest path between all pairs of elements, but this method can handle negative weights as well.\n",
    "\n",
    "Example\n",
    "Find shortest path from element 1 to 2 with given graph with a negative weight:"
   ]
  },
  {
   "cell_type": "markdown",
   "id": "b1fea431-20f7-4dd0-a342-e7e370963787",
   "metadata": {},
   "source": [
    "```python\n",
    "import numpy as np\n",
    "from scipy.sparse.csgraph import bellman_ford\n",
    "from scipy.sparse import csr_matrix\n",
    "\n",
    "arr = np.array([\n",
    "  [0, -1, 2],\n",
    "  [1, 0, 0],\n",
    "  [2, 0, 0]\n",
    "])\n",
    "\n",
    "newarr = csr_matrix(arr)\n",
    "\n",
    "print(bellman_ford(newarr, return_predecessors=True, indices=0))\n",
    "```"
   ]
  },
  {
   "cell_type": "markdown",
   "id": "5024160f-0743-4cf2-894e-7d452ce222d8",
   "metadata": {},
   "source": [
    "#### Try it Yourself »"
   ]
  },
  {
   "cell_type": "code",
   "execution_count": null,
   "id": "1cd25d6c-868a-4aa5-ae2b-a8a3b556158e",
   "metadata": {},
   "outputs": [],
   "source": []
  },
  {
   "cell_type": "markdown",
   "id": "67919f1b-a8d7-4ad6-9f1c-fc97c4dd58bc",
   "metadata": {},
   "source": [
    "### Depth First Order"
   ]
  },
  {
   "cell_type": "markdown",
   "id": "a0881527-83ac-40b6-8396-978c73bb90ea",
   "metadata": {},
   "source": [
    "The depth_first_order() method returns a depth first traversal from a node.\n",
    "\n",
    "This function takes following arguments:\n",
    "\n",
    "- the graph.\n",
    "- the starting element to traverse graph from.\n",
    "\n",
    "Example\n",
    "Traverse the graph depth first for given adjacency matrix:"
   ]
  },
  {
   "cell_type": "markdown",
   "id": "19f40b03-6269-4c6c-8293-2ccba1e2d5cd",
   "metadata": {},
   "source": [
    "```python\n",
    "import numpy as np\n",
    "from scipy.sparse.csgraph import depth_first_order\n",
    "from scipy.sparse import csr_matrix\n",
    "\n",
    "arr = np.array([\n",
    "  [0, 1, 0, 1],\n",
    "  [1, 1, 1, 1],\n",
    "  [2, 1, 1, 0],\n",
    "  [0, 1, 0, 1]\n",
    "])\n",
    "\n",
    "newarr = csr_matrix(arr)\n",
    "\n",
    "print(depth_first_order(newarr, 1))\n",
    "```"
   ]
  },
  {
   "cell_type": "markdown",
   "id": "170597b8-3c22-4066-922c-df8c35430c29",
   "metadata": {},
   "source": [
    "#### Try it Yourself »"
   ]
  },
  {
   "cell_type": "code",
   "execution_count": null,
   "id": "fe5b381e-24b1-43b9-9cb8-6318003cb47b",
   "metadata": {},
   "outputs": [],
   "source": []
  },
  {
   "cell_type": "markdown",
   "id": "e3f7aa03-a04a-40dd-b40c-67801de98bef",
   "metadata": {},
   "source": [
    "### Breadth First Order"
   ]
  },
  {
   "cell_type": "markdown",
   "id": "b2fdafec-e1ab-4d76-8796-a29a90740f59",
   "metadata": {},
   "source": [
    "The breadth_first_order() method returns a breadth first traversal from a node.\n",
    "\n",
    "This function takes following arguments:\n",
    "\n",
    "- the graph.\n",
    "- the starting element to traverse graph from.\n",
    "\n",
    "Example\n",
    "Traverse the graph breadth first for given adjacency matrix:"
   ]
  },
  {
   "cell_type": "markdown",
   "id": "de26dd8e-f5ed-47a6-b458-588eb1f4a0b0",
   "metadata": {},
   "source": [
    "```python\n",
    "import numpy as np\n",
    "from scipy.sparse.csgraph import breadth_first_order\n",
    "from scipy.sparse import csr_matrix\n",
    "\n",
    "arr = np.array([\n",
    "  [0, 1, 0, 1],\n",
    "  [1, 1, 1, 1],\n",
    "  [2, 1, 1, 0],\n",
    "  [0, 1, 0, 1]\n",
    "])\n",
    "\n",
    "newarr = csr_matrix(arr)\n",
    "\n",
    "print(breadth_first_order(newarr, 1))\n",
    "```"
   ]
  },
  {
   "cell_type": "markdown",
   "id": "a00cd46c-b482-4d55-8217-66a3c041b283",
   "metadata": {},
   "source": [
    "#### Try it Yourself »"
   ]
  },
  {
   "cell_type": "code",
   "execution_count": null,
   "id": "63fd42a1-c2e6-4f17-9a9e-f16d7295ccb8",
   "metadata": {},
   "outputs": [],
   "source": []
  },
  {
   "cell_type": "markdown",
   "id": "4a2a7cbb-38e8-4a17-88e1-8e4364f551f8",
   "metadata": {},
   "source": [
    "#### Test Yourself With Exercises"
   ]
  },
  {
   "cell_type": "markdown",
   "id": "b41999e3-27a2-4da0-ad9f-73d27c1a6564",
   "metadata": {},
   "source": [
    "Exercise:\n",
    "Insert the missing method to find all the connected components:"
   ]
  },
  {
   "cell_type": "markdown",
   "id": "5d557928-eb97-47cd-bc65-517b7d31c318",
   "metadata": {},
   "source": [
    "```python\n",
    "import numpy as np\n",
    "from scipy.sparse.csgraph import connected_components\n",
    "from scipy.sparse import csr_matrix\n",
    "\n",
    "arr = np.array([\n",
    "  [0, 1, 2],\n",
    "  [1, 0, 0],\n",
    "  [2, 0, 0]\n",
    "])\n",
    "\n",
    "newarr = csr_matrix(arr)\n",
    "\n",
    "print((newarr))\n",
    "```"
   ]
  }
 ],
 "metadata": {
  "kernelspec": {
   "display_name": "Python 3 (ipykernel)",
   "language": "python",
   "name": "python3"
  },
  "language_info": {
   "codemirror_mode": {
    "name": "ipython",
    "version": 3
   },
   "file_extension": ".py",
   "mimetype": "text/x-python",
   "name": "python",
   "nbconvert_exporter": "python",
   "pygments_lexer": "ipython3",
   "version": "3.9.12"
  }
 },
 "nbformat": 4,
 "nbformat_minor": 5
}
