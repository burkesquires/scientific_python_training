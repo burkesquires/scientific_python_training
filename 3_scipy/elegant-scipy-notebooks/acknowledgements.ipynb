{
 "cells": [
  {
   "cell_type": "markdown",
   "metadata": {},
   "source": [
    "# Acknowledgements\n",
    "\n",
    "We have to thank the many, many individuals who have made essential\n",
    "contributions to this book. It would not have happened without your help.\n",
    "\n",
    "First and foremost, we wish to thank the many contributors to the NumPy, SciPy,\n",
    "and related libraries. We hope we have done your amazing work justice in this\n",
    "book.\n",
    "\n",
    "Next, the many contributors to the wider scientific Python ecosystem, including\n",
    "those provided the foundation for several of our chapters: Vighnesh Birodkar,\n",
    "Matt Rocklin, and Warren Weckesser. We must also thank those whose\n",
    "contributions we were unable to include come press time. Your work\n",
    "inspired us and we hope to include it in future versions of the book.\n",
    "We also thank Nicolas Rougier for his many suggestions that we included as\n",
    "examples and exercises.\n",
    "\n",
    "Others provided us with data and code which saved us hours of searching and\n",
    "sleuthing. We thank Lav Varshney for the original Matlab code for spectral\n",
    "graph layout for the worm brain (chapters 3 and 6), and Stefano Allesina for\n",
    "the St. Marks food web data (chapter 6).\n",
    "\n",
    "We are indebted to everyone who made corrections and suggestions while the book\n",
    "was in pre-release, including Bill Katz, Matthias Bussonnier, and\n",
    "Mark Hyun-ki Kim.\n",
    "\n",
    "We thank our technical reviewers, Thomas Caswell, Nelle Varoquaux, Lav\n",
    "Varshney, and Greg Wilson, who generously took time out of\n",
    "their busy schedules to comb through our final drafts and share their expert\n",
    "advice.\n",
    "\n",
    "Although we will continue to improve the book based on comments from you, our\n",
    "readers, we owe a great deal to our friends and family who proofread much\n",
    "earlier versions and provided valuable feedback, suggestions, and\n",
    "encouragement. Malcolm Gorman, Alicia Oshack, PW van der Walt, Simon Kocbek,\n",
    "Nelle Varoquaux, Ariel Rokem: thank you.\n",
    "\n",
    "And of course, we thank our editors at O'Reilly, Meg Blanchette, Brian\n",
    "MacDonald, and Nan Barber. We are especially grateful to Meg, who first\n",
    "approached us about the book and who offered invaluable early guidance when we\n",
    "had barely a clue what we were doing."
   ]
  }
 ],
 "metadata": {
  "kernelspec": {
   "display_name": "Python 3",
   "language": "python",
   "name": "python3"
  },
  "language_info": {
   "codemirror_mode": {
    "name": "ipython",
    "version": 3
   },
   "file_extension": ".py",
   "mimetype": "text/x-python",
   "name": "python",
   "nbconvert_exporter": "python",
   "pygments_lexer": "ipython3",
   "version": "3.7.1"
  }
 },
 "nbformat": 4,
 "nbformat_minor": 2
}
