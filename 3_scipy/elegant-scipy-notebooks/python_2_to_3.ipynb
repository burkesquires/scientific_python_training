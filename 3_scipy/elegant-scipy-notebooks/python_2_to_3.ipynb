{
 "cells": [
  {
   "cell_type": "markdown",
   "metadata": {},
   "source": [
    "## The Great Cataclysm: Python 2 vs. Python 3\n",
    "\n",
    "In your Python travels, you may have already heard a few rumblings about which version of Python is better.\n",
    "You may have wondered why it's not just the latest version.\n",
    "(Spoiler alert: it is.)\n",
    "\n",
    "At the end of 2008, the Python core developers released Python 3,\n",
    "a major update to the language with better Unicode (international)\n",
    "text handling, type consistency, and streaming data handling, among other\n",
    "improvements. As Douglas Adams quipped[^hitch] about the creation of the Universe,\n",
    "\"this has made a lot of people very angry and been widely regarded as a bad move\".\n",
    "That's because Python 2.6 or 2.7 code cannot usually be\n",
    "interpreted by Python 3 without at least some modification (though the\n",
    "changes are typically not too invasive).\n",
    "\n",
    "[^hitch]: Douglas Adams, *The Hitchhiker's Guide to the Galaxy* (1979).\n",
    "\n",
    "There is always a tension between the march of progress and backwards\n",
    "compatibility.  In this case, the Python core team decided that a\n",
    "clean break was needed to eliminate some inconsistencies, especially\n",
    "in the underlying C API, and move the language forward into the\n",
    "twenty-first century (Python 1.0 appeared in 1994, more than 20 years\n",
    "ago; a lifetime in the tech world).\n",
    "\n",
    "Here's one way in which Python has improved in turning 3:"
   ]
  },
  {
   "cell_type": "markdown",
   "metadata": {},
   "source": [
    "```\n",
    "print \"Hello World!\"   # Python 2 print statement\n",
    "print(\"Hello World!\")  # Python 3 print function\n",
    "```\n"
   ]
  },
  {
   "cell_type": "markdown",
   "metadata": {},
   "source": [
    "Why cause such a fuss just to add some parentheses!\n",
    "Well, true, but what if you want to instead print to a different *stream*, such as *standard error*, the usual place for debugging information?"
   ]
  },
  {
   "cell_type": "markdown",
   "metadata": {},
   "source": [
    "```\n",
    "print >>sys.stderr, \"fatal error\"  # Python 2\n",
    "print(\"fatal error\", file=sys.stderr)  # Python 3\n",
    "```\n"
   ]
  },
  {
   "cell_type": "markdown",
   "metadata": {},
   "source": [
    "That change certainly seems more worthwhile; what is going on in the\n",
    "Python 2 version anyway? The authors don't rightly know.\n",
    "\n",
    "Another change is the way Python 3 treats integer division, which is the way most humans treat division.\n",
    "(Note `>>>` indicates we are typing at the Python interactive shell.)"
   ]
  },
  {
   "cell_type": "markdown",
   "metadata": {},
   "source": [
    "```\n",
    "# Python 2\n",
    ">>> 5 / 2\n",
    "2\n",
    "# Python 3\n",
    ">>> 5 / 2\n",
    "2.5\n",
    "```\n"
   ]
  },
  {
   "cell_type": "markdown",
   "metadata": {},
   "source": [
    "We were also pretty excited about the new `@` *matrix multiplication* operator introduced in Python 3.5 in 2015.\n",
    "Check out chapters 5 and 6 for some examples of this operator in use!\n",
    "\n",
    "Possibly the biggest improvement in Python 3 is its support for Unicode, a way of encoding text that allows one to use not just the English alphabet, but any alphabet in the world.\n",
    "Python 2 allowed you to define a Unicode string, like so:"
   ]
  },
  {
   "cell_type": "code",
   "execution_count": 1,
   "metadata": {},
   "outputs": [],
   "source": [
    "beta = u\"β\""
   ]
  },
  {
   "cell_type": "markdown",
   "metadata": {},
   "source": [
    "But in Python 3, *everything* is Unicode:"
   ]
  },
  {
   "cell_type": "code",
   "execution_count": 2,
   "metadata": {},
   "outputs": [
    {
     "name": "stdout",
     "output_type": "stream",
     "text": [
      "1.0\n"
     ]
    }
   ],
   "source": [
    "β = 0.5\n",
    "print(2 * β)"
   ]
  },
  {
   "cell_type": "markdown",
   "metadata": {},
   "source": [
    "The Python core team decided, rightly, that it was worth supporting characters from all languages as first-class citizens in Python code.\n",
    "This is especially true now, when most new coders are from non-English-speaking countries.\n",
    "For the sake of interoperability, we still recommend using English\n",
    "characters in most code, but this capability can come in handy, for\n",
    "example, in math-heavy Jupyter notebooks[^jupyter-latex-tip].\n",
    "\n",
    "[^jupyter-latex-tip]: Tip: In the IPython terminal or in the Jupyter notebook,\n",
    "type a LaTeX symbol name followed by the TAB key to have it expanded to\n",
    "unicode.  For example, `\\beta<TAB>` becomes β.\n",
    "\n",
    "The Python 3 update also breaks a lot of existing 2.x code, and in some\n",
    "cases executes more slowly than before.  Despite these frustrations,\n",
    "we encourage all users to upgrade as soon as possible (Python 2.x is\n",
    "now in maintenance only mode until 2020), since most issues have been addressed as\n",
    "the 3.x series has matured.\n",
    "Indeed, we use many new features from Python 3 in this book.\n",
    "\n",
    "In Elegant SciPy, we use **Python 3.6**.\n",
    "\n",
    "For more reading, see Ed Schofield's resource, [python-future.org](python-future.org),\n",
    "and Nick Coghlan's [book-length guide](http://python-notes.curiousefficiency.org/en/latest/python3/questions_and_answers.html) to the transition."
   ]
  }
 ],
 "metadata": {
  "kernelspec": {
   "display_name": "Python 3",
   "language": "python",
   "name": "python3"
  },
  "language_info": {
   "codemirror_mode": {
    "name": "ipython",
    "version": 3
   },
   "file_extension": ".py",
   "mimetype": "text/x-python",
   "name": "python",
   "nbconvert_exporter": "python",
   "pygments_lexer": "ipython3",
   "version": "3.7.1"
  }
 },
 "nbformat": 4,
 "nbformat_minor": 2
}
