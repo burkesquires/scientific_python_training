{
 "cells": [
  {
   "cell_type": "markdown",
   "id": "44587804-8839-40a6-9e71-0fa55435b80b",
   "metadata": {},
   "source": [
    "# `SciPy` Installation"
   ]
  },
  {
   "cell_type": "markdown",
   "id": "e3a3f6e3-4be2-4d27-8de4-87595ff7716b",
   "metadata": {},
   "source": [
    "---\n",
    "\n",
    "Adapted from sources including: [Elegant SciPy](https://github.com/elegant-scipy), [SciPy-lectures](https://scipy-lectures.org/intro/scipy.html), [Scipython](https://scipython.com/book/), [W3Schools](https://www.w3schools.com/python/scipy/index.php)\n",
    "\n",
    "---"
   ]
  },
  {
   "cell_type": "markdown",
   "id": "f9888b9a-5a7c-420a-b0a3-b98705018ba8",
   "metadata": {},
   "source": [
    "If you have Python and PIP already installed on a system, then installation of `SciPy` is very easy.\n",
    "\n",
    "Install it using this command:\n",
    "\n",
    "    pip install scipy\n",
    "\n",
    "If this command fails, then use a Python distribution that already has `SciPy` installed like, Anaconda, Spyder etc.\n",
    "\n",
    "    import scipy\n",
    "\n",
    "\n",
    "Once `SciPy` is installed, import the `SciPy` module(s) you want to use in your applications by adding the from `SciPy` import module statement:\n",
    "\n",
    "    from scipy import constants\n",
    "\n",
    "Now we have imported the constants module from `SciPy`, and the application is ready to use it:"
   ]
  },
  {
   "cell_type": "markdown",
   "id": "30b00ebf-a00d-4116-85e3-80dae8b508f1",
   "metadata": {},
   "source": [
    "**Example**\n",
    "\n",
    "How many cubic meters are in one liter:\n",
    "\n",
    "    from scipy import constants \n",
    "\n",
    "    print(constants.liter)"
   ]
  },
  {
   "cell_type": "markdown",
   "id": "8a07028a-303b-4c9e-bdeb-15bdab84a535",
   "metadata": {},
   "source": [
    "#### Try it Yourself »"
   ]
  },
  {
   "cell_type": "code",
   "execution_count": null,
   "id": "ff581405-3bff-4d12-bc48-6c301e80cc58",
   "metadata": {},
   "outputs": [],
   "source": []
  },
  {
   "cell_type": "markdown",
   "id": "122d0207-f4bf-40b1-a254-bfcce7c07178",
   "metadata": {},
   "source": [
    "constants: `SciPy` offers a set of mathematical constants, one of them is liter which returns 1 liter as cubic meters.\n",
    "\n",
    "You will learn more about constants in the next chapter."
   ]
  },
  {
   "cell_type": "markdown",
   "id": "5e8f34ad-83bf-487a-91dd-fb6d4c95e390",
   "metadata": {},
   "source": [
    "Checking `SciPy` Version\n",
    "\n",
    "The version string is stored under the __version__ attribute.\n",
    "\n",
    "Example\n",
    "\n",
    "    import scipy\n",
    "\n",
    "    print(scipy.__version__)"
   ]
  },
  {
   "cell_type": "markdown",
   "id": "97959b1c-1774-4054-a897-b260e0b756cb",
   "metadata": {},
   "source": [
    "#### Try it Yourself »"
   ]
  },
  {
   "cell_type": "code",
   "execution_count": null,
   "id": "a27c1769-e385-4e07-bfc6-df9aa96df8bb",
   "metadata": {},
   "outputs": [],
   "source": []
  },
  {
   "cell_type": "markdown",
   "id": "46bf0271-b075-4540-8954-435ec3e6bb13",
   "metadata": {},
   "source": [
    "**Note**: two underscore characters are used in __version__."
   ]
  },
  {
   "cell_type": "code",
   "execution_count": null,
   "id": "bb3b4ac6-13a2-40ae-8108-630907499cdd",
   "metadata": {},
   "outputs": [],
   "source": []
  }
 ],
 "metadata": {
  "kernelspec": {
   "display_name": "Python 3 (ipykernel)",
   "language": "python",
   "name": "python3"
  },
  "language_info": {
   "codemirror_mode": {
    "name": "ipython",
    "version": 3
   },
   "file_extension": ".py",
   "mimetype": "text/x-python",
   "name": "python",
   "nbconvert_exporter": "python",
   "pygments_lexer": "ipython3",
   "version": "3.9.12"
  }
 },
 "nbformat": 4,
 "nbformat_minor": 5
}
