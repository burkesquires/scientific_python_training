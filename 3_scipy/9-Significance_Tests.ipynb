{
 "cells": [
  {
   "cell_type": "markdown",
   "id": "5c5e7f5d-c4b5-4ba6-bcce-3c7030e786f5",
   "metadata": {},
   "source": [
    "# SciPy Statistical Significance Tests"
   ]
  },
  {
   "cell_type": "markdown",
   "id": "d4640d63-a6e8-47c3-8bd5-ebe9fa9dc600",
   "metadata": {},
   "source": [
    "---\n",
    "\n",
    "Adapted from sources including: [Elegant SciPy](https://github.com/elegant-scipy), [SciPy-lectures](https://scipy-lectures.org/intro/scipy.html), [Scipython](https://scipython.com/book/), [W3Schools](https://www.w3schools.com/python/scipy/index.php)\n",
    "\n",
    "---"
   ]
  },
  {
   "cell_type": "markdown",
   "id": "b1941cf2-3b5d-4c46-984c-2800850dd271",
   "metadata": {},
   "source": [
    "## What is Statistical Significance Test?"
   ]
  },
  {
   "cell_type": "markdown",
   "id": "aaec909f-3b7d-4bee-9dec-061aa9e3d3db",
   "metadata": {},
   "source": [
    "In statistics, statistical significance means that the result that was produced has a reason behind it, it was not produced randomly, or by chance.\n",
    "\n",
    "SciPy provides us with a module called scipy.stats, which has functions for performing statistical significance tests.\n",
    "\n",
    "Here are some techniques and keywords that are important when performing such tests:"
   ]
  },
  {
   "cell_type": "markdown",
   "id": "dc859873-09b4-40a4-ab95-b51b0c28bfd6",
   "metadata": {},
   "source": [
    "### Hypothesis in Statistics"
   ]
  },
  {
   "cell_type": "markdown",
   "id": "4f9930e3-d532-4d86-9ce0-94e3a41a96c0",
   "metadata": {},
   "source": [
    "Hypothesis is an assumption about a parameter in population.\n",
    "\n",
    "Null Hypothesis\n",
    "- It assumes that the observation is not statistically significant.\n",
    "\n",
    "Alternate Hypothesis\n",
    "- It assumes that the observations are due to some reason.\n",
    "\n",
    "Its alternate to Null Hypothesis.\n",
    "\n",
    "Example:\n",
    "\n",
    "For an assessment of a student we would take:\n",
    "\n",
    "- \"student is worse than average\" - as a null hypothesis, and:\n",
    "\n",
    "- \"student is better than average\" - as an alternate hypothesis."
   ]
  },
  {
   "cell_type": "markdown",
   "id": "30a383cc-6cc0-446d-8b05-e6f7a58e6b54",
   "metadata": {},
   "source": [
    "### One tailed test"
   ]
  },
  {
   "cell_type": "markdown",
   "id": "ae97af7d-c3ff-462e-9bb4-7572ec4617c9",
   "metadata": {},
   "source": [
    "When our hypothesis is testing for one side of the value only, it is called \"one tailed test\".\n",
    "\n",
    "Example:\n",
    "\n",
    "For the null hypothesis:\n",
    "\n",
    "- \"the mean is equal to k\", we can have alternate hypothesis:\n",
    "\n",
    "- \"the mean is less than k\", or:\n",
    "\n",
    "- \"the mean is greater than k\""
   ]
  },
  {
   "cell_type": "markdown",
   "id": "6141198a-429c-41f4-9636-cc1b82e7c3c3",
   "metadata": {},
   "source": [
    "### Two tailed test"
   ]
  },
  {
   "cell_type": "markdown",
   "id": "413052bf-999f-4eb9-8c85-c3474763cfed",
   "metadata": {},
   "source": [
    "When our hypothesis is testing for both side of the values.\n",
    "\n",
    "Example:\n",
    "\n",
    "For the null hypothesis:\n",
    "\n",
    "- \"the mean is equal to k\", we can have alternate hypothesis:\n",
    "\n",
    "- \"the mean is not equal to k\"\n",
    "\n",
    "In this case the mean is less than, or greater than k, and both sides are to be checked."
   ]
  },
  {
   "cell_type": "markdown",
   "id": "2965858f-1b5d-45d5-aca3-ca6b8dd76a36",
   "metadata": {},
   "source": [
    "### Alpha value"
   ]
  },
  {
   "cell_type": "markdown",
   "id": "3af2c792-b7aa-4c2b-8e9c-52b088afbd1b",
   "metadata": {},
   "source": [
    "Alpha value is the level of significance.\n",
    "\n",
    "Example:\n",
    "\n",
    "How close to extremes the data must be for null hypothesis to be rejected.\n",
    "\n",
    "It is usually taken as 0.01, 0.05, or 0.1."
   ]
  },
  {
   "cell_type": "markdown",
   "id": "c2144d58-b5ba-4ab9-8d53-ccf4400cad3e",
   "metadata": {},
   "source": [
    "### P value"
   ]
  },
  {
   "cell_type": "markdown",
   "id": "a66475d5-5b5d-485d-84e2-6813ac759744",
   "metadata": {},
   "source": [
    "P value tells how close to extreme the data actually is.\n",
    "\n",
    "P value and alpha values are compared to establish the statistical significance.\n",
    "\n",
    "If p value <= alpha we reject the null hypothesis and say that the data is statistically significant. otherwise we accept the null hypothesis."
   ]
  },
  {
   "cell_type": "markdown",
   "id": "3c6cb2f7-d6dd-4108-bec3-56f8c8cf4dc3",
   "metadata": {},
   "source": [
    "### T-Test"
   ]
  },
  {
   "cell_type": "markdown",
   "id": "d9cb0774-74c5-4990-861b-1696a7f44b7f",
   "metadata": {},
   "source": [
    "T-tests are used to determine if there is significant deference between means of two variables. and lets us know if they belong to the same distribution.\n",
    "\n",
    "It is a two tailed test.\n",
    "\n",
    "The function ttest_ind() takes two samples of same size and produces a tuple of t-statistic and p-value.\n",
    "\n",
    "Example\n",
    "\n",
    "Find if the given values v1 and v2 are from same distribution:"
   ]
  },
  {
   "cell_type": "markdown",
   "id": "1bd4e511-4069-498d-8579-06acc479e267",
   "metadata": {},
   "source": [
    "```python\n",
    "import numpy as np\n",
    "from scipy.stats import ttest_ind\n",
    "\n",
    "v1 = np.random.normal(size=100)\n",
    "v2 = np.random.normal(size=100)\n",
    "\n",
    "res = ttest_ind(v1, v2)\n",
    "\n",
    "print(res)\n",
    "```"
   ]
  },
  {
   "cell_type": "markdown",
   "id": "236c4f04-7d0b-4050-925b-5b4d45f5d199",
   "metadata": {},
   "source": [
    "Result:\n",
    "\n",
    "    Ttest_indResult(statistic=0.40833510339674095, pvalue=0.68346891833752133)"
   ]
  },
  {
   "cell_type": "markdown",
   "id": "b5fb51ac-87c0-4524-9a31-c200144fbb27",
   "metadata": {},
   "source": [
    "#### Try it Yourself »"
   ]
  },
  {
   "cell_type": "code",
   "execution_count": null,
   "id": "24b37dcf-d4d6-4cae-903a-6dbdb27aac25",
   "metadata": {},
   "outputs": [],
   "source": []
  },
  {
   "cell_type": "markdown",
   "id": "254193ee-5081-43a8-977c-6de1448b56c1",
   "metadata": {},
   "source": [
    "If you want to return only the p-value, use the pvalue property:\n",
    "\n",
    "Example\n",
    "..."
   ]
  },
  {
   "cell_type": "markdown",
   "id": "79e8a2ea-5265-4332-83b0-04c40a65dccc",
   "metadata": {},
   "source": [
    "```python\n",
    "res = ttest_ind(v1, v2).pvalue\n",
    "\n",
    "print(res)\n",
    "```"
   ]
  },
  {
   "cell_type": "markdown",
   "id": "c0dc382f-52c9-4dac-8bfa-e27380d97b1a",
   "metadata": {},
   "source": [
    "Result:\n",
    "\n",
    "    0.68346891833752133"
   ]
  },
  {
   "cell_type": "markdown",
   "id": "c1af4843-f306-4ba0-aef8-efa98c15b161",
   "metadata": {},
   "source": [
    "#### Try it Yourself »"
   ]
  },
  {
   "cell_type": "code",
   "execution_count": null,
   "id": "e7b7570b-fcc9-4868-8270-e5f7aac72553",
   "metadata": {},
   "outputs": [],
   "source": []
  },
  {
   "cell_type": "markdown",
   "id": "ecaf8e98-e6b0-44d0-9881-19caf98961bc",
   "metadata": {},
   "source": [
    "### KS-Test"
   ]
  },
  {
   "cell_type": "markdown",
   "id": "e20491c3-e77b-4374-9b25-abd0064feb94",
   "metadata": {},
   "source": [
    "KS test is used to check if given values follow a distribution.\n",
    "\n",
    "The function takes the value to be tested, and the CDF as two parameters.\n",
    "\n",
    "A CDF can be either a string or a callable function that returns the probability.\n",
    "\n",
    "It can be used as a one tailed or two tailed test.\n",
    "\n",
    "By default it is two tailed. We can pass parameter alternative as a string of one of two-sided, less, or greater.\n",
    "\n",
    "Example\n",
    "\n",
    "Find if the given value follows the normal distribution:"
   ]
  },
  {
   "cell_type": "markdown",
   "id": "4fb7fb0b-5a94-46f1-84dc-d4703008107a",
   "metadata": {},
   "source": [
    "```python\n",
    "import numpy as np\n",
    "from scipy.stats import kstest\n",
    "\n",
    "v = np.random.normal(size=100)\n",
    "\n",
    "res = kstest(v, 'norm')\n",
    "\n",
    "print(res)\n",
    "```"
   ]
  },
  {
   "cell_type": "markdown",
   "id": "c050a50d-cf21-4ae8-8e39-63c40d4a5591",
   "metadata": {},
   "source": [
    "Result:\n",
    "\n",
    "    KstestResult(statistic=0.047798701221956841, pvalue=0.97630967161777515)"
   ]
  },
  {
   "cell_type": "markdown",
   "id": "81ea3e9e-1703-4910-9107-69fd46969dcd",
   "metadata": {},
   "source": [
    "#### Try it Yourself »"
   ]
  },
  {
   "cell_type": "code",
   "execution_count": null,
   "id": "6183ef2a-804d-4c8b-a06f-ab0275e2293a",
   "metadata": {},
   "outputs": [],
   "source": []
  },
  {
   "cell_type": "markdown",
   "id": "9de78cc8-ae77-4f8a-b3f9-d2a313c9c9e1",
   "metadata": {},
   "source": [
    "### Statistical Description of Data"
   ]
  },
  {
   "cell_type": "markdown",
   "id": "ab768814-66fb-4533-a904-b4ba1fd46da6",
   "metadata": {},
   "source": [
    "In order to see a summary of values in an array, we can use the describe() function.\n",
    "\n",
    "It returns the following description:\n",
    "\n",
    "- number of observations (nobs)\n",
    "- minimum and maximum values = minmax\n",
    "- mean\n",
    "- variance\n",
    "- skewness\n",
    "- kurtosis\n",
    "\n",
    "Example\n",
    "\n",
    "Show statistical description of the values in an array:"
   ]
  },
  {
   "cell_type": "markdown",
   "id": "f294095e-8994-4742-8ec4-56fcbd0e982f",
   "metadata": {},
   "source": [
    "```python\n",
    "import numpy as np\n",
    "from scipy.stats import describe\n",
    "\n",
    "v = np.random.normal(size=100)\n",
    "res = describe(v)\n",
    "\n",
    "print(res)\n",
    "```"
   ]
  },
  {
   "cell_type": "markdown",
   "id": "0c7069a6-9495-47e7-972d-112e1c8ebda0",
   "metadata": {},
   "source": [
    "Result:\n",
    "\n",
    "    DescribeResult(\n",
    "        nobs=100,\n",
    "        minmax=(-2.0991855456740121, 2.1304142707414964),\n",
    "        mean=0.11503747689121079,\n",
    "        variance=0.99418092655064605,\n",
    "        skewness=0.013953400984243667,\n",
    "        kurtosis=-0.671060517912661\n",
    "    )"
   ]
  },
  {
   "cell_type": "markdown",
   "id": "6b5f0762-edd9-4694-a007-dc1833dcab08",
   "metadata": {},
   "source": [
    "#### Try it Yourself »"
   ]
  },
  {
   "cell_type": "code",
   "execution_count": null,
   "id": "8f271cda-de07-4b56-8cff-c7cdf201d124",
   "metadata": {},
   "outputs": [],
   "source": []
  },
  {
   "cell_type": "markdown",
   "id": "aa6c77e2-0600-41ac-bed7-e164aa81e910",
   "metadata": {},
   "source": [
    "### Normality Tests (Skewness and Kurtosis)"
   ]
  },
  {
   "cell_type": "markdown",
   "id": "1f70a2a6-5272-4432-8ab8-b32bc56a94b3",
   "metadata": {},
   "source": [
    "Normality tests are based on the skewness and kurtosis.\n",
    "\n",
    "The normaltest() function returns p value for the null hypothesis:\n",
    "\n",
    "\"x comes from a normal distribution\"."
   ]
  },
  {
   "cell_type": "markdown",
   "id": "72096364-e3e1-470e-b673-931873c565e4",
   "metadata": {},
   "source": [
    "### Skewness:"
   ]
  },
  {
   "cell_type": "markdown",
   "id": "1ffe875f-c59f-4be9-9e61-b35f83ed308d",
   "metadata": {},
   "source": [
    "A measure of symmetry in data.\n",
    "\n",
    "For normal distributions it is 0.\n",
    "\n",
    "If it is negative, it means the data is skewed left.\n",
    "\n",
    "If it is positive it means the data is skewed right."
   ]
  },
  {
   "cell_type": "markdown",
   "id": "b72c1266-b3f0-46de-8066-3a4d58dec2da",
   "metadata": {},
   "source": [
    "### Kurtosis:"
   ]
  },
  {
   "cell_type": "markdown",
   "id": "3fd210e1-e04d-4c64-9a07-bedc2252b7fe",
   "metadata": {},
   "source": [
    "A measure of whether the data is heavy or lightly tailed to a normal distribution.\n",
    "\n",
    "Positive kurtosis means heavy tailed.\n",
    "\n",
    "Negative kurtosis means lightly tailed.\n",
    "\n",
    "Example\n",
    "\n",
    "Find skewness and kurtosis of values in an array:"
   ]
  },
  {
   "cell_type": "markdown",
   "id": "bcaf712b-736e-4afe-8d3d-72fed95d1b39",
   "metadata": {},
   "source": [
    "```python\n",
    "import numpy as np\n",
    "from scipy.stats import skew, kurtosis\n",
    "\n",
    "v = np.random.normal(size=100)\n",
    "\n",
    "print(skew(v))\n",
    "print(kurtosis(v))\n",
    "```"
   ]
  },
  {
   "cell_type": "markdown",
   "id": "17968c92-e572-4abb-99ed-f4a041f20c0d",
   "metadata": {},
   "source": [
    "Result:\n",
    "\n",
    "    0.11168446328610283\n",
    "    -0.1879320563260931"
   ]
  },
  {
   "cell_type": "markdown",
   "id": "1757996b-6654-4ea2-91e3-da99191b338f",
   "metadata": {},
   "source": [
    "#### Try it Yourself »"
   ]
  },
  {
   "cell_type": "code",
   "execution_count": null,
   "id": "cf2d3e29-a72d-49ef-9381-80c72fe716f0",
   "metadata": {},
   "outputs": [],
   "source": []
  },
  {
   "cell_type": "markdown",
   "id": "a3bb1b46-96f0-461f-be85-63f1993f2f3f",
   "metadata": {},
   "source": [
    "Example\n",
    "\n",
    "Find if the data comes from a normal distribution:"
   ]
  },
  {
   "cell_type": "markdown",
   "id": "9d0925b4-e025-4a6d-b1ef-9999c54a17f6",
   "metadata": {},
   "source": [
    "```python\n",
    "import numpy as np\n",
    "from scipy.stats import normaltest\n",
    "\n",
    "v = np.random.normal(size=100)\n",
    "\n",
    "print(normaltest(v))\n",
    "```"
   ]
  },
  {
   "cell_type": "markdown",
   "id": "69cba5ca-01cd-4f8d-9721-bc13b191a17d",
   "metadata": {},
   "source": [
    "Result:\n",
    "\n",
    "    NormaltestResult(statistic=4.4783745697002848, pvalue=0.10654505998635538)"
   ]
  },
  {
   "cell_type": "markdown",
   "id": "a01f620a-5c0c-4921-8fd8-7a61369ac62c",
   "metadata": {},
   "source": [
    "#### Try it Yourself »"
   ]
  },
  {
   "cell_type": "code",
   "execution_count": null,
   "id": "27c2598b-6fc1-43a5-b74a-0275537e029f",
   "metadata": {},
   "outputs": [],
   "source": []
  },
  {
   "cell_type": "markdown",
   "id": "a4baeec1-c9a7-4c51-97ec-7e603d83f388",
   "metadata": {},
   "source": [
    "### Test Yourself With Exercises"
   ]
  },
  {
   "cell_type": "markdown",
   "id": "1591c040-8316-45cf-b136-28ce021ba831",
   "metadata": {},
   "source": [
    "Exercise:\n",
    "\n",
    "Insert the missing method to meassure the summetry in data:\n",
    "\n",
    "```python\n",
    "import numpy as np\n",
    "from scipy.stats import skew, kurtosis\n",
    "\n",
    "v = np.random.normal(size=100)\n",
    "\n",
    "print((v))\n",
    "```"
   ]
  },
  {
   "cell_type": "code",
   "execution_count": null,
   "id": "7230b78f-0f7e-412b-8434-178102668b46",
   "metadata": {},
   "outputs": [],
   "source": []
  }
 ],
 "metadata": {
  "kernelspec": {
   "display_name": "Python 3 (ipykernel)",
   "language": "python",
   "name": "python3"
  },
  "language_info": {
   "codemirror_mode": {
    "name": "ipython",
    "version": 3
   },
   "file_extension": ".py",
   "mimetype": "text/x-python",
   "name": "python",
   "nbconvert_exporter": "python",
   "pygments_lexer": "ipython3",
   "version": "3.9.12"
  }
 },
 "nbformat": 4,
 "nbformat_minor": 5
}
