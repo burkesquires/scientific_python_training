{
 "cells": [
  {
   "cell_type": "code",
   "execution_count": null,
   "metadata": {},
   "outputs": [],
   "source": [
    "%matplotlib inline"
   ]
  },
  {
   "cell_type": "markdown",
   "metadata": {},
   "source": [
    "\n",
    "Total Variation denoising\n",
    "===========================\n",
    "\n",
    "This example demoes Total-Variation (TV) denoising on a Racoon face.\n",
    "\n"
   ]
  },
  {
   "cell_type": "code",
   "execution_count": null,
   "metadata": {},
   "outputs": [],
   "source": [
    "import numpy as np\n",
    "import scipy\n",
    "import scipy.misc\n",
    "import matplotlib.pyplot as plt\n",
    "try:\n",
    "    from skimage.restoration import denoise_tv_chambolle\n",
    "except ImportError:\n",
    "    # skimage < 0.12\n",
    "    from skimage.filters import denoise_tv_chambolle\n",
    "\n",
    "f = scipy.misc.face(gray=True)\n",
    "f = f[230:290, 220:320]\n",
    "\n",
    "noisy = f + 0.4*f.std()*np.random.random(f.shape)\n",
    "\n",
    "tv_denoised = denoise_tv_chambolle(noisy, weight=10)\n",
    "\n",
    "\n",
    "plt.figure(figsize=(12, 2.8))\n",
    "\n",
    "plt.subplot(131)\n",
    "plt.imshow(noisy, cmap=plt.cm.gray, vmin=40, vmax=220)\n",
    "plt.axis('off')\n",
    "plt.title('noisy', fontsize=20)\n",
    "plt.subplot(132)\n",
    "plt.imshow(tv_denoised, cmap=plt.cm.gray, vmin=40, vmax=220)\n",
    "plt.axis('off')\n",
    "plt.title('TV denoising', fontsize=20)\n",
    "\n",
    "tv_denoised = denoise_tv_chambolle(noisy, weight=50)\n",
    "plt.subplot(133)\n",
    "plt.imshow(tv_denoised, cmap=plt.cm.gray, vmin=40, vmax=220)\n",
    "plt.axis('off')\n",
    "plt.title('(more) TV denoising', fontsize=20)\n",
    "\n",
    "plt.subplots_adjust(wspace=0.02, hspace=0.02, top=0.9, bottom=0, left=0,\n",
    "                    right=1)\n",
    "plt.show()"
   ]
  }
 ],
 "metadata": {
  "kernelspec": {
   "display_name": "Python 3",
   "language": "python",
   "name": "python3"
  },
  "language_info": {
   "codemirror_mode": {
    "name": "ipython",
    "version": 3
   },
   "file_extension": ".py",
   "mimetype": "text/x-python",
   "name": "python",
   "nbconvert_exporter": "python",
   "pygments_lexer": "ipython3",
   "version": "3.6.13"
  }
 },
 "nbformat": 4,
 "nbformat_minor": 0
}
