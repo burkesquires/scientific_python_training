{
 "cells": [
  {
   "cell_type": "code",
   "execution_count": null,
   "metadata": {},
   "outputs": [],
   "source": [
    "%matplotlib inline"
   ]
  },
  {
   "cell_type": "markdown",
   "metadata": {},
   "source": [
    "\n",
    "Finding a minimum in a flat neighborhood\n",
    "=========================================\n",
    "\n",
    "An excercise of finding minimum. This excercise is hard because the\n",
    "function is very flat around the minimum (all its derivatives are zero).\n",
    "Thus gradient information is unreliable.\n",
    "\n",
    "The function admits a minimum in [0, 0]. The challenge is to get within\n",
    "1e-7 of this minimum, starting at x0 = [1, 1].\n",
    "\n",
    "The solution that we adopt here is to give up on using gradient or\n",
    "information based on local differences, and to rely on the Powell\n",
    "algorithm. With 162 function evaluations, we get to 1e-8 of the\n",
    "solution.\n",
    "\n"
   ]
  },
  {
   "cell_type": "code",
   "execution_count": null,
   "metadata": {},
   "outputs": [],
   "source": [
    "import numpy as np\n",
    "from scipy import optimize\n",
    "import matplotlib.pyplot as plt\n",
    "\n",
    "def f(x):\n",
    "    return np.exp(-1/(.01*x[0]**2 + x[1]**2))\n",
    "\n",
    "# A well-conditionned version of f:\n",
    "def g(x):\n",
    "    return f([10*x[0], x[1]])\n",
    "\n",
    "# The gradient of g. We won't use it here for the optimization.\n",
    "def g_prime(x):\n",
    "    r = np.sqrt(x[0]**2 + x[1]**2)\n",
    "    return 2/r**3*g(x)*x/r\n",
    "\n",
    "result = optimize.minimize(g, [1, 1], method=\"Powell\", tol=1e-10)\n",
    "x_min = result.x"
   ]
  },
  {
   "cell_type": "markdown",
   "metadata": {},
   "source": [
    "Some pretty plotting\n",
    "\n"
   ]
  },
  {
   "cell_type": "code",
   "execution_count": null,
   "metadata": {},
   "outputs": [],
   "source": [
    "plt.figure(0)\n",
    "plt.clf()\n",
    "t = np.linspace(-1.1, 1.1, 100)\n",
    "plt.plot(t, f([0, t]))\n",
    "\n",
    "plt.figure(1)\n",
    "plt.clf()\n",
    "X, Y = np.mgrid[-1.5:1.5:100j, -1.1:1.1:100j]\n",
    "plt.imshow(f([X, Y]).T, cmap=plt.cm.gray_r, extent=[-1.5, 1.5, -1.1, 1.1],\n",
    "          origin='lower')\n",
    "plt.contour(X, Y, f([X, Y]), cmap=plt.cm.gnuplot)\n",
    "\n",
    "# Plot the gradient\n",
    "dX, dY = g_prime([.1*X[::5, ::5], Y[::5, ::5]])\n",
    "# Adjust for our preconditioning\n",
    "dX *= .1\n",
    "plt.quiver(X[::5, ::5], Y[::5, ::5], dX, dY, color='.5')\n",
    "\n",
    "# Plot our solution\n",
    "plt.plot(x_min[0], x_min[1], 'r+', markersize=15)\n",
    "\n",
    "plt.show()"
   ]
  }
 ],
 "metadata": {
  "kernelspec": {
   "display_name": "Python 3",
   "language": "python",
   "name": "python3"
  },
  "language_info": {
   "codemirror_mode": {
    "name": "ipython",
    "version": 3
   },
   "file_extension": ".py",
   "mimetype": "text/x-python",
   "name": "python",
   "nbconvert_exporter": "python",
   "pygments_lexer": "ipython3",
   "version": "3.6.13"
  }
 },
 "nbformat": 4,
 "nbformat_minor": 0
}
