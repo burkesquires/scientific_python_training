{
 "cells": [
  {
   "cell_type": "code",
   "execution_count": null,
   "metadata": {},
   "outputs": [],
   "source": [
    "%matplotlib inline"
   ]
  },
  {
   "cell_type": "markdown",
   "metadata": {},
   "source": [
    "\n",
    "Cumulative wind speed prediction\n",
    "================================\n",
    "\n",
    "Generate the image cumulative-wind-speed-prediction.png\n",
    "for the interpolate section of scipy.rst.\n",
    "\n"
   ]
  },
  {
   "cell_type": "code",
   "execution_count": null,
   "metadata": {},
   "outputs": [],
   "source": [
    "import numpy as np\n",
    "from scipy.interpolate import UnivariateSpline\n",
    "import matplotlib.pyplot as plt\n",
    "\n",
    "max_speeds = np.load('max-speeds.npy')\n",
    "years_nb = max_speeds.shape[0]\n",
    "\n",
    "cprob = (np.arange(years_nb, dtype=np.float32) + 1)/(years_nb + 1)\n",
    "sorted_max_speeds = np.sort(max_speeds)\n",
    "speed_spline = UnivariateSpline(cprob, sorted_max_speeds)\n",
    "nprob = np.linspace(0, 1, 1e2)\n",
    "fitted_max_speeds = speed_spline(nprob)\n",
    "\n",
    "fifty_prob = 1. - 0.02\n",
    "fifty_wind = speed_spline(fifty_prob)\n",
    "\n",
    "plt.figure()\n",
    "plt.plot(sorted_max_speeds, cprob, 'o')\n",
    "plt.plot(fitted_max_speeds, nprob, 'g--')\n",
    "plt.plot([fifty_wind], [fifty_prob], 'o', ms=8., mfc='y', mec='y')\n",
    "plt.text(30, 0.05, '$V_{50} = %.2f \\, m/s$' % fifty_wind)\n",
    "plt.plot([fifty_wind, fifty_wind], [plt.axis()[2], fifty_prob], 'k--')\n",
    "plt.xlabel('Annual wind speed maxima [$m/s$]')\n",
    "plt.ylabel('Cumulative probability')"
   ]
  }
 ],
 "metadata": {
  "kernelspec": {
   "display_name": "Python 3",
   "language": "python",
   "name": "python3"
  },
  "language_info": {
   "codemirror_mode": {
    "name": "ipython",
    "version": 3
   },
   "file_extension": ".py",
   "mimetype": "text/x-python",
   "name": "python",
   "nbconvert_exporter": "python",
   "pygments_lexer": "ipython3",
   "version": "3.6.13"
  }
 },
 "nbformat": 4,
 "nbformat_minor": 0
}
