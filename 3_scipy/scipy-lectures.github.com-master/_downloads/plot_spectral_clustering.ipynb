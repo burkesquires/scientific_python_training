{
 "cells": [
  {
   "cell_type": "code",
   "execution_count": null,
   "metadata": {},
   "outputs": [],
   "source": [
    "%matplotlib inline"
   ]
  },
  {
   "cell_type": "markdown",
   "metadata": {},
   "source": [
    "\n",
    "Segmentation with spectral clustering\n",
    "======================================\n",
    "\n",
    "This example uses spectral clustering to do segmentation.\n",
    "\n"
   ]
  },
  {
   "cell_type": "code",
   "execution_count": null,
   "metadata": {},
   "outputs": [],
   "source": [
    "import numpy as np\n",
    "import matplotlib.pyplot as plt\n",
    "\n",
    "from sklearn.feature_extraction import image\n",
    "from sklearn.cluster import spectral_clustering"
   ]
  },
  {
   "cell_type": "code",
   "execution_count": null,
   "metadata": {},
   "outputs": [],
   "source": [
    "l = 100\n",
    "x, y = np.indices((l, l))\n",
    "\n",
    "center1 = (28, 24)\n",
    "center2 = (40, 50)\n",
    "center3 = (67, 58)\n",
    "center4 = (24, 70)\n",
    "\n",
    "radius1, radius2, radius3, radius4 = 16, 14, 15, 14\n",
    "\n",
    "circle1 = (x - center1[0])**2 + (y - center1[1])**2 < radius1**2\n",
    "circle2 = (x - center2[0])**2 + (y - center2[1])**2 < radius2**2\n",
    "circle3 = (x - center3[0])**2 + (y - center3[1])**2 < radius3**2\n",
    "circle4 = (x - center4[0])**2 + (y - center4[1])**2 < radius4**2"
   ]
  },
  {
   "cell_type": "markdown",
   "metadata": {},
   "source": [
    "4 circles\n",
    "\n"
   ]
  },
  {
   "cell_type": "code",
   "execution_count": null,
   "metadata": {},
   "outputs": [],
   "source": [
    "img = circle1 + circle2 + circle3 + circle4\n",
    "mask = img.astype(bool)\n",
    "img = img.astype(float)\n",
    "\n",
    "img += 1 + 0.2*np.random.randn(*img.shape)\n",
    "\n",
    "# Convert the image into a graph with the value of the gradient on the\n",
    "# edges.\n",
    "graph = image.img_to_graph(img, mask=mask)\n",
    "\n",
    "# Take a decreasing function of the gradient: we take it weakly\n",
    "# dependant from the gradient the segmentation is close to a voronoi\n",
    "graph.data = np.exp(-graph.data / graph.data.std())\n",
    "\n",
    "# Force the solver to be arpack, since amg is numerically\n",
    "# unstable on this example\n",
    "labels = spectral_clustering(graph, n_clusters=4)\n",
    "label_im = -np.ones(mask.shape)\n",
    "label_im[mask] = labels\n",
    "\n",
    "plt.figure(figsize=(6, 3))\n",
    "plt.subplot(121)\n",
    "plt.imshow(img, cmap=plt.cm.nipy_spectral, interpolation='nearest')\n",
    "plt.axis('off')\n",
    "plt.subplot(122)\n",
    "plt.imshow(label_im, cmap=plt.cm.nipy_spectral, interpolation='nearest')\n",
    "plt.axis('off')\n",
    "\n",
    "plt.subplots_adjust(wspace=0, hspace=0., top=0.99, bottom=0.01, left=0.01, right=0.99)\n",
    "plt.show()"
   ]
  }
 ],
 "metadata": {
  "kernelspec": {
   "display_name": "Python 3",
   "language": "python",
   "name": "python3"
  },
  "language_info": {
   "codemirror_mode": {
    "name": "ipython",
    "version": 3
   },
   "file_extension": ".py",
   "mimetype": "text/x-python",
   "name": "python",
   "nbconvert_exporter": "python",
   "pygments_lexer": "ipython3",
   "version": "3.6.13"
  }
 },
 "nbformat": 4,
 "nbformat_minor": 0
}
