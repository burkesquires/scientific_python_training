{
 "cells": [
  {
   "cell_type": "code",
   "execution_count": null,
   "metadata": {},
   "outputs": [],
   "source": [
    "%matplotlib inline"
   ]
  },
  {
   "cell_type": "markdown",
   "metadata": {},
   "source": [
    "\n",
    "Equalizing the histogram of an image\n",
    "=====================================\n",
    "\n",
    "Histogram equalizing makes images have a uniform histogram.\n",
    "\n"
   ]
  },
  {
   "cell_type": "code",
   "execution_count": null,
   "metadata": {},
   "outputs": [],
   "source": [
    "from skimage import data, exposure\n",
    "import matplotlib.pyplot as plt\n",
    "\n",
    "camera = data.camera()\n",
    "camera_equalized = exposure.equalize_hist(camera)\n",
    "\n",
    "plt.figure(figsize=(7, 3))\n",
    "\n",
    "plt.subplot(121)\n",
    "plt.imshow(camera, cmap='gray', interpolation='nearest')\n",
    "plt.axis('off')\n",
    "plt.subplot(122)\n",
    "plt.imshow(camera_equalized, cmap='gray', interpolation='nearest')\n",
    "plt.axis('off')\n",
    "plt.tight_layout()\n",
    "plt.show()"
   ]
  }
 ],
 "metadata": {
  "kernelspec": {
   "display_name": "Python 3",
   "language": "python",
   "name": "python3"
  },
  "language_info": {
   "codemirror_mode": {
    "name": "ipython",
    "version": 3
   },
   "file_extension": ".py",
   "mimetype": "text/x-python",
   "name": "python",
   "nbconvert_exporter": "python",
   "pygments_lexer": "ipython3",
   "version": "3.6.13"
  }
 },
 "nbformat": 4,
 "nbformat_minor": 0
}
