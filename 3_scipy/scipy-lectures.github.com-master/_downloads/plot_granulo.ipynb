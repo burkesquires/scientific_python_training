{
 "cells": [
  {
   "cell_type": "code",
   "execution_count": null,
   "metadata": {},
   "outputs": [],
   "source": [
    "%matplotlib inline"
   ]
  },
  {
   "cell_type": "markdown",
   "metadata": {},
   "source": [
    "\n",
    "Granulometry\n",
    "============\n",
    "\n",
    "This example performs a simple granulometry analysis.\n",
    "\n"
   ]
  },
  {
   "cell_type": "code",
   "execution_count": null,
   "metadata": {},
   "outputs": [],
   "source": [
    "import numpy as np\n",
    "from scipy import ndimage\n",
    "import matplotlib.pyplot as plt\n",
    "\n",
    "def disk_structure(n):\n",
    "    struct = np.zeros((2 * n + 1, 2 * n + 1))\n",
    "    x, y = np.indices((2 * n + 1, 2 * n + 1))\n",
    "    mask = (x - n)**2 + (y - n)**2 <= n**2\n",
    "    struct[mask] = 1\n",
    "    return struct.astype(np.bool)\n",
    "\n",
    "\n",
    "def granulometry(data, sizes=None):\n",
    "    s = max(data.shape)\n",
    "    if sizes is None:\n",
    "        sizes = range(1, s/2, 2)\n",
    "    granulo = [ndimage.binary_opening(data, \\\n",
    "            structure=disk_structure(n)).sum() for n in sizes]\n",
    "    return granulo\n",
    "\n",
    "\n",
    "np.random.seed(1)\n",
    "n = 10\n",
    "l = 256\n",
    "im = np.zeros((l, l))\n",
    "points = l*np.random.random((2, n**2))\n",
    "im[(points[0]).astype(np.int), (points[1]).astype(np.int)] = 1\n",
    "im = ndimage.gaussian_filter(im, sigma=l/(4.*n))\n",
    "\n",
    "mask = im > im.mean()\n",
    "\n",
    "granulo = granulometry(mask, sizes=np.arange(2, 19, 4))\n",
    "\n",
    "plt.figure(figsize=(6, 2.2))\n",
    "\n",
    "plt.subplot(121)\n",
    "plt.imshow(mask, cmap=plt.cm.gray)\n",
    "opened = ndimage.binary_opening(mask, structure=disk_structure(10))\n",
    "opened_more = ndimage.binary_opening(mask, structure=disk_structure(14))\n",
    "plt.contour(opened, [0.5], colors='b', linewidths=2)\n",
    "plt.contour(opened_more, [0.5], colors='r', linewidths=2)\n",
    "plt.axis('off')\n",
    "plt.subplot(122)\n",
    "plt.plot(np.arange(2, 19, 4), granulo, 'ok', ms=8)\n",
    "\n",
    "\n",
    "plt.subplots_adjust(wspace=0.02, hspace=0.15, top=0.95, bottom=0.15, left=0, right=0.95)\n",
    "plt.show()"
   ]
  }
 ],
 "metadata": {
  "kernelspec": {
   "display_name": "Python 3",
   "language": "python",
   "name": "python3"
  },
  "language_info": {
   "codemirror_mode": {
    "name": "ipython",
    "version": 3
   },
   "file_extension": ".py",
   "mimetype": "text/x-python",
   "name": "python",
   "nbconvert_exporter": "python",
   "pygments_lexer": "ipython3",
   "version": "3.6.13"
  }
 },
 "nbformat": 4,
 "nbformat_minor": 0
}
