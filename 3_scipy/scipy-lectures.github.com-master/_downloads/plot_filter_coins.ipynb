{
 "cells": [
  {
   "cell_type": "code",
   "execution_count": null,
   "metadata": {},
   "outputs": [],
   "source": [
    "%matplotlib inline"
   ]
  },
  {
   "cell_type": "markdown",
   "metadata": {},
   "source": [
    "\n",
    "Various denoising filters\n",
    "=========================\n",
    "\n",
    "This example compares several denoising filters available in scikit-image:\n",
    "a Gaussian filter, a median filter, and total variation denoising.\n",
    "\n"
   ]
  },
  {
   "cell_type": "code",
   "execution_count": null,
   "metadata": {},
   "outputs": [],
   "source": [
    "import numpy as np\n",
    "import matplotlib.pyplot as plt\n",
    "from skimage import data\n",
    "from skimage import filters\n",
    "from skimage import restoration\n",
    "\n",
    "coins = data.coins()\n",
    "gaussian_filter_coins = filters.gaussian(coins, sigma=2)\n",
    "med_filter_coins = filters.median(coins, np.ones((3, 3)))\n",
    "tv_filter_coins = restoration.denoise_tv_chambolle(coins, weight=0.1)\n",
    "\n",
    "plt.figure(figsize=(16, 4))\n",
    "plt.subplot(141)\n",
    "plt.imshow(coins[10:80, 300:370], cmap='gray', interpolation='nearest')\n",
    "plt.axis('off')\n",
    "plt.title('Image')\n",
    "plt.subplot(142)\n",
    "plt.imshow(gaussian_filter_coins[10:80, 300:370], cmap='gray',\n",
    "           interpolation='nearest')\n",
    "plt.axis('off')\n",
    "plt.title('Gaussian filter')\n",
    "plt.subplot(143)\n",
    "plt.imshow(med_filter_coins[10:80, 300:370], cmap='gray',\n",
    "           interpolation='nearest')\n",
    "plt.axis('off')\n",
    "plt.title('Median filter')\n",
    "plt.subplot(144)\n",
    "plt.imshow(tv_filter_coins[10:80, 300:370], cmap='gray',\n",
    "           interpolation='nearest')\n",
    "plt.axis('off')\n",
    "plt.title('TV filter')\n",
    "plt.show()"
   ]
  }
 ],
 "metadata": {
  "kernelspec": {
   "display_name": "Python 3",
   "language": "python",
   "name": "python3"
  },
  "language_info": {
   "codemirror_mode": {
    "name": "ipython",
    "version": 3
   },
   "file_extension": ".py",
   "mimetype": "text/x-python",
   "name": "python",
   "nbconvert_exporter": "python",
   "pygments_lexer": "ipython3",
   "version": "3.6.13"
  }
 },
 "nbformat": 4,
 "nbformat_minor": 0
}
