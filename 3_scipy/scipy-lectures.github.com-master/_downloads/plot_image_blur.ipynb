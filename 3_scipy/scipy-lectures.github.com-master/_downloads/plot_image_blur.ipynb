{
 "cells": [
  {
   "cell_type": "code",
   "execution_count": null,
   "metadata": {},
   "outputs": [],
   "source": [
    "%matplotlib inline"
   ]
  },
  {
   "cell_type": "markdown",
   "metadata": {},
   "source": [
    "\n",
    "# Simple image blur by convolution with a Gaussian kernel\n",
    "\n",
    "\n",
    "Blur an an image (:download:`../../../../data/elephant.png`) using a\n",
    "Gaussian kernel.\n",
    "\n",
    "Convolution is easy to perform with FFT: convolving two signals boils\n",
    "down to multiplying their FFTs (and performing an inverse FFT).\n",
    "\n",
    "\n"
   ]
  },
  {
   "cell_type": "code",
   "execution_count": null,
   "metadata": {},
   "outputs": [],
   "source": [
    "import numpy as np\n",
    "from scipy import fftpack\n",
    "import matplotlib.pyplot as plt"
   ]
  },
  {
   "cell_type": "markdown",
   "metadata": {},
   "source": [
    "The original image\n",
    "####################################################################\n",
    "\n"
   ]
  },
  {
   "cell_type": "code",
   "execution_count": null,
   "metadata": {},
   "outputs": [],
   "source": [
    "# read image\n",
    "img = plt.imread('../../../../data/elephant.png')\n",
    "plt.figure()\n",
    "plt.imshow(img)"
   ]
  },
  {
   "cell_type": "markdown",
   "metadata": {},
   "source": [
    "Prepare an Gaussian convolution kernel\n",
    "####################################################################\n",
    "\n"
   ]
  },
  {
   "cell_type": "code",
   "execution_count": null,
   "metadata": {},
   "outputs": [],
   "source": [
    "# First a 1-D  Gaussian\n",
    "t = np.linspace(-10, 10, 30)\n",
    "bump = np.exp(-0.1*t**2)\n",
    "bump /= np.trapz(bump) # normalize the integral to 1\n",
    "\n",
    "# make a 2-D kernel out of it\n",
    "kernel = bump[:, np.newaxis] * bump[np.newaxis, :]"
   ]
  },
  {
   "cell_type": "markdown",
   "metadata": {},
   "source": [
    "Implement convolution via FFT\n",
    "####################################################################\n",
    "\n"
   ]
  },
  {
   "cell_type": "code",
   "execution_count": null,
   "metadata": {},
   "outputs": [],
   "source": [
    "# Padded fourier transform, with the same shape as the image\n",
    "# We use :func:`scipy.signal.fftpack.fft2` to have a 2D FFT\n",
    "kernel_ft = fftpack.fft2(kernel, shape=img.shape[:2], axes=(0, 1))\n",
    "\n",
    "# convolve\n",
    "img_ft = fftpack.fft2(img, axes=(0, 1))\n",
    "# the 'newaxis' is to match to color direction\n",
    "img2_ft = kernel_ft[:, :, np.newaxis] * img_ft\n",
    "img2 = fftpack.ifft2(img2_ft, axes=(0, 1)).real\n",
    "\n",
    "# clip values to range\n",
    "img2 = np.clip(img2, 0, 1)\n",
    "\n",
    "# plot output\n",
    "plt.figure()\n",
    "plt.imshow(img2)"
   ]
  },
  {
   "cell_type": "markdown",
   "metadata": {},
   "source": [
    "Further exercise (only if you are familiar with this stuff):\n",
    "\n",
    "A \"wrapped border\" appears in the upper left and top edges of the\n",
    "image. This is because the padding is not done correctly, and does\n",
    "not take the kernel size into account (so the convolution \"flows out\n",
    "of bounds of the image\").  Try to remove this artifact.\n",
    "\n"
   ]
  },
  {
   "cell_type": "markdown",
   "metadata": {},
   "source": [
    "A function to do it: :func:`scipy.signal.fftconvolve`\n",
    "####################################################################\n",
    "\n",
    " The above exercise was only for didactic reasons: there exists a\n",
    " function in scipy that will do this for us, and probably do a better\n",
    " job: :func:`scipy.signal.fftconvolve`\n",
    "\n"
   ]
  },
  {
   "cell_type": "code",
   "execution_count": null,
   "metadata": {},
   "outputs": [],
   "source": [
    "from scipy import signal\n",
    "# mode='same' is there to enforce the same output shape as input arrays\n",
    "# (ie avoid border effects)\n",
    "img3 = signal.fftconvolve(img, kernel[:, :, np.newaxis], mode='same')\n",
    "plt.figure()\n",
    "plt.imshow(img3)"
   ]
  },
  {
   "cell_type": "markdown",
   "metadata": {},
   "source": [
    "Note that we still have a decay to zero at the border of the image.\n",
    "Using :func:`scipy.ndimage.gaussian_filter` would get rid of this\n",
    "artifact\n",
    "\n"
   ]
  },
  {
   "cell_type": "code",
   "execution_count": null,
   "metadata": {},
   "outputs": [],
   "source": [
    "plt.show()"
   ]
  }
 ],
 "metadata": {
  "kernelspec": {
   "display_name": "Python 3",
   "language": "python",
   "name": "python3"
  },
  "language_info": {
   "codemirror_mode": {
    "name": "ipython",
    "version": 3
   },
   "file_extension": ".py",
   "mimetype": "text/x-python",
   "name": "python",
   "nbconvert_exporter": "python",
   "pygments_lexer": "ipython3",
   "version": "3.6.13"
  }
 },
 "nbformat": 4,
 "nbformat_minor": 0
}
