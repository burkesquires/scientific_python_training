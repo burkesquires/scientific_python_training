{
 "cells": [
  {
   "cell_type": "code",
   "execution_count": null,
   "metadata": {},
   "outputs": [],
   "source": [
    "%matplotlib inline"
   ]
  },
  {
   "cell_type": "markdown",
   "metadata": {},
   "source": [
    "\n",
    "Marker face color\n",
    "==================\n",
    "\n",
    "Demo the marker face color of matplotlib's markers.\n",
    "\n"
   ]
  },
  {
   "cell_type": "code",
   "execution_count": null,
   "metadata": {},
   "outputs": [],
   "source": [
    "import numpy as np\n",
    "import matplotlib.pyplot as plt\n",
    "\n",
    "size = 256, 16\n",
    "dpi = 72.0\n",
    "figsize = size[0] / float(dpi), size[1] / float(dpi)\n",
    "fig = plt.figure(figsize=figsize, dpi=dpi)\n",
    "fig.patch.set_alpha(0)\n",
    "plt.axes([0, 0, 1, 1], frameon=False)\n",
    "\n",
    "for i in range(1, 11):\n",
    "    r, g, b = np.random.uniform(0, 1, 3)\n",
    "    plt.plot([i, ], [1, ], 's', markersize=8, markerfacecolor=(r, g, b, 1),\n",
    "             markeredgewidth=.1,  markeredgecolor=(0, 0, 0, .5))\n",
    "plt.xlim(0, 11)\n",
    "plt.xticks([])\n",
    "plt.yticks([])\n",
    "plt.show()"
   ]
  }
 ],
 "metadata": {
  "kernelspec": {
   "display_name": "Python 3",
   "language": "python",
   "name": "python3"
  },
  "language_info": {
   "codemirror_mode": {
    "name": "ipython",
    "version": 3
   },
   "file_extension": ".py",
   "mimetype": "text/x-python",
   "name": "python",
   "nbconvert_exporter": "python",
   "pygments_lexer": "ipython3",
   "version": "3.6.13"
  }
 },
 "nbformat": 4,
 "nbformat_minor": 0
}
