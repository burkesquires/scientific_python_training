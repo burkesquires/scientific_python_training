{
 "cells": [
  {
   "cell_type": "code",
   "execution_count": null,
   "metadata": {},
   "outputs": [],
   "source": [
    "%matplotlib inline"
   ]
  },
  {
   "cell_type": "markdown",
   "metadata": {},
   "source": [
    "\n",
    "3D plotting\n",
    "============\n",
    "\n",
    "Demo 3D plotting with matplotlib and style the figure.\n",
    "\n"
   ]
  },
  {
   "cell_type": "code",
   "execution_count": null,
   "metadata": {},
   "outputs": [],
   "source": [
    "import matplotlib.pyplot as plt\n",
    "from mpl_toolkits.mplot3d import axes3d\n",
    "\n",
    "ax = plt.gca(projection='3d')\n",
    "X, Y, Z = axes3d.get_test_data(0.05)\n",
    "cset = ax.contourf(X, Y, Z)\n",
    "ax.clabel(cset, fontsize=9, inline=1)\n",
    "\n",
    "plt.xticks([])\n",
    "plt.yticks([])\n",
    "ax.set_zticks([])\n",
    "\n",
    "\n",
    "ax.text2D(-0.05, 1.05, \" 3D plots             \\n\",\n",
    "          horizontalalignment='left',\n",
    "          verticalalignment='top',\n",
    "          bbox=dict(facecolor='white', alpha=1.0),\n",
    "          family='Lint McCree Intl BB',\n",
    "          size='x-large',\n",
    "          transform=plt.gca().transAxes)\n",
    "\n",
    "ax.text2D(-0.05, .975, \" Plot 2D or 3D data\",\n",
    "          horizontalalignment='left',\n",
    "          verticalalignment='top',\n",
    "          family='Lint McCree Intl BB',\n",
    "          size='medium',\n",
    "          transform=plt.gca().transAxes)\n",
    "\n",
    "plt.show()"
   ]
  }
 ],
 "metadata": {
  "kernelspec": {
   "display_name": "Python 3",
   "language": "python",
   "name": "python3"
  },
  "language_info": {
   "codemirror_mode": {
    "name": "ipython",
    "version": 3
   },
   "file_extension": ".py",
   "mimetype": "text/x-python",
   "name": "python",
   "nbconvert_exporter": "python",
   "pygments_lexer": "ipython3",
   "version": "3.6.13"
  }
 },
 "nbformat": 4,
 "nbformat_minor": 0
}
