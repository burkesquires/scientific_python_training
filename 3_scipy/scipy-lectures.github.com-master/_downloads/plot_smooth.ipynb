{
 "cells": [
  {
   "cell_type": "code",
   "execution_count": null,
   "metadata": {},
   "outputs": [],
   "source": [
    "%matplotlib inline"
   ]
  },
  {
   "cell_type": "markdown",
   "metadata": {},
   "source": [
    "\n",
    "Smooth vs non-smooth\n",
    "=====================\n",
    "\n",
    "Draws a figure to explain smooth versus non smooth optimization.\n",
    "\n"
   ]
  },
  {
   "cell_type": "code",
   "execution_count": null,
   "metadata": {},
   "outputs": [],
   "source": [
    "import numpy as np\n",
    "import matplotlib.pyplot as plt\n",
    "\n",
    "x = np.linspace(-1.5, 1.5, 101)\n",
    "\n",
    "# A smooth function\n",
    "plt.figure(1, figsize=(3, 2.5))\n",
    "plt.clf()\n",
    "\n",
    "plt.plot(x, np.sqrt(.2 + x**2), linewidth=2)\n",
    "plt.text(-1, 0, '$f$', size=20)\n",
    "\n",
    "plt.ylim(ymin=-.2)\n",
    "plt.axis('off')\n",
    "plt.tight_layout()\n",
    "\n",
    "# A non-smooth function\n",
    "plt.figure(2, figsize=(3, 2.5))\n",
    "plt.clf()\n",
    "plt.plot(x, np.abs(x), linewidth=2)\n",
    "plt.text(-1, 0, '$f$', size=20)\n",
    "\n",
    "plt.ylim(ymin=-.2)\n",
    "plt.axis('off')\n",
    "plt.tight_layout()\n",
    "plt.show()"
   ]
  }
 ],
 "metadata": {
  "kernelspec": {
   "display_name": "Python 3",
   "language": "python",
   "name": "python3"
  },
  "language_info": {
   "codemirror_mode": {
    "name": "ipython",
    "version": 3
   },
   "file_extension": ".py",
   "mimetype": "text/x-python",
   "name": "python",
   "nbconvert_exporter": "python",
   "pygments_lexer": "ipython3",
   "version": "3.6.13"
  }
 },
 "nbformat": 4,
 "nbformat_minor": 0
}
