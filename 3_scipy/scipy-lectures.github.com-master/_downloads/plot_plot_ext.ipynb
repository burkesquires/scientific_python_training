{
 "cells": [
  {
   "cell_type": "code",
   "execution_count": null,
   "metadata": {},
   "outputs": [],
   "source": [
    "%matplotlib inline"
   ]
  },
  {
   "cell_type": "markdown",
   "metadata": {},
   "source": [
    "\n",
    "Plot example vignette\n",
    "=======================\n",
    "\n",
    "An example of plots with matplotlib, and added annotations.\n",
    "\n"
   ]
  },
  {
   "cell_type": "code",
   "execution_count": null,
   "metadata": {},
   "outputs": [],
   "source": [
    "import numpy as np\n",
    "import matplotlib.pyplot as plt\n",
    "\n",
    "n = 256\n",
    "X = np.linspace(0, 2, n)\n",
    "Y = np.sin(2 * np.pi * X)\n",
    "\n",
    "plt.plot (X, Y, lw=2, color='violet')\n",
    "plt.xlim(-0.2, 2.2)\n",
    "plt.xticks([])\n",
    "plt.ylim(-1.2, 1.2)\n",
    "plt.yticks([])\n",
    "\n",
    "\n",
    "# Add a title and a box around it\n",
    "from matplotlib.patches import FancyBboxPatch\n",
    "ax = plt.gca()\n",
    "ax.add_patch(FancyBboxPatch((-0.05, .87),\n",
    "                            width=.66, height=.165, clip_on=False,\n",
    "                            boxstyle=\"square,pad=0\", zorder=3,\n",
    "                            facecolor='white', alpha=1.0,\n",
    "                            transform=plt.gca().transAxes))\n",
    "\n",
    "plt.text(-0.05, 1.02, \" Regular Plot:      plt.plot(...)\\n\",\n",
    "        horizontalalignment='left',\n",
    "        verticalalignment='top',\n",
    "        size='xx-large',\n",
    "        transform=plt.gca().transAxes)\n",
    "\n",
    "plt.text(-0.05, 1.01, \"\\n\\n   Plot lines and/or markers \",\n",
    "        horizontalalignment='left',\n",
    "        verticalalignment='top',\n",
    "        size='large',\n",
    "        transform=plt.gca().transAxes)\n",
    "\n",
    "plt.show()"
   ]
  }
 ],
 "metadata": {
  "kernelspec": {
   "display_name": "Python 3",
   "language": "python",
   "name": "python3"
  },
  "language_info": {
   "codemirror_mode": {
    "name": "ipython",
    "version": 3
   },
   "file_extension": ".py",
   "mimetype": "text/x-python",
   "name": "python",
   "nbconvert_exporter": "python",
   "pygments_lexer": "ipython3",
   "version": "3.6.13"
  }
 },
 "nbformat": 4,
 "nbformat_minor": 0
}
