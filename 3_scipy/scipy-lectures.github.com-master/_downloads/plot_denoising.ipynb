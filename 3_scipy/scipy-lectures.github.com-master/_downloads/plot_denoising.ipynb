{
 "cells": [
  {
   "cell_type": "code",
   "execution_count": null,
   "metadata": {},
   "outputs": [],
   "source": [
    "%matplotlib inline"
   ]
  },
  {
   "cell_type": "markdown",
   "metadata": {},
   "source": [
    "\n",
    "Denoising an image with the median filter\n",
    "==========================================\n",
    "\n",
    "This example shows the original image, the noisy image, the denoised\n",
    "one (with the median filter) and the difference between the two.\n",
    "\n"
   ]
  },
  {
   "cell_type": "code",
   "execution_count": null,
   "metadata": {},
   "outputs": [],
   "source": [
    "import numpy as np\n",
    "from scipy import ndimage\n",
    "import matplotlib.pyplot as plt\n",
    "\n",
    "im = np.zeros((20, 20))\n",
    "im[5:-5, 5:-5] = 1\n",
    "im = ndimage.distance_transform_bf(im)\n",
    "im_noise = im + 0.2*np.random.randn(*im.shape)\n",
    "\n",
    "im_med = ndimage.median_filter(im_noise, 3)\n",
    "\n",
    "plt.figure(figsize=(16, 5))\n",
    "\n",
    "plt.subplot(141)\n",
    "plt.imshow(im, interpolation='nearest')\n",
    "plt.axis('off')\n",
    "plt.title('Original image', fontsize=20)\n",
    "plt.subplot(142)\n",
    "plt.imshow(im_noise, interpolation='nearest', vmin=0, vmax=5)\n",
    "plt.axis('off')\n",
    "plt.title('Noisy image', fontsize=20)\n",
    "plt.subplot(143)\n",
    "plt.imshow(im_med, interpolation='nearest', vmin=0, vmax=5)\n",
    "plt.axis('off')\n",
    "plt.title('Median filter', fontsize=20)\n",
    "plt.subplot(144)\n",
    "plt.imshow(np.abs(im - im_med), cmap=plt.cm.hot, interpolation='nearest')\n",
    "plt.axis('off')\n",
    "plt.title('Error', fontsize=20)\n",
    "\n",
    "\n",
    "plt.subplots_adjust(wspace=0.02, hspace=0.02, top=0.9, bottom=0, left=0,\n",
    "                    right=1)\n",
    "\n",
    "plt.show()"
   ]
  }
 ],
 "metadata": {
  "kernelspec": {
   "display_name": "Python 3",
   "language": "python",
   "name": "python3"
  },
  "language_info": {
   "codemirror_mode": {
    "name": "ipython",
    "version": 3
   },
   "file_extension": ".py",
   "mimetype": "text/x-python",
   "name": "python",
   "nbconvert_exporter": "python",
   "pygments_lexer": "ipython3",
   "version": "3.6.13"
  }
 },
 "nbformat": 4,
 "nbformat_minor": 0
}
