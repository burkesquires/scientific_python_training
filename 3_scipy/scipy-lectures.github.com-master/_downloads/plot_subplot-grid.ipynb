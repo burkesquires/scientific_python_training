{
 "cells": [
  {
   "cell_type": "code",
   "execution_count": null,
   "metadata": {},
   "outputs": [],
   "source": [
    "%matplotlib inline"
   ]
  },
  {
   "cell_type": "markdown",
   "metadata": {},
   "source": [
    "\n",
    "Subplot grid\n",
    "=============\n",
    "\n",
    "An example showing the subplot grid in matplotlib.\n",
    "\n"
   ]
  },
  {
   "cell_type": "code",
   "execution_count": null,
   "metadata": {},
   "outputs": [],
   "source": [
    "import matplotlib.pyplot as plt\n",
    "\n",
    "plt.figure(figsize=(6, 4))\n",
    "plt.subplot(2, 2, 1)\n",
    "plt.xticks([])\n",
    "plt.yticks([])\n",
    "plt.text(0.5, 0.5, 'subplot(2,2,1)', ha='center', va='center',\n",
    "        size=20, alpha=.5)\n",
    "\n",
    "plt.subplot(2, 2, 2)\n",
    "plt.xticks([])\n",
    "plt.yticks([])\n",
    "plt.text(0.5, 0.5, 'subplot(2,2,2)', ha='center', va='center',\n",
    "        size=20, alpha=.5)\n",
    "\n",
    "plt.subplot(2, 2, 3)\n",
    "plt.xticks([])\n",
    "plt.yticks([])\n",
    "\n",
    "plt.text(0.5, 0.5, 'subplot(2,2,3)', ha='center', va='center',\n",
    "        size=20, alpha=.5)\n",
    "\n",
    "plt.subplot(2, 2, 4)\n",
    "plt.xticks([])\n",
    "plt.yticks([])\n",
    "plt.text(0.5, 0.5, 'subplot(2,2,4)', ha='center', va='center',\n",
    "        size=20, alpha=.5)\n",
    "\n",
    "plt.tight_layout()\n",
    "plt.show()"
   ]
  }
 ],
 "metadata": {
  "kernelspec": {
   "display_name": "Python 3",
   "language": "python",
   "name": "python3"
  },
  "language_info": {
   "codemirror_mode": {
    "name": "ipython",
    "version": 3
   },
   "file_extension": ".py",
   "mimetype": "text/x-python",
   "name": "python",
   "nbconvert_exporter": "python",
   "pygments_lexer": "ipython3",
   "version": "3.6.13"
  }
 },
 "nbformat": 4,
 "nbformat_minor": 0
}
