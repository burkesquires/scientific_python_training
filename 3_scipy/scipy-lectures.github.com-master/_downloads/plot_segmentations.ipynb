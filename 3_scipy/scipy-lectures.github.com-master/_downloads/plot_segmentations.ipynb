{
 "cells": [
  {
   "cell_type": "code",
   "execution_count": null,
   "metadata": {},
   "outputs": [],
   "source": [
    "%matplotlib inline"
   ]
  },
  {
   "cell_type": "markdown",
   "metadata": {},
   "source": [
    "\n",
    "Watershed and random walker for segmentation\n",
    "============================================\n",
    "\n",
    "This example compares two segmentation methods in order to separate two\n",
    "connected disks: the watershed algorithm, and the random walker algorithm.\n",
    "\n",
    "Both segmentation methods require seeds, that are pixels belonging\n",
    "unambigusouly to a reagion. Here, local maxima of the distance map to the\n",
    "background are used as seeds.\n",
    "\n"
   ]
  },
  {
   "cell_type": "code",
   "execution_count": null,
   "metadata": {},
   "outputs": [],
   "source": [
    "import numpy as np\n",
    "from skimage.morphology import watershed\n",
    "from skimage.feature import peak_local_max\n",
    "from skimage import measure\n",
    "from skimage.segmentation import random_walker\n",
    "import matplotlib.pyplot as plt\n",
    "from scipy import ndimage\n",
    "\n",
    "# Generate an initial image with two overlapping circles\n",
    "x, y = np.indices((80, 80))\n",
    "x1, y1, x2, y2 = 28, 28, 44, 52\n",
    "r1, r2 = 16, 20\n",
    "mask_circle1 = (x - x1) ** 2 + (y - y1) ** 2 < r1 ** 2\n",
    "mask_circle2 = (x - x2) ** 2 + (y - y2) ** 2 < r2 ** 2\n",
    "image = np.logical_or(mask_circle1, mask_circle2)\n",
    "# Now we want to separate the two objects in image\n",
    "# Generate the markers as local maxima of the distance\n",
    "# to the background\n",
    "distance = ndimage.distance_transform_edt(image)\n",
    "local_maxi = peak_local_max(\n",
    "    distance, indices=False, footprint=np.ones((3, 3)), labels=image)\n",
    "markers = measure.label(local_maxi)\n",
    "labels_ws = watershed(-distance, markers, mask=image)\n",
    "\n",
    "markers[~image] = -1\n",
    "labels_rw = random_walker(image, markers)\n",
    "\n",
    "plt.figure(figsize=(12, 3.5))\n",
    "plt.subplot(141)\n",
    "plt.imshow(image, cmap='gray', interpolation='nearest')\n",
    "plt.axis('off')\n",
    "plt.title('image')\n",
    "plt.subplot(142)\n",
    "plt.imshow(-distance, interpolation='nearest')\n",
    "plt.axis('off')\n",
    "plt.title('distance map')\n",
    "plt.subplot(143)\n",
    "plt.imshow(labels_ws, cmap='nipy_spectral', interpolation='nearest')\n",
    "plt.axis('off')\n",
    "plt.title('watershed segmentation')\n",
    "plt.subplot(144)\n",
    "plt.imshow(labels_rw, cmap='nipy_spectral', interpolation='nearest')\n",
    "plt.axis('off')\n",
    "plt.title('random walker segmentation')\n",
    "\n",
    "plt.tight_layout()\n",
    "plt.show()"
   ]
  }
 ],
 "metadata": {
  "kernelspec": {
   "display_name": "Python 3",
   "language": "python",
   "name": "python3"
  },
  "language_info": {
   "codemirror_mode": {
    "name": "ipython",
    "version": 3
   },
   "file_extension": ".py",
   "mimetype": "text/x-python",
   "name": "python",
   "nbconvert_exporter": "python",
   "pygments_lexer": "ipython3",
   "version": "3.6.13"
  }
 },
 "nbformat": 4,
 "nbformat_minor": 0
}
