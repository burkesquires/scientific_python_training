{
 "cells": [
  {
   "cell_type": "code",
   "execution_count": null,
   "metadata": {},
   "outputs": [],
   "source": [
    "%matplotlib inline"
   ]
  },
  {
   "cell_type": "markdown",
   "metadata": {},
   "source": [
    "\n",
    "Solid cap style\n",
    "================\n",
    "\n",
    "An example demoing the solide cap style in matplotlib.\n",
    "\n"
   ]
  },
  {
   "cell_type": "code",
   "execution_count": null,
   "metadata": {},
   "outputs": [],
   "source": [
    "import numpy as np\n",
    "import matplotlib.pyplot as plt\n",
    "\n",
    "size = 256, 16\n",
    "dpi = 72.0\n",
    "figsize= size[0] / float(dpi), size[1] / float(dpi)\n",
    "fig = plt.figure(figsize=figsize, dpi=dpi)\n",
    "fig.patch.set_alpha(0)\n",
    "plt.axes([0, 0, 1, 1], frameon=False)\n",
    "\n",
    "plt.plot(np.arange(4), np.ones(4), color=\"blue\", linewidth=8,\n",
    "        solid_capstyle='butt')\n",
    "\n",
    "plt.plot(5 + np.arange(4), np.ones(4), color=\"blue\", linewidth=8,\n",
    "        solid_capstyle='round')\n",
    "\n",
    "plt.plot(10 + np.arange(4), np.ones(4), color=\"blue\", linewidth=8,\n",
    "        solid_capstyle='projecting')\n",
    "\n",
    "plt.xlim(0, 14)\n",
    "plt.xticks([])\n",
    "plt.yticks([])\n",
    "\n",
    "plt.show()"
   ]
  }
 ],
 "metadata": {
  "kernelspec": {
   "display_name": "Python 3",
   "language": "python",
   "name": "python3"
  },
  "language_info": {
   "codemirror_mode": {
    "name": "ipython",
    "version": 3
   },
   "file_extension": ".py",
   "mimetype": "text/x-python",
   "name": "python",
   "nbconvert_exporter": "python",
   "pygments_lexer": "ipython3",
   "version": "3.6.13"
  }
 },
 "nbformat": 4,
 "nbformat_minor": 0
}
