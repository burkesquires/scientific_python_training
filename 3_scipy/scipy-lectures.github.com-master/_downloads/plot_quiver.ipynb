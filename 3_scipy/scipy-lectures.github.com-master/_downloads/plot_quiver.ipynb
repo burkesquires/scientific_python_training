{
 "cells": [
  {
   "cell_type": "code",
   "execution_count": null,
   "metadata": {},
   "outputs": [],
   "source": [
    "%matplotlib inline"
   ]
  },
  {
   "cell_type": "markdown",
   "metadata": {},
   "source": [
    "\n",
    "Plotting a vector field: quiver\n",
    "================================\n",
    "\n",
    "A simple example showing how to plot a vector field (quiver) with\n",
    "matplotlib.\n",
    "\n"
   ]
  },
  {
   "cell_type": "code",
   "execution_count": null,
   "metadata": {},
   "outputs": [],
   "source": [
    "import numpy as np\n",
    "import matplotlib.pyplot as plt\n",
    "\n",
    "n = 8\n",
    "X, Y = np.mgrid[0:n, 0:n]\n",
    "T = np.arctan2(Y - n / 2., X - n/2.)\n",
    "R = 10 + np.sqrt((Y - n / 2.0) ** 2 + (X - n / 2.0) ** 2)\n",
    "U, V = R * np.cos(T), R * np.sin(T)\n",
    "\n",
    "plt.axes([0.025, 0.025, 0.95, 0.95])\n",
    "plt.quiver(X, Y, U, V, R, alpha=.5)\n",
    "plt.quiver(X, Y, U, V, edgecolor='k', facecolor='None', linewidth=.5)\n",
    "\n",
    "plt.xlim(-1, n)\n",
    "plt.xticks([])\n",
    "plt.ylim(-1, n)\n",
    "plt.yticks([])\n",
    "\n",
    "plt.show()"
   ]
  }
 ],
 "metadata": {
  "kernelspec": {
   "display_name": "Python 3",
   "language": "python",
   "name": "python3"
  },
  "language_info": {
   "codemirror_mode": {
    "name": "ipython",
    "version": 3
   },
   "file_extension": ".py",
   "mimetype": "text/x-python",
   "name": "python",
   "nbconvert_exporter": "python",
   "pygments_lexer": "ipython3",
   "version": "3.6.13"
  }
 },
 "nbformat": 4,
 "nbformat_minor": 0
}
