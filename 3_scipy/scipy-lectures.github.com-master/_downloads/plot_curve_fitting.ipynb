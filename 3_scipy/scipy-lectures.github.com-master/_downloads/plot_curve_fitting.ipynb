{
 "cells": [
  {
   "cell_type": "code",
   "execution_count": null,
   "metadata": {},
   "outputs": [],
   "source": [
    "%matplotlib inline"
   ]
  },
  {
   "cell_type": "markdown",
   "metadata": {},
   "source": [
    "\n",
    "Curve fitting\n",
    "=============\n",
    "\n",
    "A curve fitting example\n",
    "\n"
   ]
  },
  {
   "cell_type": "code",
   "execution_count": null,
   "metadata": {},
   "outputs": [],
   "source": [
    "import numpy as np\n",
    "from scipy import optimize\n",
    "import matplotlib.pyplot as plt\n",
    "\n",
    "np.random.seed(0)\n",
    "\n",
    "# Our test function\n",
    "def f(t, omega, phi):\n",
    "    return np.cos(omega * t + phi)\n",
    "\n",
    "# Our x and y data\n",
    "x = np.linspace(0, 3, 50)\n",
    "y = f(x, 1.5, 1) + .1*np.random.normal(size=50)\n",
    "\n",
    "# Fit the model: the parameters omega and phi can be found in the\n",
    "# `params` vector\n",
    "params, params_cov = optimize.curve_fit(f, x, y)\n",
    "\n",
    "# plot the data and the fitted curve\n",
    "t = np.linspace(0, 3, 1000)\n",
    "\n",
    "plt.figure(1)\n",
    "plt.clf()\n",
    "plt.plot(x, y, 'bx')\n",
    "plt.plot(t, f(t, *params), 'r-')\n",
    "plt.show()"
   ]
  }
 ],
 "metadata": {
  "kernelspec": {
   "display_name": "Python 3",
   "language": "python",
   "name": "python3"
  },
  "language_info": {
   "codemirror_mode": {
    "name": "ipython",
    "version": 3
   },
   "file_extension": ".py",
   "mimetype": "text/x-python",
   "name": "python",
   "nbconvert_exporter": "python",
   "pygments_lexer": "ipython3",
   "version": "3.6.13"
  }
 },
 "nbformat": 4,
 "nbformat_minor": 0
}
