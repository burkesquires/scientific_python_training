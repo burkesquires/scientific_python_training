{
 "cells": [
  {
   "cell_type": "code",
   "execution_count": null,
   "metadata": {},
   "outputs": [],
   "source": [
    "%matplotlib inline"
   ]
  },
  {
   "cell_type": "markdown",
   "metadata": {},
   "source": [
    "\n",
    "Convex function\n",
    "================\n",
    "\n",
    "A figure showing the definition of a convex function\n",
    "\n"
   ]
  },
  {
   "cell_type": "code",
   "execution_count": null,
   "metadata": {},
   "outputs": [],
   "source": [
    "import numpy as np\n",
    "import matplotlib.pyplot as plt\n",
    "\n",
    "x = np.linspace(-1, 2)\n",
    "\n",
    "plt.figure(1, figsize=(3, 2.5))\n",
    "plt.clf()\n",
    "\n",
    "# A convex function\n",
    "plt.plot(x, x**2, linewidth=2)\n",
    "plt.text(-.7, -.6**2, '$f$', size=20)\n",
    "\n",
    "# The tangent in one point\n",
    "plt.plot(x, 2*x - 1)\n",
    "plt.plot(1, 1, 'k+')\n",
    "plt.text(.3, -.75, \"Tangent to $f$\", size=15)\n",
    "plt.text(1, 1 - .5, 'C', size=15)\n",
    "\n",
    "# Convexity as barycenter\n",
    "plt.plot([.35, 1.85], [.35**2, 1.85**2])\n",
    "plt.plot([.35, 1.85], [.35**2, 1.85**2], 'k+')\n",
    "plt.text(.35 - .2, .35**2 + .1, 'A', size=15)\n",
    "plt.text(1.85 - .2, 1.85**2, 'B', size=15)\n",
    "\n",
    "plt.ylim(ymin=-1)\n",
    "plt.axis('off')\n",
    "plt.tight_layout()\n",
    "\n",
    "# Convexity as barycenter\n",
    "plt.figure(2, figsize=(3, 2.5))\n",
    "plt.clf()\n",
    "plt.plot(x, x**2 + np.exp(-5*(x - .5)**2), linewidth=2)\n",
    "plt.text(-.7, -.6**2, '$f$', size=20)\n",
    "\n",
    "plt.ylim(ymin=-1)\n",
    "plt.axis('off')\n",
    "plt.tight_layout()\n",
    "plt.show()"
   ]
  }
 ],
 "metadata": {
  "kernelspec": {
   "display_name": "Python 3",
   "language": "python",
   "name": "python3"
  },
  "language_info": {
   "codemirror_mode": {
    "name": "ipython",
    "version": 3
   },
   "file_extension": ".py",
   "mimetype": "text/x-python",
   "name": "python",
   "nbconvert_exporter": "python",
   "pygments_lexer": "ipython3",
   "version": "3.6.13"
  }
 },
 "nbformat": 4,
 "nbformat_minor": 0
}
