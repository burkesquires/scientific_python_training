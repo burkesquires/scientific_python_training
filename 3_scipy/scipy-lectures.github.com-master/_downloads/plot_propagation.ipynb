{
 "cells": [
  {
   "cell_type": "code",
   "execution_count": null,
   "metadata": {},
   "outputs": [],
   "source": [
    "%matplotlib inline"
   ]
  },
  {
   "cell_type": "markdown",
   "metadata": {},
   "source": [
    "\n",
    "Opening, erosion, and propagation\n",
    "==================================\n",
    "\n",
    "This example shows simple operations of mathematical morphology.\n",
    "\n"
   ]
  },
  {
   "cell_type": "code",
   "execution_count": null,
   "metadata": {},
   "outputs": [],
   "source": [
    "import numpy as np\n",
    "from scipy import ndimage\n",
    "import matplotlib.pyplot as plt\n",
    "\n",
    "square = np.zeros((32, 32))\n",
    "square[10:-10, 10:-10] = 1\n",
    "np.random.seed(2)\n",
    "x, y = (32*np.random.random((2, 20))).astype(np.int)\n",
    "square[x, y] = 1\n",
    "\n",
    "open_square = ndimage.binary_opening(square)\n",
    "\n",
    "eroded_square = ndimage.binary_erosion(square)\n",
    "reconstruction = ndimage.binary_propagation(eroded_square, mask=square)\n",
    "\n",
    "plt.figure(figsize=(9.5, 3))\n",
    "plt.subplot(131)\n",
    "plt.imshow(square, cmap=plt.cm.gray, interpolation='nearest')\n",
    "plt.axis('off')\n",
    "plt.subplot(132)\n",
    "plt.imshow(open_square, cmap=plt.cm.gray, interpolation='nearest')\n",
    "plt.axis('off')\n",
    "plt.subplot(133)\n",
    "plt.imshow(reconstruction, cmap=plt.cm.gray, interpolation='nearest')\n",
    "plt.axis('off')\n",
    "\n",
    "plt.subplots_adjust(wspace=0, hspace=0.02, top=0.99, bottom=0.01, left=0.01, right=0.99)\n",
    "plt.show()"
   ]
  }
 ],
 "metadata": {
  "kernelspec": {
   "display_name": "Python 3",
   "language": "python",
   "name": "python3"
  },
  "language_info": {
   "codemirror_mode": {
    "name": "ipython",
    "version": 3
   },
   "file_extension": ".py",
   "mimetype": "text/x-python",
   "name": "python",
   "nbconvert_exporter": "python",
   "pygments_lexer": "ipython3",
   "version": "3.6.13"
  }
 },
 "nbformat": 4,
 "nbformat_minor": 0
}
