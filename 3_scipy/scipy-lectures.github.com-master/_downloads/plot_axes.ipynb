{
 "cells": [
  {
   "cell_type": "code",
   "execution_count": null,
   "metadata": {},
   "outputs": [],
   "source": [
    "%matplotlib inline"
   ]
  },
  {
   "cell_type": "markdown",
   "metadata": {},
   "source": [
    "\n",
    "Simple axes example\n",
    "====================\n",
    "\n",
    "This example shows a couple of simple usage of axes.\n",
    "\n",
    "\n"
   ]
  },
  {
   "cell_type": "code",
   "execution_count": null,
   "metadata": {},
   "outputs": [],
   "source": [
    "import matplotlib.pyplot as plt\n",
    "\n",
    "plt.axes([.1, .1, .8, .8])\n",
    "plt.xticks([])\n",
    "plt.yticks([])\n",
    "plt.text(.6, .6, 'axes([0.1, 0.1, 0.8, 0.8])', ha='center', va='center',\n",
    "        size=20, alpha=.5)\n",
    "\n",
    "plt.axes([.2, .2, .3, .3])\n",
    "plt.xticks([])\n",
    "plt.yticks([])\n",
    "plt.text(.5, .5, 'axes([0.2, 0.2, 0.3, 0.3])', ha='center', va='center',\n",
    "        size=16, alpha=.5)\n",
    "\n",
    "plt.show()"
   ]
  }
 ],
 "metadata": {
  "kernelspec": {
   "display_name": "Python 3",
   "language": "python",
   "name": "python3"
  },
  "language_info": {
   "codemirror_mode": {
    "name": "ipython",
    "version": 3
   },
   "file_extension": ".py",
   "mimetype": "text/x-python",
   "name": "python",
   "nbconvert_exporter": "python",
   "pygments_lexer": "ipython3",
   "version": "3.6.13"
  }
 },
 "nbformat": 4,
 "nbformat_minor": 0
}
