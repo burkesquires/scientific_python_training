{
 "cells": [
  {
   "cell_type": "code",
   "execution_count": null,
   "metadata": {},
   "outputs": [],
   "source": [
    "%matplotlib inline"
   ]
  },
  {
   "cell_type": "markdown",
   "metadata": {},
   "source": [
    "\n",
    "Bar plot advanced\n",
    "==================\n",
    "\n",
    "An more elaborate bar plot example\n",
    "\n"
   ]
  },
  {
   "cell_type": "code",
   "execution_count": null,
   "metadata": {},
   "outputs": [],
   "source": [
    "import numpy as np\n",
    "import matplotlib.pyplot as plt\n",
    "\n",
    "n = 16\n",
    "X = np.arange(n)\n",
    "Y1 = (1 - X / float(n)) * np.random.uniform(0.5, 1.0, n)\n",
    "Y2 = (1 - X / float(n)) * np.random.uniform(0.5, 1.0, n)\n",
    "plt.bar(X, Y1, facecolor='#9999ff', edgecolor='white')\n",
    "plt.bar(X, -Y2, facecolor='#ff9999', edgecolor='white')\n",
    "plt.xlim(-.5, n)\n",
    "plt.xticks([])\n",
    "plt.ylim(-1, 1)\n",
    "plt.yticks([])\n",
    "\n",
    "\n",
    "# Add a title and a box around it\n",
    "from matplotlib.patches import FancyBboxPatch\n",
    "ax = plt.gca()\n",
    "ax.add_patch(FancyBboxPatch((-0.05, .87),\n",
    "                            width=.66, height=.165, clip_on=False,\n",
    "                            boxstyle=\"square,pad=0\", zorder=3,\n",
    "                            facecolor='white', alpha=1.0,\n",
    "                            transform=plt.gca().transAxes))\n",
    "\n",
    "plt.text(-0.05, 1.02, \" Bar Plot:              plt.bar(...)\\n\",\n",
    "      horizontalalignment='left',\n",
    "      verticalalignment='top',\n",
    "      size='xx-large',\n",
    "      transform=plt.gca().transAxes)\n",
    "\n",
    "plt.text(-0.05, 1.01, \"\\n\\n   Make a bar plot with rectangles \",\n",
    "      horizontalalignment='left',\n",
    "      verticalalignment='top',\n",
    "      size='large',\n",
    "      transform=plt.gca().transAxes)\n",
    "\n",
    "plt.show()"
   ]
  }
 ],
 "metadata": {
  "kernelspec": {
   "display_name": "Python 3",
   "language": "python",
   "name": "python3"
  },
  "language_info": {
   "codemirror_mode": {
    "name": "ipython",
    "version": 3
   },
   "file_extension": ".py",
   "mimetype": "text/x-python",
   "name": "python",
   "nbconvert_exporter": "python",
   "pygments_lexer": "ipython3",
   "version": "3.6.13"
  }
 },
 "nbformat": 4,
 "nbformat_minor": 0
}
