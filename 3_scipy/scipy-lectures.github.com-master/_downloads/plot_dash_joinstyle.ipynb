{
 "cells": [
  {
   "cell_type": "code",
   "execution_count": null,
   "metadata": {},
   "outputs": [],
   "source": [
    "%matplotlib inline"
   ]
  },
  {
   "cell_type": "markdown",
   "metadata": {},
   "source": [
    "\n",
    "Dash join style\n",
    "================\n",
    "\n",
    "Example demoing the dash join style.\n",
    "\n"
   ]
  },
  {
   "cell_type": "code",
   "execution_count": null,
   "metadata": {},
   "outputs": [],
   "source": [
    "import numpy as np\n",
    "import matplotlib.pyplot as plt\n",
    "\n",
    "size = 256, 16\n",
    "dpi = 72.0\n",
    "figsize= size[0] / float(dpi), size[1] / float(dpi)\n",
    "fig = plt.figure(figsize=figsize, dpi=dpi)\n",
    "fig.patch.set_alpha(0)\n",
    "plt.axes([0, 0, 1, 1], frameon=False)\n",
    "\n",
    "plt.plot(np.arange(3), [0, 1, 0], color=\"blue\", dashes=[12, 5], linewidth=8,\n",
    "        dash_joinstyle='miter')\n",
    "plt.plot(4 + np.arange(3), [0, 1, 0], color=\"blue\", dashes=[12, 5],\n",
    "        linewidth=8, dash_joinstyle='bevel')\n",
    "plt.plot(8 + np.arange(3), [0, 1, 0], color=\"blue\", dashes=[12, 5],\n",
    "        linewidth=8, dash_joinstyle='round')\n",
    "\n",
    "plt.xlim(0, 12)\n",
    "plt.ylim(-1, 2)\n",
    "plt.xticks([])\n",
    "plt.yticks([])\n",
    "\n",
    "plt.show()"
   ]
  }
 ],
 "metadata": {
  "kernelspec": {
   "display_name": "Python 3",
   "language": "python",
   "name": "python3"
  },
  "language_info": {
   "codemirror_mode": {
    "name": "ipython",
    "version": 3
   },
   "file_extension": ".py",
   "mimetype": "text/x-python",
   "name": "python",
   "nbconvert_exporter": "python",
   "pygments_lexer": "ipython3",
   "version": "3.6.13"
  }
 },
 "nbformat": 4,
 "nbformat_minor": 0
}
