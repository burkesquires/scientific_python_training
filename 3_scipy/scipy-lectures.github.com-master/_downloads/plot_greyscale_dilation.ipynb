{
 "cells": [
  {
   "cell_type": "code",
   "execution_count": null,
   "metadata": {},
   "outputs": [],
   "source": [
    "%matplotlib inline"
   ]
  },
  {
   "cell_type": "markdown",
   "metadata": {},
   "source": [
    "\n",
    "Greyscale dilation\n",
    "====================\n",
    "\n",
    "This example illustrates greyscale mathematical morphology.\n",
    "\n"
   ]
  },
  {
   "cell_type": "code",
   "execution_count": null,
   "metadata": {},
   "outputs": [],
   "source": [
    "import numpy as np\n",
    "from scipy import ndimage\n",
    "import matplotlib.pyplot as plt\n",
    "\n",
    "im = np.zeros((64, 64))\n",
    "np.random.seed(2)\n",
    "x, y = (63*np.random.random((2, 8))).astype(np.int)\n",
    "im[x, y] = np.arange(8)\n",
    "\n",
    "bigger_points = ndimage.grey_dilation(im, size=(5, 5), structure=np.ones((5, 5)))\n",
    "\n",
    "square = np.zeros((16, 16))\n",
    "square[4:-4, 4:-4] = 1\n",
    "dist = ndimage.distance_transform_bf(square)\n",
    "dilate_dist = ndimage.grey_dilation(dist, size=(3, 3), \\\n",
    "        structure=np.ones((3, 3)))\n",
    "\n",
    "plt.figure(figsize=(12.5, 3))\n",
    "plt.subplot(141)\n",
    "plt.imshow(im, interpolation='nearest', cmap=plt.cm.nipy_spectral)\n",
    "plt.axis('off')\n",
    "plt.subplot(142)\n",
    "plt.imshow(bigger_points, interpolation='nearest', cmap=plt.cm.nipy_spectral)\n",
    "plt.axis('off')\n",
    "plt.subplot(143)\n",
    "plt.imshow(dist, interpolation='nearest', cmap=plt.cm.nipy_spectral)\n",
    "plt.axis('off')\n",
    "plt.subplot(144)\n",
    "plt.imshow(dilate_dist, interpolation='nearest', cmap=plt.cm.nipy_spectral)\n",
    "plt.axis('off')\n",
    "\n",
    "plt.subplots_adjust(wspace=0, hspace=0.02, top=0.99, bottom=0.01, left=0.01, right=0.99)\n",
    "plt.show()"
   ]
  }
 ],
 "metadata": {
  "kernelspec": {
   "display_name": "Python 3",
   "language": "python",
   "name": "python3"
  },
  "language_info": {
   "codemirror_mode": {
    "name": "ipython",
    "version": 3
   },
   "file_extension": ".py",
   "mimetype": "text/x-python",
   "name": "python",
   "nbconvert_exporter": "python",
   "pygments_lexer": "ipython3",
   "version": "3.6.13"
  }
 },
 "nbformat": 4,
 "nbformat_minor": 0
}
