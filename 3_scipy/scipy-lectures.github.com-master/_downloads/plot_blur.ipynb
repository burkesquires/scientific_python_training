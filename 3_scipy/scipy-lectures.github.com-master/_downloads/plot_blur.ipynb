{
 "cells": [
  {
   "cell_type": "code",
   "execution_count": null,
   "metadata": {},
   "outputs": [],
   "source": [
    "%matplotlib inline"
   ]
  },
  {
   "cell_type": "markdown",
   "metadata": {},
   "source": [
    "\n",
    "Blurring of images\n",
    "===================\n",
    "\n",
    "An example showing various processes that blur an image.\n",
    "\n"
   ]
  },
  {
   "cell_type": "code",
   "execution_count": null,
   "metadata": {},
   "outputs": [],
   "source": [
    "import scipy.misc\n",
    "from scipy import ndimage\n",
    "import matplotlib.pyplot as plt\n",
    "\n",
    "face = scipy.misc.face(gray=True)\n",
    "blurred_face = ndimage.gaussian_filter(face, sigma=3)\n",
    "very_blurred = ndimage.gaussian_filter(face, sigma=5)\n",
    "local_mean = ndimage.uniform_filter(face, size=11)\n",
    "\n",
    "plt.figure(figsize=(9, 3))\n",
    "plt.subplot(131)\n",
    "plt.imshow(blurred_face, cmap=plt.cm.gray)\n",
    "plt.axis('off')\n",
    "plt.subplot(132)\n",
    "plt.imshow(very_blurred, cmap=plt.cm.gray)\n",
    "plt.axis('off')\n",
    "plt.subplot(133)\n",
    "plt.imshow(local_mean, cmap=plt.cm.gray)\n",
    "plt.axis('off')\n",
    "\n",
    "plt.subplots_adjust(wspace=0, hspace=0., top=0.99, bottom=0.01,\n",
    "                    left=0.01, right=0.99)\n",
    "\n",
    "plt.show()"
   ]
  }
 ],
 "metadata": {
  "kernelspec": {
   "display_name": "Python 3",
   "language": "python",
   "name": "python3"
  },
  "language_info": {
   "codemirror_mode": {
    "name": "ipython",
    "version": 3
   },
   "file_extension": ".py",
   "mimetype": "text/x-python",
   "name": "python",
   "nbconvert_exporter": "python",
   "pygments_lexer": "ipython3",
   "version": "3.6.13"
  }
 },
 "nbformat": 4,
 "nbformat_minor": 0
}
