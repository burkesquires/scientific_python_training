{
 "cells": [
  {
   "cell_type": "code",
   "execution_count": null,
   "metadata": {},
   "outputs": [],
   "source": [
    "%matplotlib inline"
   ]
  },
  {
   "cell_type": "markdown",
   "metadata": {},
   "source": [
    "\n",
    "Image denoising\n",
    "================\n",
    "\n",
    "This example demoes image denoising on a Racoon face.\n",
    "\n"
   ]
  },
  {
   "cell_type": "code",
   "execution_count": null,
   "metadata": {},
   "outputs": [],
   "source": [
    "import numpy as np\n",
    "import scipy\n",
    "import scipy.misc\n",
    "from scipy import ndimage\n",
    "import matplotlib.pyplot as plt\n",
    "\n",
    "f = scipy.misc.face(gray=True)\n",
    "f = f[230:290, 220:320]\n",
    "\n",
    "noisy = f + 0.4*f.std()*np.random.random(f.shape)\n",
    "\n",
    "gauss_denoised = ndimage.gaussian_filter(noisy, 2)\n",
    "med_denoised = ndimage.median_filter(noisy, 3)\n",
    "\n",
    "\n",
    "plt.figure(figsize=(12,2.8))\n",
    "\n",
    "plt.subplot(131)\n",
    "plt.imshow(noisy, cmap=plt.cm.gray, vmin=40, vmax=220)\n",
    "plt.axis('off')\n",
    "plt.title('noisy', fontsize=20)\n",
    "plt.subplot(132)\n",
    "plt.imshow(gauss_denoised, cmap=plt.cm.gray, vmin=40, vmax=220)\n",
    "plt.axis('off')\n",
    "plt.title('Gaussian filter', fontsize=20)\n",
    "plt.subplot(133)\n",
    "plt.imshow(med_denoised, cmap=plt.cm.gray, vmin=40, vmax=220)\n",
    "plt.axis('off')\n",
    "plt.title('Median filter', fontsize=20)\n",
    "\n",
    "plt.subplots_adjust(wspace=0.02, hspace=0.02, top=0.9, bottom=0, left=0,\n",
    "                    right=1)\n",
    "plt.show()"
   ]
  }
 ],
 "metadata": {
  "kernelspec": {
   "display_name": "Python 3",
   "language": "python",
   "name": "python3"
  },
  "language_info": {
   "codemirror_mode": {
    "name": "ipython",
    "version": 3
   },
   "file_extension": ".py",
   "mimetype": "text/x-python",
   "name": "python",
   "nbconvert_exporter": "python",
   "pygments_lexer": "ipython3",
   "version": "3.6.13"
  }
 },
 "nbformat": 4,
 "nbformat_minor": 0
}
