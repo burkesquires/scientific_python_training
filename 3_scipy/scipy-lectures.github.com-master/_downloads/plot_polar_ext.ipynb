{
 "cells": [
  {
   "cell_type": "code",
   "execution_count": null,
   "metadata": {},
   "outputs": [],
   "source": [
    "%matplotlib inline"
   ]
  },
  {
   "cell_type": "markdown",
   "metadata": {},
   "source": [
    "\n",
    "Plotting in polar, decorated\n",
    "=============================\n",
    "\n",
    "An example showing how to plot in polar coordinnate, and some\n",
    "decorations.\n",
    "\n"
   ]
  },
  {
   "cell_type": "code",
   "execution_count": null,
   "metadata": {},
   "outputs": [],
   "source": [
    "import numpy as np\n",
    "import matplotlib.pyplot as plt\n",
    "\n",
    "plt.subplot(1, 1, 1, polar=True)\n",
    "\n",
    "N = 20\n",
    "theta = np.arange(0.0, 2 * np.pi, 2 * np.pi / N)\n",
    "radii = 10 * np.random.rand(N)\n",
    "width = np.pi / 4 * np.random.rand(N)\n",
    "bars = plt.bar(theta, radii, width=width, bottom=0.0)\n",
    "for r, bar in zip(radii, bars):\n",
    "    bar.set_facecolor(plt.cm.jet(r / 10.))\n",
    "    bar.set_alpha(0.5)\n",
    "plt.gca().set_xticklabels([])\n",
    "plt.gca().set_yticklabels([])\n",
    "\n",
    "\n",
    "plt.text(-0.2, 1.02, \" Polar Axis                  \\n\",\n",
    "      horizontalalignment='left',\n",
    "      verticalalignment='top',\n",
    "      size='xx-large',\n",
    "      bbox=dict(facecolor='white', alpha=1.0),\n",
    "      transform=plt.gca().transAxes)\n",
    "\n",
    "plt.text(-0.2, 1.01, \"\\n\\n Plot anything using polar axis \",\n",
    "      horizontalalignment='left',\n",
    "      verticalalignment='top',\n",
    "      size='large',\n",
    "      transform=plt.gca().transAxes)\n",
    "\n",
    "plt.show()"
   ]
  }
 ],
 "metadata": {
  "kernelspec": {
   "display_name": "Python 3",
   "language": "python",
   "name": "python3"
  },
  "language_info": {
   "codemirror_mode": {
    "name": "ipython",
    "version": 3
   },
   "file_extension": ".py",
   "mimetype": "text/x-python",
   "name": "python",
   "nbconvert_exporter": "python",
   "pygments_lexer": "ipython3",
   "version": "3.6.13"
  }
 },
 "nbformat": 4,
 "nbformat_minor": 0
}
