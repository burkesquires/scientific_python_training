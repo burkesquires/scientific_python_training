{
 "cells": [
  {
   "cell_type": "code",
   "execution_count": null,
   "metadata": {},
   "outputs": [],
   "source": [
    "%matplotlib inline"
   ]
  },
  {
   "cell_type": "markdown",
   "metadata": {},
   "source": [
    "\n",
    "Plotting simple quantities of a pandas dataframe\n",
    "=================================================\n",
    "\n",
    "This example loads from a CSV file data with mixed numerical and\n",
    "categorical entries, and plots a few quantities, separately for females\n",
    "and males, thanks to the pandas integrated plotting tool (that uses\n",
    "matplotlib behind the scene).\n",
    "\n",
    "See http://pandas.pydata.org/pandas-docs/stable/visualization.html\n",
    "\n"
   ]
  },
  {
   "cell_type": "code",
   "execution_count": null,
   "metadata": {},
   "outputs": [],
   "source": [
    "import pandas\n",
    "\n",
    "data = pandas.read_csv('brain_size.csv', sep=';', na_values='.')\n",
    "\n",
    "# Box plots of different columns for each gender\n",
    "groupby_gender = data.groupby('Gender')\n",
    "groupby_gender.boxplot(column=['FSIQ', 'VIQ', 'PIQ'])\n",
    "\n",
    "from pandas.tools import plotting\n",
    "\n",
    "# Scatter matrices for different columns\n",
    "plotting.scatter_matrix(data[['Weight', 'Height', 'MRI_Count']])\n",
    "plotting.scatter_matrix(data[['PIQ', 'VIQ', 'FSIQ']])\n",
    "\n",
    "import matplotlib.pyplot as plt\n",
    "plt.show()"
   ]
  }
 ],
 "metadata": {
  "kernelspec": {
   "display_name": "Python 3",
   "language": "python",
   "name": "python3"
  },
  "language_info": {
   "codemirror_mode": {
    "name": "ipython",
    "version": 3
   },
   "file_extension": ".py",
   "mimetype": "text/x-python",
   "name": "python",
   "nbconvert_exporter": "python",
   "pygments_lexer": "ipython3",
   "version": "3.6.13"
  }
 },
 "nbformat": 4,
 "nbformat_minor": 0
}
