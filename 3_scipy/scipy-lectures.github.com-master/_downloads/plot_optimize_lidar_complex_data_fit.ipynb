{
 "cells": [
  {
   "cell_type": "code",
   "execution_count": null,
   "metadata": {},
   "outputs": [],
   "source": [
    "%matplotlib inline"
   ]
  },
  {
   "cell_type": "markdown",
   "metadata": {},
   "source": [
    "\n",
    "The lidar system, data and fit (2 of 2 datasets)\n",
    "================================================\n",
    "\n",
    "Generate a chart of the data fitted by Gaussian curve\n",
    "\n"
   ]
  },
  {
   "cell_type": "code",
   "execution_count": null,
   "metadata": {},
   "outputs": [],
   "source": [
    "import numpy as np\n",
    "import matplotlib.pyplot as plt\n",
    "\n",
    "from scipy.optimize import leastsq\n",
    "\n",
    "\n",
    "def model(t, coeffs):\n",
    "    return coeffs[0] + \\\n",
    "           coeffs[1] * np.exp(-((t-coeffs[2])/coeffs[3])**2) + \\\n",
    "           coeffs[4] * np.exp(-((t-coeffs[5])/coeffs[6])**2) + \\\n",
    "           coeffs[7] * np.exp(-((t-coeffs[8])/coeffs[9])**2)\n",
    "\n",
    "\n",
    "def residuals(coeffs, y, t):\n",
    "    return y - model(t, coeffs)\n",
    "\n",
    "\n",
    "waveform_2 = np.load('waveform_2.npy')\n",
    "t = np.arange(len(waveform_2))\n",
    "\n",
    "x0 = np.array([3, 30, 20, 1, 12, 25, 1, 8, 28, 1], dtype=float)\n",
    "x, flag = leastsq(residuals, x0, args=(waveform_2, t))\n",
    "\n",
    "fig, ax = plt.subplots(figsize=(8, 6))\n",
    "plt.plot(t, waveform_2, t, model(t, x))\n",
    "plt.xlabel('Time [ns]')\n",
    "plt.ylabel('Amplitude [bins]')\n",
    "plt.legend(['Waveform', 'Model'])\n",
    "plt.show()"
   ]
  }
 ],
 "metadata": {
  "kernelspec": {
   "display_name": "Python 3",
   "language": "python",
   "name": "python3"
  },
  "language_info": {
   "codemirror_mode": {
    "name": "ipython",
    "version": 3
   },
   "file_extension": ".py",
   "mimetype": "text/x-python",
   "name": "python",
   "nbconvert_exporter": "python",
   "pygments_lexer": "ipython3",
   "version": "3.6.13"
  }
 },
 "nbformat": 4,
 "nbformat_minor": 0
}
