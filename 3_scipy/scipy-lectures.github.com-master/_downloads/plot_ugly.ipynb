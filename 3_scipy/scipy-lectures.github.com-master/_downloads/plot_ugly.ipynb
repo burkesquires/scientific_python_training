{
 "cells": [
  {
   "cell_type": "code",
   "execution_count": null,
   "metadata": {},
   "outputs": [],
   "source": [
    "%matplotlib inline"
   ]
  },
  {
   "cell_type": "markdown",
   "metadata": {},
   "source": [
    "\n",
    "A example of plotting not quite right\n",
    "======================================\n",
    "\n",
    "An \"ugly\" example of plotting.\n",
    "\n"
   ]
  },
  {
   "cell_type": "code",
   "execution_count": null,
   "metadata": {},
   "outputs": [],
   "source": [
    "import numpy as np\n",
    "import matplotlib\n",
    "matplotlib.use('Agg')\n",
    "import matplotlib.pyplot as plt\n",
    "\n",
    "matplotlib.rc('grid', color='black', linestyle='-', linewidth=1)\n",
    "\n",
    "fig = plt.figure(figsize=(5,4),dpi=72)\n",
    "axes = fig.add_axes([0.01, 0.01, .98, 0.98], facecolor='.75')\n",
    "X = np.linspace(0, 2, 40)\n",
    "Y = np.sin(2 * np.pi * X)\n",
    "plt.plot(X, Y, lw=.05, c='b', antialiased=False)\n",
    "\n",
    "plt.xticks([])\n",
    "plt.yticks(np.arange(-1., 1., 0.2))\n",
    "plt.grid()\n",
    "ax = plt.gca()\n",
    "\n",
    "plt.show()"
   ]
  }
 ],
 "metadata": {
  "kernelspec": {
   "display_name": "Python 3",
   "language": "python",
   "name": "python3"
  },
  "language_info": {
   "codemirror_mode": {
    "name": "ipython",
    "version": 3
   },
   "file_extension": ".py",
   "mimetype": "text/x-python",
   "name": "python",
   "nbconvert_exporter": "python",
   "pygments_lexer": "ipython3",
   "version": "3.6.13"
  }
 },
 "nbformat": 4,
 "nbformat_minor": 0
}
