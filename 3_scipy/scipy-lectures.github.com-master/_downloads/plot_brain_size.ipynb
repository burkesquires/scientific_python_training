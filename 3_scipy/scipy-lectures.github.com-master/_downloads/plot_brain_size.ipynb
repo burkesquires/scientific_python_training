{
 "cells": [
  {
   "cell_type": "code",
   "execution_count": null,
   "metadata": {},
   "outputs": [],
   "source": [
    "%matplotlib inline"
   ]
  },
  {
   "cell_type": "markdown",
   "metadata": {},
   "source": [
    "\n",
    "Relating Gender and IQ\n",
    "=======================\n",
    "\n",
    "Going back to the brain size + IQ data, test if the VIQ of male and\n",
    "female are different after removing the effect of brain size, height and\n",
    "weight.\n",
    "\n",
    "Notice that here 'Gender' is a categorical value. As it is a non-float\n",
    "data type, statsmodels is able to automatically infer this.\n",
    "\n",
    "\n"
   ]
  },
  {
   "cell_type": "code",
   "execution_count": null,
   "metadata": {},
   "outputs": [],
   "source": [
    "import pandas\n",
    "from statsmodels.formula.api import ols\n",
    "\n",
    "data = pandas.read_csv('../brain_size.csv', sep=';', na_values='.')\n",
    "\n",
    "model = ols('VIQ ~ Gender + MRI_Count + Height', data).fit()\n",
    "print(model.summary())\n",
    "\n",
    "# Here, we don't need to define a contrast, as we are testing a single\n",
    "# coefficient of our model, and not a combination of coefficients.\n",
    "# However, defining a contrast, which would then be a 'unit contrast',\n",
    "# will give us the same results\n",
    "print(model.f_test([0, 1, 0, 0]))"
   ]
  },
  {
   "cell_type": "markdown",
   "metadata": {},
   "source": [
    "Here we plot a scatter matrix to get intuitions on our results.\n",
    "This goes beyond what was asked in the exercise\n",
    "\n"
   ]
  },
  {
   "cell_type": "code",
   "execution_count": null,
   "metadata": {},
   "outputs": [],
   "source": [
    "# This plotting is useful to get an intuitions on the relationships between\n",
    "# our different variables\n",
    "\n",
    "from pandas.tools import plotting\n",
    "import matplotlib.pyplot as plt\n",
    "\n",
    "# Fill in the missing values for Height for plotting\n",
    "data['Height'].fillna(method='pad', inplace=True)\n",
    "\n",
    "# The parameter 'c' is passed to plt.scatter and will control the color\n",
    "# The same holds for parameters 'marker', 'alpha' and 'cmap', that\n",
    "# control respectively the type of marker used, their transparency and\n",
    "# the colormap\n",
    "plotting.scatter_matrix(data[['VIQ', 'MRI_Count', 'Height']],\n",
    "                        c=(data['Gender'] == 'Female'), marker='o',\n",
    "                        alpha=1, cmap='winter')\n",
    "\n",
    "fig = plt.gcf()\n",
    "fig.suptitle(\"blue: male, green: female\", size=13)\n",
    "\n",
    "plt.show()"
   ]
  }
 ],
 "metadata": {
  "kernelspec": {
   "display_name": "Python 3",
   "language": "python",
   "name": "python3"
  },
  "language_info": {
   "codemirror_mode": {
    "name": "ipython",
    "version": 3
   },
   "file_extension": ".py",
   "mimetype": "text/x-python",
   "name": "python",
   "nbconvert_exporter": "python",
   "pygments_lexer": "ipython3",
   "version": "3.6.13"
  }
 },
 "nbformat": 4,
 "nbformat_minor": 0
}
