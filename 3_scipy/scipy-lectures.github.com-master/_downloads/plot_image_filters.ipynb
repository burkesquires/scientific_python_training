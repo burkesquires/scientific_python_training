{
 "cells": [
  {
   "cell_type": "code",
   "execution_count": null,
   "metadata": {},
   "outputs": [],
   "source": [
    "%matplotlib inline"
   ]
  },
  {
   "cell_type": "markdown",
   "metadata": {},
   "source": [
    "\n",
    "# Plot filtering on images\n",
    "\n",
    "\n",
    "Demo filtering for denoising of images.\n",
    "\n"
   ]
  },
  {
   "cell_type": "code",
   "execution_count": null,
   "metadata": {},
   "outputs": [],
   "source": [
    "# Load some data\n",
    "from scipy import misc\n",
    "face = misc.face(gray=True)\n",
    "face = face[:512, -512:]  # crop out square on right\n",
    "\n",
    "# Apply a variety of filters\n",
    "from scipy import ndimage\n",
    "from scipy import signal\n",
    "from matplotlib import pyplot as plt\n",
    "\n",
    "import numpy as np\n",
    "noisy_face = np.copy(face).astype(np.float)\n",
    "noisy_face += face.std() * 0.5 * np.random.standard_normal(face.shape)\n",
    "blurred_face = ndimage.gaussian_filter(noisy_face, sigma=3)\n",
    "median_face = ndimage.median_filter(noisy_face, size=5)\n",
    "wiener_face = signal.wiener(noisy_face, (5, 5))\n",
    "\n",
    "plt.figure(figsize=(12, 3.5))\n",
    "plt.subplot(141)\n",
    "plt.imshow(noisy_face, cmap=plt.cm.gray)\n",
    "plt.axis('off')\n",
    "plt.title('noisy')\n",
    "\n",
    "plt.subplot(142)\n",
    "plt.imshow(blurred_face, cmap=plt.cm.gray)\n",
    "plt.axis('off')\n",
    "plt.title('Gaussian filter')\n",
    "\n",
    "plt.subplot(143)\n",
    "plt.imshow(median_face, cmap=plt.cm.gray)\n",
    "plt.axis('off')\n",
    "plt.title('median filter')\n",
    "\n",
    "plt.subplot(144)\n",
    "plt.imshow(wiener_face, cmap=plt.cm.gray)\n",
    "plt.title('Wiener filter')\n",
    "plt.axis('off')\n",
    "\n",
    "plt.subplots_adjust(wspace=.05, left=.01, bottom=.01, right=.99, top=.99)\n",
    "\n",
    "plt.show()"
   ]
  }
 ],
 "metadata": {
  "kernelspec": {
   "display_name": "Python 3",
   "language": "python",
   "name": "python3"
  },
  "language_info": {
   "codemirror_mode": {
    "name": "ipython",
    "version": 3
   },
   "file_extension": ".py",
   "mimetype": "text/x-python",
   "name": "python",
   "nbconvert_exporter": "python",
   "pygments_lexer": "ipython3",
   "version": "3.6.13"
  }
 },
 "nbformat": 4,
 "nbformat_minor": 0
}
