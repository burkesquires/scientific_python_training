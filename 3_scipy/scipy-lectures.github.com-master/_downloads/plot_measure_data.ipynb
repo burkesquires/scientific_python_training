{
 "cells": [
  {
   "cell_type": "code",
   "execution_count": null,
   "metadata": {},
   "outputs": [],
   "source": [
    "%matplotlib inline"
   ]
  },
  {
   "cell_type": "markdown",
   "metadata": {},
   "source": [
    "\n",
    "Measurements from images\n",
    "==========================\n",
    "\n",
    "This examples shows how to measure quantities from various images.\n",
    "\n",
    "\n"
   ]
  },
  {
   "cell_type": "code",
   "execution_count": null,
   "metadata": {},
   "outputs": [],
   "source": [
    "import numpy as np\n",
    "from scipy import ndimage\n",
    "import matplotlib.pyplot as plt\n",
    "\n",
    "np.random.seed(1)\n",
    "n = 10\n",
    "l = 256\n",
    "im = np.zeros((l, l))\n",
    "points = l*np.random.random((2, n**2))\n",
    "im[(points[0]).astype(np.int), (points[1]).astype(np.int)] = 1\n",
    "im = ndimage.gaussian_filter(im, sigma=l/(4.*n))\n",
    "\n",
    "mask = im > im.mean()\n",
    "\n",
    "label_im, nb_labels = ndimage.label(mask)\n",
    "\n",
    "sizes = ndimage.sum(mask, label_im, range(nb_labels + 1))\n",
    "mask_size = sizes < 1000\n",
    "remove_pixel = mask_size[label_im]\n",
    "label_im[remove_pixel] = 0\n",
    "labels = np.unique(label_im)\n",
    "label_clean = np.searchsorted(labels, label_im)\n",
    "\n",
    "\n",
    "plt.figure(figsize=(6 ,3))\n",
    "\n",
    "plt.subplot(121)\n",
    "plt.imshow(label_im, cmap=plt.cm.nipy_spectral)\n",
    "plt.axis('off')\n",
    "plt.subplot(122)\n",
    "plt.imshow(label_clean, vmax=nb_labels, cmap=plt.cm.nipy_spectral)\n",
    "plt.axis('off')\n",
    "\n",
    "plt.subplots_adjust(wspace=0.01, hspace=0.01, top=1, bottom=0, left=0, right=1)\n",
    "plt.show()"
   ]
  }
 ],
 "metadata": {
  "kernelspec": {
   "display_name": "Python 3",
   "language": "python",
   "name": "python3"
  },
  "language_info": {
   "codemirror_mode": {
    "name": "ipython",
    "version": 3
   },
   "file_extension": ".py",
   "mimetype": "text/x-python",
   "name": "python",
   "nbconvert_exporter": "python",
   "pygments_lexer": "ipython3",
   "version": "3.6.13"
  }
 },
 "nbformat": 4,
 "nbformat_minor": 0
}
