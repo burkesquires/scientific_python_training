{
 "cells": [
  {
   "cell_type": "code",
   "execution_count": null,
   "metadata": {},
   "outputs": [],
   "source": [
    "%matplotlib inline"
   ]
  },
  {
   "cell_type": "markdown",
   "metadata": {},
   "source": [
    "\n",
    "Imshow demo\n",
    "============\n",
    "\n",
    "Demoing imshow\n",
    "\n"
   ]
  },
  {
   "cell_type": "code",
   "execution_count": null,
   "metadata": {},
   "outputs": [],
   "source": [
    "import numpy as np\n",
    "import matplotlib.pyplot as plt\n",
    "\n",
    "def f(x, y):\n",
    "    return (1 - x / 2 + x ** 5 + y ** 3) * np.exp(-x ** 2 - y ** 2)\n",
    "\n",
    "n = 10\n",
    "x = np.linspace(-3, 3, 8 * n)\n",
    "y = np.linspace(-3, 3, 6 * n)\n",
    "X, Y = np.meshgrid(x, y)\n",
    "Z = f(X, Y)\n",
    "plt.imshow(Z, interpolation='nearest', cmap='bone', origin='lower')\n",
    "plt.xticks([])\n",
    "plt.yticks([])\n",
    "\n",
    "\n",
    "# Add a title and a box around it\n",
    "from matplotlib.patches import FancyBboxPatch\n",
    "ax = plt.gca()\n",
    "ax.add_patch(FancyBboxPatch((-0.05, .87),\n",
    "                            width=.66, height=.165, clip_on=False,\n",
    "                            boxstyle=\"square,pad=0\", zorder=3,\n",
    "                            facecolor='white', alpha=1.0,\n",
    "                            transform=plt.gca().transAxes))\n",
    "\n",
    "plt.text(-0.05, 1.02, \" Imshow:       plt.imshow(...)\\n\",\n",
    "        horizontalalignment='left',\n",
    "        verticalalignment='top',\n",
    "        size='xx-large',\n",
    "        transform=plt.gca().transAxes)\n",
    "\n",
    "plt.text(-0.05, 1.01, \"\\n\\n   Display an image to current axes \",\n",
    "        horizontalalignment='left',\n",
    "        verticalalignment='top',\n",
    "        family='Lint McCree Intl BB',\n",
    "        size='large',\n",
    "        transform=plt.gca().transAxes)\n",
    "\n",
    "plt.show()"
   ]
  }
 ],
 "metadata": {
  "kernelspec": {
   "display_name": "Python 3",
   "language": "python",
   "name": "python3"
  },
  "language_info": {
   "codemirror_mode": {
    "name": "ipython",
    "version": 3
   },
   "file_extension": ".py",
   "mimetype": "text/x-python",
   "name": "python",
   "nbconvert_exporter": "python",
   "pygments_lexer": "ipython3",
   "version": "3.6.13"
  }
 },
 "nbformat": 4,
 "nbformat_minor": 0
}
