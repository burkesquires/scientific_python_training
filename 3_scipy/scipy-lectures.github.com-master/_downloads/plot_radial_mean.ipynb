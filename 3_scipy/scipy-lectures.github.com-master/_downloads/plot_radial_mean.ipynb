{
 "cells": [
  {
   "cell_type": "code",
   "execution_count": null,
   "metadata": {},
   "outputs": [],
   "source": [
    "%matplotlib inline"
   ]
  },
  {
   "cell_type": "markdown",
   "metadata": {},
   "source": [
    "\n",
    "Radial mean\n",
    "============\n",
    "\n",
    "This example shows how to do a radial mean with scikit-image.\n",
    "\n"
   ]
  },
  {
   "cell_type": "code",
   "execution_count": null,
   "metadata": {},
   "outputs": [],
   "source": [
    "import numpy as np\n",
    "import scipy\n",
    "from scipy import ndimage\n",
    "import matplotlib.pyplot as plt\n",
    "\n",
    "f = scipy.misc.face(gray=True)\n",
    "sx, sy = f.shape\n",
    "X, Y = np.ogrid[0:sx, 0:sy]\n",
    "\n",
    "\n",
    "r = np.hypot(X - sx/2, Y - sy/2)\n",
    "\n",
    "rbin = (20* r/r.max()).astype(np.int)\n",
    "radial_mean = ndimage.mean(f, labels=rbin, index=np.arange(1, rbin.max() +1))\n",
    "\n",
    "plt.figure(figsize=(5, 5))\n",
    "plt.axes([0, 0, 1, 1])\n",
    "plt.imshow(rbin, cmap=plt.cm.nipy_spectral)\n",
    "plt.axis('off')\n",
    "\n",
    "plt.show()"
   ]
  }
 ],
 "metadata": {
  "kernelspec": {
   "display_name": "Python 3",
   "language": "python",
   "name": "python3"
  },
  "language_info": {
   "codemirror_mode": {
    "name": "ipython",
    "version": 3
   },
   "file_extension": ".py",
   "mimetype": "text/x-python",
   "name": "python",
   "nbconvert_exporter": "python",
   "pygments_lexer": "ipython3",
   "version": "3.6.13"
  }
 },
 "nbformat": 4,
 "nbformat_minor": 0
}
