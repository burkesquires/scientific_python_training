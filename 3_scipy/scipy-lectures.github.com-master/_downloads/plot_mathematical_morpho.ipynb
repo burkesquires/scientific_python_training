{
 "cells": [
  {
   "cell_type": "code",
   "execution_count": null,
   "metadata": {},
   "outputs": [],
   "source": [
    "%matplotlib inline"
   ]
  },
  {
   "cell_type": "markdown",
   "metadata": {},
   "source": [
    "\n",
    "# Demo mathematical morphology\n",
    "\n",
    "\n",
    "A basic demo of binary opening and closing.\n",
    "\n"
   ]
  },
  {
   "cell_type": "code",
   "execution_count": null,
   "metadata": {},
   "outputs": [],
   "source": [
    "# Generate some binary data\n",
    "import numpy as np\n",
    "np.random.seed(0)\n",
    "a = np.zeros((50, 50))\n",
    "a[10:-10, 10:-10] = 1\n",
    "a += 0.25 * np.random.standard_normal(a.shape)\n",
    "mask = a>=0.5\n",
    "\n",
    "# Apply mathematical morphology\n",
    "from scipy import ndimage\n",
    "opened_mask = ndimage.binary_opening(mask)\n",
    "closed_mask = ndimage.binary_closing(opened_mask)\n",
    "\n",
    "# Plot\n",
    "from matplotlib import pyplot as plt\n",
    "\n",
    "plt.figure(figsize=(12, 3.5))\n",
    "plt.subplot(141)\n",
    "plt.imshow(a, cmap=plt.cm.gray)\n",
    "plt.axis('off')\n",
    "plt.title('a')\n",
    "\n",
    "plt.subplot(142)\n",
    "plt.imshow(mask, cmap=plt.cm.gray)\n",
    "plt.axis('off')\n",
    "plt.title('mask')\n",
    "\n",
    "plt.subplot(143)\n",
    "plt.imshow(opened_mask, cmap=plt.cm.gray)\n",
    "plt.axis('off')\n",
    "plt.title('opened_mask')\n",
    "\n",
    "plt.subplot(144)\n",
    "plt.imshow(closed_mask, cmap=plt.cm.gray)\n",
    "plt.title('closed_mask')\n",
    "plt.axis('off')\n",
    "\n",
    "plt.subplots_adjust(wspace=.05, left=.01, bottom=.01, right=.99, top=.99)\n",
    "\n",
    "plt.show()"
   ]
  }
 ],
 "metadata": {
  "kernelspec": {
   "display_name": "Python 3",
   "language": "python",
   "name": "python3"
  },
  "language_info": {
   "codemirror_mode": {
    "name": "ipython",
    "version": 3
   },
   "file_extension": ".py",
   "mimetype": "text/x-python",
   "name": "python",
   "nbconvert_exporter": "python",
   "pygments_lexer": "ipython3",
   "version": "3.6.13"
  }
 },
 "nbformat": 4,
 "nbformat_minor": 0
}
