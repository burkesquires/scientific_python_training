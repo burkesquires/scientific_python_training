{
 "cells": [
  {
   "cell_type": "code",
   "execution_count": null,
   "metadata": {},
   "outputs": [],
   "source": [
    "%matplotlib inline"
   ]
  },
  {
   "cell_type": "markdown",
   "metadata": {},
   "source": [
    "\n",
    "Geometrical transformations\n",
    "==============================\n",
    "\n",
    "This examples demos some simple geometrical transformations on a Racoon face.\n",
    "\n"
   ]
  },
  {
   "cell_type": "code",
   "execution_count": null,
   "metadata": {},
   "outputs": [],
   "source": [
    "import numpy as np\n",
    "import scipy.misc\n",
    "from scipy import ndimage\n",
    "import matplotlib.pyplot as plt\n",
    "\n",
    "face = scipy.misc.face(gray=True)\n",
    "lx, ly = face.shape\n",
    "# Cropping\n",
    "crop_face = face[lx//4:-lx//4, ly//4:-ly//4]\n",
    "# up <-> down flip\n",
    "flip_ud_face = np.flipud(face)\n",
    "# rotation\n",
    "rotate_face = ndimage.rotate(face, 45)\n",
    "rotate_face_noreshape = ndimage.rotate(face, 45, reshape=False)\n",
    "\n",
    "plt.figure(figsize=(12.5, 2.5))\n",
    "\n",
    "\n",
    "plt.subplot(151)\n",
    "plt.imshow(face, cmap=plt.cm.gray)\n",
    "plt.axis('off')\n",
    "plt.subplot(152)\n",
    "plt.imshow(crop_face, cmap=plt.cm.gray)\n",
    "plt.axis('off')\n",
    "plt.subplot(153)\n",
    "plt.imshow(flip_ud_face, cmap=plt.cm.gray)\n",
    "plt.axis('off')\n",
    "plt.subplot(154)\n",
    "plt.imshow(rotate_face, cmap=plt.cm.gray)\n",
    "plt.axis('off')\n",
    "plt.subplot(155)\n",
    "plt.imshow(rotate_face_noreshape, cmap=plt.cm.gray)\n",
    "plt.axis('off')\n",
    "\n",
    "plt.subplots_adjust(wspace=0.02, hspace=0.3, top=1, bottom=0.1, left=0,\n",
    "                    right=1)\n",
    "\n",
    "plt.show()"
   ]
  }
 ],
 "metadata": {
  "kernelspec": {
   "display_name": "Python 3",
   "language": "python",
   "name": "python3"
  },
  "language_info": {
   "codemirror_mode": {
    "name": "ipython",
    "version": 3
   },
   "file_extension": ".py",
   "mimetype": "text/x-python",
   "name": "python",
   "nbconvert_exporter": "python",
   "pygments_lexer": "ipython3",
   "version": "3.6.13"
  }
 },
 "nbformat": 4,
 "nbformat_minor": 0
}
