{
 "cells": [
  {
   "cell_type": "code",
   "execution_count": null,
   "metadata": {},
   "outputs": [],
   "source": [
    "%matplotlib inline"
   ]
  },
  {
   "cell_type": "markdown",
   "metadata": {},
   "source": [
    "\n",
    "Random walk exercise\n",
    "====================\n",
    "\n",
    "Plot distance as a function of time for a random walk\n",
    "together with the theoretical result\n",
    "\n",
    "\n"
   ]
  },
  {
   "cell_type": "code",
   "execution_count": null,
   "metadata": {},
   "outputs": [],
   "source": [
    "import numpy as np\n",
    "import matplotlib.pyplot as plt\n",
    "\n",
    "# We create 1000 realizations with 200 steps each\n",
    "n_stories = 1000\n",
    "t_max = 200\n",
    "\n",
    "t = np.arange(t_max)\n",
    "# Steps can be -1 or 1 (note that randint excludes the upper limit)\n",
    "steps = 2 * np.random.randint(0, 1 + 1, (n_stories, t_max)) - 1\n",
    "\n",
    "# The time evolution of the position is obtained by successively\n",
    "# summing up individual steps. This is done for each of the\n",
    "# realizations, i.e. along axis 1.\n",
    "positions = np.cumsum(steps, axis=1)\n",
    "\n",
    "# Determine the time evolution of the mean square distance.\n",
    "sq_distance = positions**2\n",
    "mean_sq_distance = np.mean(sq_distance, axis=0)\n",
    "\n",
    "# Plot the distance d from the origin as a function of time and\n",
    "# compare with the theoretically expected result where d(t)\n",
    "# grows as a square root of time t.\n",
    "plt.figure(figsize=(4, 3)) \n",
    "plt.plot(t, np.sqrt(mean_sq_distance), 'g.', t, np.sqrt(t), 'y-') \n",
    "plt.xlabel(r\"$t$\") \n",
    "plt.ylabel(r\"$\\sqrt{\\langle (\\delta x)^2 \\rangle}$\") \n",
    "plt.tight_layout()\n",
    "plt.show()"
   ]
  }
 ],
 "metadata": {
  "kernelspec": {
   "display_name": "Python 3",
   "language": "python",
   "name": "python3"
  },
  "language_info": {
   "codemirror_mode": {
    "name": "ipython",
    "version": 3
   },
   "file_extension": ".py",
   "mimetype": "text/x-python",
   "name": "python",
   "nbconvert_exporter": "python",
   "pygments_lexer": "ipython3",
   "version": "3.6.13"
  }
 },
 "nbformat": 4,
 "nbformat_minor": 0
}
