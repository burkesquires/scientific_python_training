{
 "cells": [
  {
   "cell_type": "code",
   "execution_count": null,
   "metadata": {},
   "outputs": [],
   "source": [
    "%matplotlib inline"
   ]
  },
  {
   "cell_type": "markdown",
   "metadata": {},
   "source": [
    "\n",
    "Linestyles\n",
    "==========\n",
    "\n",
    "Plot the different line styles.\n",
    "\n"
   ]
  },
  {
   "cell_type": "code",
   "execution_count": null,
   "metadata": {},
   "outputs": [],
   "source": [
    "import numpy as np\n",
    "import matplotlib.pyplot as plt\n",
    "\n",
    "def linestyle(ls, i):\n",
    "    X = i * .5 * np.ones(11)\n",
    "    Y = np.arange(11)\n",
    "    plt.plot(X, Y, ls, color=(.0, .0, 1, 1), lw=3, ms=8,\n",
    "            mfc=(.75, .75, 1, 1), mec=(0, 0, 1, 1))\n",
    "    plt.text(.5 * i, 10.25, ls, rotation=90, fontsize=15, va='bottom')\n",
    "\n",
    "linestyles = ['-', '--', ':', '-.', '.', ',', 'o', '^', 'v', '<', '>', 's',\n",
    "              '+', 'x', 'd', '1', '2', '3', '4', 'h', 'p', '|', '_', 'D', 'H']\n",
    "n_lines = len(linestyles)\n",
    "\n",
    "size = 20 * n_lines, 300\n",
    "dpi = 72.0\n",
    "figsize= size[0] / float(dpi), size[1] / float(dpi)\n",
    "fig = plt.figure(figsize=figsize, dpi=dpi)\n",
    "plt.axes([0, 0.01, 1, .9], frameon=False)\n",
    "\n",
    "for i, ls in enumerate(linestyles):\n",
    "    linestyle(ls, i)\n",
    "\n",
    "plt.xlim(-.2, .2 + .5*n_lines)\n",
    "plt.xticks([])\n",
    "plt.yticks([])\n",
    "\n",
    "plt.show()"
   ]
  }
 ],
 "metadata": {
  "kernelspec": {
   "display_name": "Python 3",
   "language": "python",
   "name": "python3"
  },
  "language_info": {
   "codemirror_mode": {
    "name": "ipython",
    "version": 3
   },
   "file_extension": ".py",
   "mimetype": "text/x-python",
   "name": "python",
   "nbconvert_exporter": "python",
   "pygments_lexer": "ipython3",
   "version": "3.6.13"
  }
 },
 "nbformat": 4,
 "nbformat_minor": 0
}
