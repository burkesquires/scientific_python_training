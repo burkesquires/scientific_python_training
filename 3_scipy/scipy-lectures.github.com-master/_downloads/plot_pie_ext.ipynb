{
 "cells": [
  {
   "cell_type": "code",
   "execution_count": null,
   "metadata": {},
   "outputs": [],
   "source": [
    "%matplotlib inline"
   ]
  },
  {
   "cell_type": "markdown",
   "metadata": {},
   "source": [
    "\n",
    "Pie chart vignette\n",
    "===================\n",
    "\n",
    "Demo pie chart with matplotlib and style the figure.\n",
    "\n"
   ]
  },
  {
   "cell_type": "code",
   "execution_count": null,
   "metadata": {},
   "outputs": [],
   "source": [
    "import numpy as np\n",
    "import matplotlib.pyplot as plt\n",
    "\n",
    "n = 20\n",
    "X = np.ones(n)\n",
    "X[-1] *= 2\n",
    "plt.pie(X, explode=X*.05, colors = ['%f' % (i/float(n)) for i in range(n)])\n",
    "\n",
    "fig = plt.gcf()\n",
    "w, h = fig.get_figwidth(), fig.get_figheight()\n",
    "r = h / float(w)\n",
    "\n",
    "plt.xlim(-1.5, 1.5)\n",
    "plt.ylim(-1.5 * r, 1.5 * r)\n",
    "plt.xticks([])\n",
    "plt.yticks([])\n",
    "\n",
    "\n",
    "# Add a title and a box around it\n",
    "from matplotlib.patches import FancyBboxPatch\n",
    "ax = plt.gca()\n",
    "ax.add_patch(FancyBboxPatch((-0.05, .87),\n",
    "                            width=.66, height=.165, clip_on=False,\n",
    "                            boxstyle=\"square,pad=0\", zorder=3,\n",
    "                            facecolor='white', alpha=1.0,\n",
    "                            transform=plt.gca().transAxes))\n",
    "\n",
    "plt.text(-0.05, 1.02, \" Pie Chart:           plt.pie(...)\\n\",\n",
    "        horizontalalignment='left',\n",
    "        verticalalignment='top',\n",
    "        size='xx-large',\n",
    "        transform=plt.gca().transAxes)\n",
    "\n",
    "plt.text(-0.05, 1.01, \"\\n\\n   Make a pie chart of an array \",\n",
    "        horizontalalignment='left',\n",
    "        verticalalignment='top',\n",
    "        size='large',\n",
    "        transform=plt.gca().transAxes)\n",
    "\n",
    "plt.show()"
   ]
  }
 ],
 "metadata": {
  "kernelspec": {
   "display_name": "Python 3",
   "language": "python",
   "name": "python3"
  },
  "language_info": {
   "codemirror_mode": {
    "name": "ipython",
    "version": 3
   },
   "file_extension": ".py",
   "mimetype": "text/x-python",
   "name": "python",
   "nbconvert_exporter": "python",
   "pygments_lexer": "ipython3",
   "version": "3.6.13"
  }
 },
 "nbformat": 4,
 "nbformat_minor": 0
}
