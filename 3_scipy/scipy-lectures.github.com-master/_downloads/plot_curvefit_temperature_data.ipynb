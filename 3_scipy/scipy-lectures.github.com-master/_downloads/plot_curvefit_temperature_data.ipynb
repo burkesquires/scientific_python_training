{
 "cells": [
  {
   "cell_type": "code",
   "execution_count": null,
   "metadata": {},
   "outputs": [],
   "source": [
    "%matplotlib inline"
   ]
  },
  {
   "cell_type": "markdown",
   "metadata": {},
   "source": [
    "\n",
    "==============================================================\n",
    "Curve fitting: temperature as a function of month of the year\n",
    "==============================================================\n",
    "\n",
    "We have the min and max temperatures in Alaska for each months of the\n",
    "year. We would like to find a function to describe this yearly evolution.\n",
    "\n",
    "For this, we will fit a periodic function.\n",
    "\n"
   ]
  },
  {
   "cell_type": "markdown",
   "metadata": {},
   "source": [
    "The data\n",
    "###########################################################\n",
    "\n"
   ]
  },
  {
   "cell_type": "code",
   "execution_count": null,
   "metadata": {},
   "outputs": [],
   "source": [
    "import numpy as np\n",
    "\n",
    "temp_max = np.array([17,  19,  21,  28,  33,  38, 37,  37,  31,  23,  19,  18])\n",
    "temp_min = np.array([-62, -59, -56, -46, -32, -18, -9, -13, -25, -46, -52, -58])\n",
    "\n",
    "import matplotlib.pyplot as plt\n",
    "months = np.arange(12)\n",
    "plt.plot(months, temp_max, 'ro')\n",
    "plt.plot(months, temp_min, 'bo')\n",
    "plt.xlabel('Month')\n",
    "plt.ylabel('Min and max temperature')"
   ]
  },
  {
   "cell_type": "markdown",
   "metadata": {},
   "source": [
    "Fitting it to a periodic function\n",
    "###########################################################\n",
    "\n"
   ]
  },
  {
   "cell_type": "code",
   "execution_count": null,
   "metadata": {},
   "outputs": [],
   "source": [
    "from scipy import optimize\n",
    "def yearly_temps(times, avg, ampl, time_offset):\n",
    "    return (avg\n",
    "            + ampl * np.cos((times + time_offset) * 2 * np.pi / times.max()))\n",
    "\n",
    "res_max, cov_max = optimize.curve_fit(yearly_temps, months,\n",
    "                                      temp_max, [20, 10, 0])\n",
    "res_min, cov_min = optimize.curve_fit(yearly_temps, months,\n",
    "                                      temp_min, [-40, 20, 0])"
   ]
  },
  {
   "cell_type": "markdown",
   "metadata": {},
   "source": [
    "Plotting the fit\n",
    "###########################################################\n",
    "\n"
   ]
  },
  {
   "cell_type": "code",
   "execution_count": null,
   "metadata": {},
   "outputs": [],
   "source": [
    "days = np.linspace(0, 12, num=365)\n",
    "\n",
    "plt.figure()\n",
    "plt.plot(months, temp_max, 'ro')\n",
    "plt.plot(days, yearly_temps(days, *res_max), 'r-')\n",
    "plt.plot(months, temp_min, 'bo')\n",
    "plt.plot(days, yearly_temps(days, *res_min), 'b-')\n",
    "plt.xlabel('Month')\n",
    "plt.ylabel('Temperature ($^\\circ$C)')\n",
    "\n",
    "plt.show()"
   ]
  }
 ],
 "metadata": {
  "kernelspec": {
   "display_name": "Python 3",
   "language": "python",
   "name": "python3"
  },
  "language_info": {
   "codemirror_mode": {
    "name": "ipython",
    "version": 3
   },
   "file_extension": ".py",
   "mimetype": "text/x-python",
   "name": "python",
   "nbconvert_exporter": "python",
   "pygments_lexer": "ipython3",
   "version": "3.6.13"
  }
 },
 "nbformat": 4,
 "nbformat_minor": 0
}
