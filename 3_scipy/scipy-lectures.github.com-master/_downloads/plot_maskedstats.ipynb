{
 "cells": [
  {
   "cell_type": "code",
   "execution_count": null,
   "metadata": {},
   "outputs": [],
   "source": [
    "%matplotlib inline"
   ]
  },
  {
   "cell_type": "markdown",
   "metadata": {},
   "source": [
    "\n",
    "Example: Masked statistics\n",
    "==========================\n",
    "\n",
    "Plot a masked statistics\n",
    "\n",
    "\n"
   ]
  },
  {
   "cell_type": "code",
   "execution_count": null,
   "metadata": {},
   "outputs": [],
   "source": [
    "import numpy as np\n",
    "import matplotlib.pyplot as plt\n",
    "\n",
    "data = np.loadtxt('../../../../data/populations.txt')\n",
    "populations = np.ma.masked_array(data[:,1:])\n",
    "year = data[:, 0]\n",
    "\n",
    "bad_years = (((year >= 1903) & (year <= 1910))\n",
    "            | ((year >= 1917) & (year <= 1918)))\n",
    "populations[bad_years, 0] = np.ma.masked\n",
    "populations[bad_years, 1] = np.ma.masked\n",
    "\n",
    "plt.plot(year, populations, 'o-') \n",
    "plt.show()"
   ]
  }
 ],
 "metadata": {
  "kernelspec": {
   "display_name": "Python 3",
   "language": "python",
   "name": "python3"
  },
  "language_info": {
   "codemirror_mode": {
    "name": "ipython",
    "version": 3
   },
   "file_extension": ".py",
   "mimetype": "text/x-python",
   "name": "python",
   "nbconvert_exporter": "python",
   "pygments_lexer": "ipython3",
   "version": "3.6.13"
  }
 },
 "nbformat": 4,
 "nbformat_minor": 0
}
