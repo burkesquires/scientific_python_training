{
 "cells": [
  {
   "cell_type": "code",
   "execution_count": null,
   "metadata": {},
   "outputs": [],
   "source": [
    "%matplotlib inline"
   ]
  },
  {
   "cell_type": "markdown",
   "metadata": {},
   "source": [
    "\n",
    "Analysis of Iris petal and sepal sizes\n",
    "=======================================\n",
    "\n",
    "Ilustrate an analysis on a real dataset:\n",
    "\n",
    "- Visualizing the data to formulate intuitions\n",
    "- Fitting of a linear model\n",
    "- Hypothesis test of the effect of a categorical variable in the presence\n",
    "  of a continuous confound\n",
    "\n",
    "\n"
   ]
  },
  {
   "cell_type": "code",
   "execution_count": null,
   "metadata": {},
   "outputs": [],
   "source": [
    "import matplotlib.pyplot as plt\n",
    "\n",
    "import pandas\n",
    "from pandas.tools import plotting\n",
    "\n",
    "from statsmodels.formula.api import ols\n",
    "\n",
    "# Load the data\n",
    "data = pandas.read_csv('iris.csv')"
   ]
  },
  {
   "cell_type": "markdown",
   "metadata": {},
   "source": [
    "Plot a scatter matrix\n",
    "\n"
   ]
  },
  {
   "cell_type": "code",
   "execution_count": null,
   "metadata": {},
   "outputs": [],
   "source": [
    "# Express the names as categories\n",
    "categories = pandas.Categorical(data['name'])\n",
    "\n",
    "# The parameter 'c' is passed to plt.scatter and will control the color\n",
    "plotting.scatter_matrix(data, c=categories.codes, marker='o')\n",
    "\n",
    "fig = plt.gcf()\n",
    "fig.suptitle(\"blue: setosa, green: versicolor, red: virginica\", size=13)"
   ]
  },
  {
   "cell_type": "markdown",
   "metadata": {},
   "source": [
    "Statistical analysis\n",
    "\n"
   ]
  },
  {
   "cell_type": "code",
   "execution_count": null,
   "metadata": {},
   "outputs": [],
   "source": [
    "# Let us try to explain the sepal length as a function of the petal\n",
    "# width and the category of iris\n",
    "\n",
    "model = ols('sepal_width ~ name + petal_length', data).fit()\n",
    "print(model.summary())\n",
    "\n",
    "# Now formulate a \"contrast\", to test if the offset for versicolor and\n",
    "# virginica are identical\n",
    "\n",
    "print('Testing the difference between effect of versicolor and virginica')\n",
    "print(model.f_test([0, 1, -1, 0]))\n",
    "plt.show()"
   ]
  }
 ],
 "metadata": {
  "kernelspec": {
   "display_name": "Python 3",
   "language": "python",
   "name": "python3"
  },
  "language_info": {
   "codemirror_mode": {
    "name": "ipython",
    "version": 3
   },
   "file_extension": ".py",
   "mimetype": "text/x-python",
   "name": "python",
   "nbconvert_exporter": "python",
   "pygments_lexer": "ipython3",
   "version": "3.6.13"
  }
 },
 "nbformat": 4,
 "nbformat_minor": 0
}
