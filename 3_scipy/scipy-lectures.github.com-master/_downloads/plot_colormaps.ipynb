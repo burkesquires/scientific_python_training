{
 "cells": [
  {
   "cell_type": "code",
   "execution_count": null,
   "metadata": {},
   "outputs": [],
   "source": [
    "%matplotlib inline"
   ]
  },
  {
   "cell_type": "markdown",
   "metadata": {},
   "source": [
    "\n",
    "Colormaps\n",
    "=========\n",
    "\n",
    "An example plotting the matplotlib colormaps.\n",
    "\n"
   ]
  },
  {
   "cell_type": "code",
   "execution_count": null,
   "metadata": {},
   "outputs": [],
   "source": [
    "import numpy as np\n",
    "import matplotlib.pyplot as plt\n",
    "\n",
    "plt.rc('text', usetex=False)\n",
    "a = np.outer(np.arange(0, 1, 0.01), np.ones(10))\n",
    "\n",
    "plt.figure(figsize=(10, 5))\n",
    "plt.subplots_adjust(top=0.8, bottom=0.05, left=0.01, right=0.99)\n",
    "maps = [m for m in plt.cm.datad if not m.endswith(\"_r\")]\n",
    "maps.sort()\n",
    "l = len(maps) + 1\n",
    "\n",
    "for i, m in enumerate(maps):\n",
    "    plt.subplot(1, l, i+1)\n",
    "    plt.axis(\"off\")\n",
    "    plt.imshow(a, aspect='auto', cmap=plt.get_cmap(m), origin=\"lower\")\n",
    "    plt.title(m, rotation=90, fontsize=10, va='bottom')\n",
    "\n",
    "plt.show()"
   ]
  }
 ],
 "metadata": {
  "kernelspec": {
   "display_name": "Python 3",
   "language": "python",
   "name": "python3"
  },
  "language_info": {
   "codemirror_mode": {
    "name": "ipython",
    "version": 3
   },
   "file_extension": ".py",
   "mimetype": "text/x-python",
   "name": "python",
   "nbconvert_exporter": "python",
   "pygments_lexer": "ipython3",
   "version": "3.6.13"
  }
 },
 "nbformat": 4,
 "nbformat_minor": 0
}
