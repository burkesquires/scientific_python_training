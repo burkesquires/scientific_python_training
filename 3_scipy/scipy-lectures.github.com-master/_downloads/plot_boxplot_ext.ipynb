{
 "cells": [
  {
   "cell_type": "code",
   "execution_count": null,
   "metadata": {},
   "outputs": [],
   "source": [
    "%matplotlib inline"
   ]
  },
  {
   "cell_type": "markdown",
   "metadata": {},
   "source": [
    "\n",
    "Boxplot with matplotlib\n",
    "=======================\n",
    "\n",
    "An example of doing box plots with matplotlib\n",
    "\n",
    "\n"
   ]
  },
  {
   "cell_type": "code",
   "execution_count": null,
   "metadata": {},
   "outputs": [],
   "source": [
    "import numpy as np\n",
    "import matplotlib.pyplot as plt\n",
    "\n",
    "\n",
    "fig = plt.figure(figsize=(8, 5))\n",
    "axes = plt.subplot(111)\n",
    "\n",
    "n = 5\n",
    "Z = np.zeros((n, 4))\n",
    "X = np.linspace(0, 2, n)\n",
    "Y = np.random.random((n, 4))\n",
    "plt.boxplot(Y)\n",
    "\n",
    "plt.xticks([])\n",
    "plt.yticks([])\n",
    "\n",
    "\n",
    "# Add a title and a box around it\n",
    "from matplotlib.patches import FancyBboxPatch\n",
    "ax = plt.gca()\n",
    "ax.add_patch(FancyBboxPatch((-0.05, .87),\n",
    "                            width=.66, height=.165, clip_on=False,\n",
    "                            boxstyle=\"square,pad=0\", zorder=3,\n",
    "                            facecolor='white', alpha=1.0,\n",
    "                            transform=plt.gca().transAxes))\n",
    "\n",
    "plt.text(-0.05, 1.02, \" Box Plot:   plt.boxplot(...)\\n \",\n",
    "        horizontalalignment='left',\n",
    "        verticalalignment='top',\n",
    "        size='xx-large',\n",
    "        transform=axes.transAxes)\n",
    "\n",
    "plt.text(-0.04, .98, \"\\n Make a box and whisker plot \",\n",
    "        horizontalalignment='left',\n",
    "        verticalalignment='top',\n",
    "        size='large',\n",
    "        transform=axes.transAxes)\n",
    "\n",
    "plt.show()"
   ]
  }
 ],
 "metadata": {
  "kernelspec": {
   "display_name": "Python 3",
   "language": "python",
   "name": "python3"
  },
  "language_info": {
   "codemirror_mode": {
    "name": "ipython",
    "version": 3
   },
   "file_extension": ".py",
   "mimetype": "text/x-python",
   "name": "python",
   "nbconvert_exporter": "python",
   "pygments_lexer": "ipython3",
   "version": "3.6.13"
  }
 },
 "nbformat": 4,
 "nbformat_minor": 0
}
