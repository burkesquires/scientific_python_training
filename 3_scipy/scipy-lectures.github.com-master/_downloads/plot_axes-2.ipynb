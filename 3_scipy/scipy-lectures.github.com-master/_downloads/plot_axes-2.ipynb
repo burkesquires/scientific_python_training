{
 "cells": [
  {
   "cell_type": "code",
   "execution_count": null,
   "metadata": {},
   "outputs": [],
   "source": [
    "%matplotlib inline"
   ]
  },
  {
   "cell_type": "markdown",
   "metadata": {},
   "source": [
    "\n",
    "Axes\n",
    "====\n",
    "\n",
    "This example shows various axes command to position matplotlib axes.\n",
    "\n",
    "\n"
   ]
  },
  {
   "cell_type": "code",
   "execution_count": null,
   "metadata": {},
   "outputs": [],
   "source": [
    "import matplotlib.pyplot as plt\n",
    "\n",
    "plt.axes([.1, .1, .5, .5])\n",
    "plt.xticks([])\n",
    "plt.yticks([])\n",
    "plt.text(.1, .1, 'axes([0.1, 0.1, 0.5, 0.5])', ha='left', va='center',\n",
    "        size=16, alpha=.5)\n",
    "\n",
    "plt.axes([.2, .2, .5, .5])\n",
    "plt.xticks([])\n",
    "plt.yticks([])\n",
    "plt.text(.1, .1, 'axes([0.2, 0.2, 0.5, 0.5])', ha='left', va='center',\n",
    "        size=16, alpha=.5)\n",
    "\n",
    "plt.axes([.3, .3, .5, .5])\n",
    "plt.xticks([])\n",
    "plt.yticks([])\n",
    "plt.text(.1, .1, 'axes([0.3, 0.3, 0.5, 0.5])', ha='left', va='center',\n",
    "        size=16, alpha=.5)\n",
    "\n",
    "plt.axes([.4, .4, .5, .5])\n",
    "plt.xticks([])\n",
    "plt.yticks([])\n",
    "plt.text(.1, .1, 'axes([0.4, 0.4, 0.5, 0.5])', ha='left', va='center',\n",
    "        size=16, alpha=.5)\n",
    "\n",
    "plt.show()"
   ]
  }
 ],
 "metadata": {
  "kernelspec": {
   "display_name": "Python 3",
   "language": "python",
   "name": "python3"
  },
  "language_info": {
   "codemirror_mode": {
    "name": "ipython",
    "version": 3
   },
   "file_extension": ".py",
   "mimetype": "text/x-python",
   "name": "python",
   "nbconvert_exporter": "python",
   "pygments_lexer": "ipython3",
   "version": "3.6.13"
  }
 },
 "nbformat": 4,
 "nbformat_minor": 0
}
