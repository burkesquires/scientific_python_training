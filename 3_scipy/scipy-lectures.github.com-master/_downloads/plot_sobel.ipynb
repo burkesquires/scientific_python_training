{
 "cells": [
  {
   "cell_type": "code",
   "execution_count": null,
   "metadata": {},
   "outputs": [],
   "source": [
    "%matplotlib inline"
   ]
  },
  {
   "cell_type": "markdown",
   "metadata": {},
   "source": [
    "\n",
    "Computing horizontal gradients with the Sobel filter\n",
    "=====================================================\n",
    "\n",
    "This example illustrates the use of the horizontal Sobel filter, to compute\n",
    "horizontal gradients.\n",
    "\n"
   ]
  },
  {
   "cell_type": "code",
   "execution_count": null,
   "metadata": {},
   "outputs": [],
   "source": [
    "from skimage import data\n",
    "from skimage import filters\n",
    "import matplotlib.pyplot as plt\n",
    "\n",
    "text = data.text()\n",
    "hsobel_text = filters.sobel_h(text)\n",
    "\n",
    "plt.figure(figsize=(12, 3))\n",
    "\n",
    "plt.subplot(121)\n",
    "plt.imshow(text, cmap='gray', interpolation='nearest')\n",
    "plt.axis('off')\n",
    "plt.subplot(122)\n",
    "plt.imshow(hsobel_text, cmap='nipy_spectral', interpolation='nearest')\n",
    "plt.axis('off')\n",
    "plt.tight_layout()\n",
    "plt.show()"
   ]
  }
 ],
 "metadata": {
  "kernelspec": {
   "display_name": "Python 3",
   "language": "python",
   "name": "python3"
  },
  "language_info": {
   "codemirror_mode": {
    "name": "ipython",
    "version": 3
   },
   "file_extension": ".py",
   "mimetype": "text/x-python",
   "name": "python",
   "nbconvert_exporter": "python",
   "pygments_lexer": "ipython3",
   "version": "3.6.13"
  }
 },
 "nbformat": 4,
 "nbformat_minor": 0
}
