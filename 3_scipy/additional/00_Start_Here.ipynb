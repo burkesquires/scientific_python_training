{
 "cells": [
  {
   "cell_type": "markdown",
   "metadata": {},
   "source": [
    "---\n",
    "- This presentation is part of the [__Scientific Python Training Series__](https://github.com/burkesquires/scientific_python_training)\n",
    "- Source: This notebook is adapted from [Elegant SciPy](https://github.com/elegant-scipy/elegant-scipy)\n",
    "---"
   ]
  },
  {
   "cell_type": "markdown",
   "metadata": {
    "tags": []
   },
   "source": [
    "[<img src=\"https://github.com/elegant-scipy/elegant-scipy/blob/master/_images/cover.jpg?raw=true\" alt=\"Elegant SciPy Cover\" style=\"width: 300px; padding-right: 3em;\">](https://www.oreilly.com/library/view/elegant-scipy/9781491922927/)\n",
    "\n",
    "# Contents\n",
    "\n",
    "- SciPy\n",
    "    - [Why SciPy](notebooks/why_scipy.ipynb)\n",
    "    - [SciPy Overview](notebooks/02_scipy_overview.ipynb)\n",
    "- (Elegant) Scipy\n",
    "    - [Elegant NumPy](notebooks/ch1.ipynb)\n",
    "    - [Quantile normalization](notebooks/ch2.ipynb)\n",
    "    - [Linear algebra in SciPy](notebooks/ch6.ipynb)\n",
    "    - [Function optimization in SciPy](notebooks/ch7.ipynb)\n",
    "    - [Contingency tables using sparse coordinate matrices](notebooks/ch5.ipynb)\n",
    "    - [Big Data in Little Laptop with Toolz](notebooks/ch8.ipynb)\n",
    "\n",
    "\n",
    "- Other\n",
    "    - Numpy\n",
    "        - [Introduction to Numpy](notebooks/01_intro_numpy.ipynb)\n",
    "    - [Networks of Image Regions](notebooks/ch3.ipynb)\n",
    "    - [Frequency and the fast Fourier transform](notebooks/ch4.ipynb)\n",
    "    - [Epilogue](notebooks/epilogue.ipynb)\n",
    "    - [SciPy - Library of scientific algorithms for Python](Documents/GitHub/scientific_python_training/3_scipy/notebooks/SciPy_Library_of_scientific_algorithms_for_Python.ipynb)"
   ]
  },
  {
   "cell_type": "code",
   "execution_count": null,
   "metadata": {},
   "outputs": [],
   "source": []
  }
 ],
 "metadata": {
  "kernelspec": {
   "display_name": "Python 3 (ipykernel)",
   "language": "python",
   "name": "python3"
  },
  "language_info": {
   "codemirror_mode": {
    "name": "ipython",
    "version": 3
   },
   "file_extension": ".py",
   "mimetype": "text/x-python",
   "name": "python",
   "nbconvert_exporter": "python",
   "pygments_lexer": "ipython3",
   "version": "3.9.12"
  }
 },
 "nbformat": 4,
 "nbformat_minor": 4
}
