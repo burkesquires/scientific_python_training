{
 "cells": [
  {
   "cell_type": "markdown",
   "id": "3ae83c72-af23-4527-8e75-2f77c12b24ad",
   "metadata": {},
   "source": [
    "# SciPy Interpolation"
   ]
  },
  {
   "cell_type": "markdown",
   "id": "bb85aaa5-d1ea-4259-82b6-d745f9e8a161",
   "metadata": {},
   "source": [
    "---\n",
    "\n",
    "Adapted from sources including: [Elegant SciPy](https://github.com/elegant-scipy), [SciPy-lectures](https://scipy-lectures.org/intro/scipy.html), [Scipython](https://scipython.com/book/), [W3Schools](https://www.w3schools.com/python/scipy/index.php)\n",
    "\n",
    "---"
   ]
  },
  {
   "cell_type": "markdown",
   "id": "8c68727d-a190-4412-a0eb-47d42c6b65ff",
   "metadata": {},
   "source": [
    "## What is Interpolation?"
   ]
  },
  {
   "cell_type": "markdown",
   "id": "5ecf200a-4690-4353-b6ec-e0b269527a53",
   "metadata": {},
   "source": [
    "Interpolation is a method for generating points between given points.\n",
    "\n",
    "For example: for points 1 and 2, we may interpolate and find points 1.33 and 1.66.\n",
    "\n",
    "Interpolation has many uses, in Machine Learning we often deal with missing data in a dataset, interpolation is often used to substitute those values.\n",
    "\n",
    "This method of filling values is called imputation.\n",
    "\n",
    "Apart from imputation, interpolation is often used where we need to smooth the discrete points in a dataset."
   ]
  },
  {
   "cell_type": "markdown",
   "id": "de87d53b-cf4e-422b-a0a0-a0d7f7ee6ae2",
   "metadata": {},
   "source": [
    "### How to Implement it in SciPy?"
   ]
  },
  {
   "cell_type": "markdown",
   "id": "fa3b8ce9-485f-42cf-a26f-e48fab2da5ea",
   "metadata": {},
   "source": [
    "SciPy provides us with a module called scipy.interpolate which has many functions to deal with interpolation:"
   ]
  },
  {
   "cell_type": "markdown",
   "id": "892d87b5-503d-42ce-af63-975500529080",
   "metadata": {},
   "source": [
    "### 1D Interpolation"
   ]
  },
  {
   "cell_type": "markdown",
   "id": "2b0dc924-9191-4b6f-a514-b104ad4fa659",
   "metadata": {},
   "source": [
    "The function interp1d() is used to interpolate a distribution with 1 variable.\n",
    "\n",
    "It takes x and y points and returns a callable function that can be called with new x and returns corresponding y.\n",
    "\n",
    "Example\n",
    "For given xs and ys interpolate values from 2.1, 2.2... to 2.9:"
   ]
  },
  {
   "cell_type": "markdown",
   "id": "6e09b76b-3b83-4a59-87c3-80fecd9d65c4",
   "metadata": {},
   "source": [
    "```python\n",
    "from scipy.interpolate import interp1d\n",
    "import numpy as np\n",
    "\n",
    "xs = np.arange(10)\n",
    "ys = 2*xs + 1\n",
    "\n",
    "interp_func = interp1d(xs, ys)\n",
    "\n",
    "newarr = interp_func(np.arange(2.1, 3, 0.1))\n",
    "\n",
    "print(newarr)\n",
    "```"
   ]
  },
  {
   "cell_type": "markdown",
   "id": "d7751722-d196-4a6b-841d-1f56fd6879f9",
   "metadata": {},
   "source": [
    "Result:\n",
    "\n",
    "  [5.2  5.4  5.6  5.8  6.   6.2  6.4  6.6  6.8]"
   ]
  },
  {
   "cell_type": "markdown",
   "id": "99556215-3880-4c1e-950e-bf39442eead4",
   "metadata": {},
   "source": [
    "#### Try it Yourself »"
   ]
  },
  {
   "cell_type": "code",
   "execution_count": null,
   "id": "4ebdde15-1726-4325-a262-92c8212ebc2d",
   "metadata": {},
   "outputs": [],
   "source": []
  },
  {
   "cell_type": "markdown",
   "id": "ff487e87-4cec-43b8-af2b-78b379361bf3",
   "metadata": {},
   "source": [
    "Note: that new xs should be in same range as of the old xs, meaning that we cant call interp_func() with values higher than 10, or less than 0."
   ]
  },
  {
   "cell_type": "markdown",
   "id": "60dd8a0d-f7cd-43a0-9fa2-63dd42375a92",
   "metadata": {},
   "source": [
    "### Spline Interpolation"
   ]
  },
  {
   "cell_type": "markdown",
   "id": "c61c7486-4740-4715-b566-1a010370c2da",
   "metadata": {},
   "source": [
    "In 1D interpolation the points are fitted for a single curve whereas in Spline interpolation the points are fitted against a piecewise function defined with polynomials called splines.\n",
    "\n",
    "The UnivariateSpline() function takes xs and ys and produce a callable funciton that can be called with new xs.\n",
    "\n",
    "Piecewise function: A function that has different definition for different ranges.\n",
    "\n",
    "Example\n",
    "Find univariate spline interpolation for 2.1, 2.2... 2.9 for the following non linear points:"
   ]
  },
  {
   "cell_type": "markdown",
   "id": "89e132db-ea49-4876-b523-95e8e2202c26",
   "metadata": {},
   "source": [
    "```python\n",
    "from scipy.interpolate import UnivariateSpline\n",
    "import numpy as np\n",
    "\n",
    "xs = np.arange(10)\n",
    "ys = xs**2 + np.sin(xs) + 1\n",
    "\n",
    "interp_func = UnivariateSpline(xs, ys)\n",
    "\n",
    "newarr = interp_func(np.arange(2.1, 3, 0.1)) \n",
    "\n",
    "print(newarr)\n",
    "```"
   ]
  },
  {
   "cell_type": "markdown",
   "id": "41e01a13-4d32-467d-9301-766925bf2e08",
   "metadata": {},
   "source": [
    "Result:\n",
    "\n",
    "  [5.62826474 6.03987348 6.47131994 6.92265019 7.3939103  7.88514634\n",
    "   8.39640439 8.92773053 9.47917082]"
   ]
  },
  {
   "cell_type": "markdown",
   "id": "62aa9f87-94de-4b87-8878-41dc2d707e8d",
   "metadata": {},
   "source": [
    "#### Try it Yourself »"
   ]
  },
  {
   "cell_type": "code",
   "execution_count": null,
   "id": "3f33baba-8c81-4e8a-a686-cbcfe32fa6ea",
   "metadata": {},
   "outputs": [],
   "source": []
  },
  {
   "cell_type": "markdown",
   "id": "e40628c4-2d79-4c31-bcf2-1d9c2e08a92b",
   "metadata": {},
   "source": [
    "### Interpolation with Radial Basis Function"
   ]
  },
  {
   "cell_type": "markdown",
   "id": "4f9e50f9-5b20-423a-91f1-333c1579ec6e",
   "metadata": {},
   "source": [
    "Radial basis function is a function that is defined corresponding to a fixed reference point.\n",
    "\n",
    "The Rbf() function also takes xs and ys as arguments and produces a callable function that can be called with new xs.\n",
    "\n",
    "Example\n",
    "Interpolate following xs and ys using rbf and find values for 2.1, 2.2 ... 2.9:"
   ]
  },
  {
   "cell_type": "markdown",
   "id": "9a397964-d252-4281-b77c-27eeb3c6b040",
   "metadata": {},
   "source": [
    "```python\n",
    "from scipy.interpolate import Rbf\n",
    "import numpy as np\n",
    "\n",
    "xs = np.arange(10)\n",
    "ys = xs**2 + np.sin(xs) + 1\n",
    "\n",
    "interp_func = Rbf(xs, ys)\n",
    "\n",
    "newarr = interp_func(np.arange(2.1, 3, 0.1))\n",
    "\n",
    "print(newarr)\n",
    "```"
   ]
  },
  {
   "cell_type": "markdown",
   "id": "fe17fcca-8a30-47bf-91a7-0f02da18d54d",
   "metadata": {},
   "source": [
    "Result:\n",
    "\n",
    "  [6.25748981  6.62190817  7.00310702  7.40121814  7.8161443   8.24773402\n",
    "   8.69590519  9.16070828  9.64233874]"
   ]
  },
  {
   "cell_type": "markdown",
   "id": "abc57b3b-7808-420e-9044-1f8dd742995f",
   "metadata": {},
   "source": [
    "#### Try it Yourself »"
   ]
  },
  {
   "cell_type": "code",
   "execution_count": null,
   "id": "928aece8-3862-4691-b273-23e4dab51f77",
   "metadata": {},
   "outputs": [],
   "source": []
  },
  {
   "cell_type": "markdown",
   "id": "e1bf1d8d-1f23-4a5c-88d7-8473ee58e4c4",
   "metadata": {},
   "source": [
    "### Test Yourself With Exercises"
   ]
  },
  {
   "cell_type": "markdown",
   "id": "32e9bb96-8ddf-4f8f-8b43-bec3a693331d",
   "metadata": {},
   "source": [
    "Exercise:\n",
    "Insert the missing method to find the univariate spline interpolation:\n",
    "\n",
    "```python\n",
    "from scipy.interpolate import \n",
    "import numpy as np\n",
    "\n",
    "xs = np.arange(10)\n",
    "ys = xs**2 + np.sin(xs) + 1\n",
    "\n",
    "interp_func = (xs, ys)\n",
    "```"
   ]
  },
  {
   "cell_type": "code",
   "execution_count": null,
   "id": "e8ceef8a-3c39-4338-ba65-c9ad1afd7d5c",
   "metadata": {},
   "outputs": [],
   "source": []
  }
 ],
 "metadata": {
  "kernelspec": {
   "display_name": "Python 3 (ipykernel)",
   "language": "python",
   "name": "python3"
  },
  "language_info": {
   "codemirror_mode": {
    "name": "ipython",
    "version": 3
   },
   "file_extension": ".py",
   "mimetype": "text/x-python",
   "name": "python",
   "nbconvert_exporter": "python",
   "pygments_lexer": "ipython3",
   "version": "3.9.12"
  }
 },
 "nbformat": 4,
 "nbformat_minor": 5
}
